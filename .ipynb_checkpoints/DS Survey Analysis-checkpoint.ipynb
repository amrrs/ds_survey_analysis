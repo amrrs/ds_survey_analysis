{
 "cells": [
  {
   "cell_type": "markdown",
   "metadata": {},
   "source": [
    "# Data Scientist Survey Analysis - Genevieve Hayes"
   ]
  },
  {
   "cell_type": "markdown",
   "metadata": {},
   "source": [
    "## Overview"
   ]
  },
  {
   "cell_type": "markdown",
   "metadata": {},
   "source": [
    "In 2012, the [***Harvard Business Review***](https://hbr.org/2012/10/data-scientist-the-sexiest-job-of-the-21st-century) named Data Scientist as the \"sexiest job of the 21st century\", and since then, Data Scientist has frequently featured in numerous top job lists, including [Glassdoor's best jobs in America list](https://www.forbes.com/sites/louiscolumbus/2018/01/29/data-scientist-is-the-best-job-in-america-according-glassdoors-2018-rankings/#1f57b7ad5535), which has consistently placed Data Scientist at number 1 position for the past three years. However, is being in the best job in America really any better than being in any other programming related roles, and has the sudden popularity of this profession made any impact of the types of people entering it. In this analysis, we will explore these questions by analysing data collected by Stack Overflow as part of their annual developer survey."
   ]
  },
  {
   "cell_type": "markdown",
   "metadata": {},
   "source": [
    "## Research Questions"
   ]
  },
  {
   "cell_type": "markdown",
   "metadata": {},
   "source": [
    "The motivation behind this analysis is to explore how data scientists compare with other non-data scientist software developers (subsequently referred to simply as \"non-data scientists\"). Consequently, in this analysis, we set out to answer the following questions:\n",
    "\n",
    "1. How does the demographic profile of data scientists differ from that of non-data scientists?\n",
    "2. What programming languages do data scientists favour and how do they differ from those used by non-data scientists?\n",
    "3. How much coding experience do data scientists have compared to non-data scientists?\n",
    "4. Are data scientists more satisfied with their jobs/careers than non-data scientists?"
   ]
  },
  {
   "cell_type": "markdown",
   "metadata": {},
   "source": [
    "## The Data"
   ]
  },
  {
   "cell_type": "markdown",
   "metadata": {},
   "source": [
    "In order to answer these questions, we make use of data collected by Stack Overflow in response to their 2018 (Annual) Developer Survey. This data can be downloaded from: <https://insights.stackoverflow.com/survey>. To get a feel for this data, we read in the data set and conduct some exploratory analysis below:"
   ]
  },
  {
   "cell_type": "code",
   "execution_count": 1,
   "metadata": {
    "collapsed": true
   },
   "outputs": [],
   "source": [
    "# Import libraries\n",
    "import pandas as pd\n",
    "import numpy as np\n",
    "from collections import Counter\n",
    "import matplotlib.pyplot as plt\n",
    "import seaborn as sns\n",
    "import scipy.stats\n",
    "import warnings\n",
    "\n",
    "warnings.simplefilter('ignore')\n",
    "%matplotlib inline"
   ]
  },
  {
   "cell_type": "code",
   "execution_count": 2,
   "metadata": {},
   "outputs": [
    {
     "data": {
      "text/html": [
       "<div>\n",
       "<style>\n",
       "    .dataframe thead tr:only-child th {\n",
       "        text-align: right;\n",
       "    }\n",
       "\n",
       "    .dataframe thead th {\n",
       "        text-align: left;\n",
       "    }\n",
       "\n",
       "    .dataframe tbody tr th {\n",
       "        vertical-align: top;\n",
       "    }\n",
       "</style>\n",
       "<table border=\"1\" class=\"dataframe\">\n",
       "  <thead>\n",
       "    <tr style=\"text-align: right;\">\n",
       "      <th></th>\n",
       "      <th>Respondent</th>\n",
       "      <th>Hobby</th>\n",
       "      <th>OpenSource</th>\n",
       "      <th>Country</th>\n",
       "      <th>Student</th>\n",
       "      <th>Employment</th>\n",
       "      <th>FormalEducation</th>\n",
       "      <th>UndergradMajor</th>\n",
       "      <th>CompanySize</th>\n",
       "      <th>DevType</th>\n",
       "      <th>...</th>\n",
       "      <th>Exercise</th>\n",
       "      <th>Gender</th>\n",
       "      <th>SexualOrientation</th>\n",
       "      <th>EducationParents</th>\n",
       "      <th>RaceEthnicity</th>\n",
       "      <th>Age</th>\n",
       "      <th>Dependents</th>\n",
       "      <th>MilitaryUS</th>\n",
       "      <th>SurveyTooLong</th>\n",
       "      <th>SurveyEasy</th>\n",
       "    </tr>\n",
       "  </thead>\n",
       "  <tbody>\n",
       "    <tr>\n",
       "      <th>0</th>\n",
       "      <td>1</td>\n",
       "      <td>Yes</td>\n",
       "      <td>No</td>\n",
       "      <td>Kenya</td>\n",
       "      <td>No</td>\n",
       "      <td>Employed part-time</td>\n",
       "      <td>Bachelor’s degree (BA, BS, B.Eng., etc.)</td>\n",
       "      <td>Mathematics or statistics</td>\n",
       "      <td>20 to 99 employees</td>\n",
       "      <td>Full-stack developer</td>\n",
       "      <td>...</td>\n",
       "      <td>3 - 4 times per week</td>\n",
       "      <td>Male</td>\n",
       "      <td>Straight or heterosexual</td>\n",
       "      <td>Bachelor’s degree (BA, BS, B.Eng., etc.)</td>\n",
       "      <td>Black or of African descent</td>\n",
       "      <td>25 - 34 years old</td>\n",
       "      <td>Yes</td>\n",
       "      <td>NaN</td>\n",
       "      <td>The survey was an appropriate length</td>\n",
       "      <td>Very easy</td>\n",
       "    </tr>\n",
       "    <tr>\n",
       "      <th>1</th>\n",
       "      <td>3</td>\n",
       "      <td>Yes</td>\n",
       "      <td>Yes</td>\n",
       "      <td>United Kingdom</td>\n",
       "      <td>No</td>\n",
       "      <td>Employed full-time</td>\n",
       "      <td>Bachelor’s degree (BA, BS, B.Eng., etc.)</td>\n",
       "      <td>A natural science (ex. biology, chemistry, phy...</td>\n",
       "      <td>10,000 or more employees</td>\n",
       "      <td>Database administrator;DevOps specialist;Full-...</td>\n",
       "      <td>...</td>\n",
       "      <td>Daily or almost every day</td>\n",
       "      <td>Male</td>\n",
       "      <td>Straight or heterosexual</td>\n",
       "      <td>Bachelor’s degree (BA, BS, B.Eng., etc.)</td>\n",
       "      <td>White or of European descent</td>\n",
       "      <td>35 - 44 years old</td>\n",
       "      <td>Yes</td>\n",
       "      <td>NaN</td>\n",
       "      <td>The survey was an appropriate length</td>\n",
       "      <td>Somewhat easy</td>\n",
       "    </tr>\n",
       "    <tr>\n",
       "      <th>2</th>\n",
       "      <td>4</td>\n",
       "      <td>Yes</td>\n",
       "      <td>Yes</td>\n",
       "      <td>United States</td>\n",
       "      <td>No</td>\n",
       "      <td>Employed full-time</td>\n",
       "      <td>Associate degree</td>\n",
       "      <td>Computer science, computer engineering, or sof...</td>\n",
       "      <td>20 to 99 employees</td>\n",
       "      <td>Engineering manager;Full-stack developer</td>\n",
       "      <td>...</td>\n",
       "      <td>NaN</td>\n",
       "      <td>NaN</td>\n",
       "      <td>NaN</td>\n",
       "      <td>NaN</td>\n",
       "      <td>NaN</td>\n",
       "      <td>NaN</td>\n",
       "      <td>NaN</td>\n",
       "      <td>NaN</td>\n",
       "      <td>NaN</td>\n",
       "      <td>NaN</td>\n",
       "    </tr>\n",
       "    <tr>\n",
       "      <th>3</th>\n",
       "      <td>5</td>\n",
       "      <td>No</td>\n",
       "      <td>No</td>\n",
       "      <td>United States</td>\n",
       "      <td>No</td>\n",
       "      <td>Employed full-time</td>\n",
       "      <td>Bachelor’s degree (BA, BS, B.Eng., etc.)</td>\n",
       "      <td>Computer science, computer engineering, or sof...</td>\n",
       "      <td>100 to 499 employees</td>\n",
       "      <td>Full-stack developer</td>\n",
       "      <td>...</td>\n",
       "      <td>I don't typically exercise</td>\n",
       "      <td>Male</td>\n",
       "      <td>Straight or heterosexual</td>\n",
       "      <td>Some college/university study without earning ...</td>\n",
       "      <td>White or of European descent</td>\n",
       "      <td>35 - 44 years old</td>\n",
       "      <td>No</td>\n",
       "      <td>No</td>\n",
       "      <td>The survey was an appropriate length</td>\n",
       "      <td>Somewhat easy</td>\n",
       "    </tr>\n",
       "    <tr>\n",
       "      <th>4</th>\n",
       "      <td>7</td>\n",
       "      <td>Yes</td>\n",
       "      <td>No</td>\n",
       "      <td>South Africa</td>\n",
       "      <td>Yes, part-time</td>\n",
       "      <td>Employed full-time</td>\n",
       "      <td>Some college/university study without earning ...</td>\n",
       "      <td>Computer science, computer engineering, or sof...</td>\n",
       "      <td>10,000 or more employees</td>\n",
       "      <td>Data or business analyst;Desktop or enterprise...</td>\n",
       "      <td>...</td>\n",
       "      <td>3 - 4 times per week</td>\n",
       "      <td>Male</td>\n",
       "      <td>Straight or heterosexual</td>\n",
       "      <td>Some college/university study without earning ...</td>\n",
       "      <td>White or of European descent</td>\n",
       "      <td>18 - 24 years old</td>\n",
       "      <td>Yes</td>\n",
       "      <td>NaN</td>\n",
       "      <td>The survey was an appropriate length</td>\n",
       "      <td>Somewhat easy</td>\n",
       "    </tr>\n",
       "  </tbody>\n",
       "</table>\n",
       "<p>5 rows × 129 columns</p>\n",
       "</div>"
      ],
      "text/plain": [
       "   Respondent Hobby OpenSource         Country         Student  \\\n",
       "0           1   Yes         No           Kenya              No   \n",
       "1           3   Yes        Yes  United Kingdom              No   \n",
       "2           4   Yes        Yes   United States              No   \n",
       "3           5    No         No   United States              No   \n",
       "4           7   Yes         No    South Africa  Yes, part-time   \n",
       "\n",
       "           Employment                                    FormalEducation  \\\n",
       "0  Employed part-time           Bachelor’s degree (BA, BS, B.Eng., etc.)   \n",
       "1  Employed full-time           Bachelor’s degree (BA, BS, B.Eng., etc.)   \n",
       "2  Employed full-time                                   Associate degree   \n",
       "3  Employed full-time           Bachelor’s degree (BA, BS, B.Eng., etc.)   \n",
       "4  Employed full-time  Some college/university study without earning ...   \n",
       "\n",
       "                                      UndergradMajor  \\\n",
       "0                          Mathematics or statistics   \n",
       "1  A natural science (ex. biology, chemistry, phy...   \n",
       "2  Computer science, computer engineering, or sof...   \n",
       "3  Computer science, computer engineering, or sof...   \n",
       "4  Computer science, computer engineering, or sof...   \n",
       "\n",
       "                CompanySize  \\\n",
       "0        20 to 99 employees   \n",
       "1  10,000 or more employees   \n",
       "2        20 to 99 employees   \n",
       "3      100 to 499 employees   \n",
       "4  10,000 or more employees   \n",
       "\n",
       "                                             DevType      ...        \\\n",
       "0                               Full-stack developer      ...         \n",
       "1  Database administrator;DevOps specialist;Full-...      ...         \n",
       "2           Engineering manager;Full-stack developer      ...         \n",
       "3                               Full-stack developer      ...         \n",
       "4  Data or business analyst;Desktop or enterprise...      ...         \n",
       "\n",
       "                     Exercise Gender         SexualOrientation  \\\n",
       "0        3 - 4 times per week   Male  Straight or heterosexual   \n",
       "1   Daily or almost every day   Male  Straight or heterosexual   \n",
       "2                         NaN    NaN                       NaN   \n",
       "3  I don't typically exercise   Male  Straight or heterosexual   \n",
       "4        3 - 4 times per week   Male  Straight or heterosexual   \n",
       "\n",
       "                                    EducationParents  \\\n",
       "0           Bachelor’s degree (BA, BS, B.Eng., etc.)   \n",
       "1           Bachelor’s degree (BA, BS, B.Eng., etc.)   \n",
       "2                                                NaN   \n",
       "3  Some college/university study without earning ...   \n",
       "4  Some college/university study without earning ...   \n",
       "\n",
       "                  RaceEthnicity                Age Dependents  MilitaryUS  \\\n",
       "0   Black or of African descent  25 - 34 years old        Yes         NaN   \n",
       "1  White or of European descent  35 - 44 years old        Yes         NaN   \n",
       "2                           NaN                NaN        NaN         NaN   \n",
       "3  White or of European descent  35 - 44 years old         No          No   \n",
       "4  White or of European descent  18 - 24 years old        Yes         NaN   \n",
       "\n",
       "                          SurveyTooLong     SurveyEasy  \n",
       "0  The survey was an appropriate length      Very easy  \n",
       "1  The survey was an appropriate length  Somewhat easy  \n",
       "2                                   NaN            NaN  \n",
       "3  The survey was an appropriate length  Somewhat easy  \n",
       "4  The survey was an appropriate length  Somewhat easy  \n",
       "\n",
       "[5 rows x 129 columns]"
      ]
     },
     "execution_count": 2,
     "metadata": {},
     "output_type": "execute_result"
    }
   ],
   "source": [
    "# Read in dataset\n",
    "survey = pd.read_csv(\"../Data/developer_survey_2018/survey_results_public.csv\")\n",
    "survey.head()"
   ]
  },
  {
   "cell_type": "code",
   "execution_count": 3,
   "metadata": {},
   "outputs": [
    {
     "name": "stdout",
     "output_type": "stream",
     "text": [
      "The dataset contains 98855 rows and 129 columns.\n"
     ]
    }
   ],
   "source": [
    "# Print shape of dataset\n",
    "print('The dataset contains', np.shape(survey)[0], 'rows and', np.shape(survey)[1], 'columns.')"
   ]
  },
  {
   "cell_type": "code",
   "execution_count": 4,
   "metadata": {},
   "outputs": [
    {
     "data": {
      "text/plain": [
       "['Respondent',\n",
       " 'Hobby',\n",
       " 'OpenSource',\n",
       " 'Country',\n",
       " 'Student',\n",
       " 'Employment',\n",
       " 'FormalEducation',\n",
       " 'UndergradMajor',\n",
       " 'CompanySize',\n",
       " 'DevType',\n",
       " 'YearsCoding',\n",
       " 'YearsCodingProf',\n",
       " 'JobSatisfaction',\n",
       " 'CareerSatisfaction',\n",
       " 'HopeFiveYears',\n",
       " 'JobSearchStatus',\n",
       " 'LastNewJob',\n",
       " 'AssessJob1',\n",
       " 'AssessJob2',\n",
       " 'AssessJob3',\n",
       " 'AssessJob4',\n",
       " 'AssessJob5',\n",
       " 'AssessJob6',\n",
       " 'AssessJob7',\n",
       " 'AssessJob8',\n",
       " 'AssessJob9',\n",
       " 'AssessJob10',\n",
       " 'AssessBenefits1',\n",
       " 'AssessBenefits2',\n",
       " 'AssessBenefits3',\n",
       " 'AssessBenefits4',\n",
       " 'AssessBenefits5',\n",
       " 'AssessBenefits6',\n",
       " 'AssessBenefits7',\n",
       " 'AssessBenefits8',\n",
       " 'AssessBenefits9',\n",
       " 'AssessBenefits10',\n",
       " 'AssessBenefits11',\n",
       " 'JobContactPriorities1',\n",
       " 'JobContactPriorities2',\n",
       " 'JobContactPriorities3',\n",
       " 'JobContactPriorities4',\n",
       " 'JobContactPriorities5',\n",
       " 'JobEmailPriorities1',\n",
       " 'JobEmailPriorities2',\n",
       " 'JobEmailPriorities3',\n",
       " 'JobEmailPriorities4',\n",
       " 'JobEmailPriorities5',\n",
       " 'JobEmailPriorities6',\n",
       " 'JobEmailPriorities7',\n",
       " 'UpdateCV',\n",
       " 'Currency',\n",
       " 'Salary',\n",
       " 'SalaryType',\n",
       " 'ConvertedSalary',\n",
       " 'CurrencySymbol',\n",
       " 'CommunicationTools',\n",
       " 'TimeFullyProductive',\n",
       " 'EducationTypes',\n",
       " 'SelfTaughtTypes',\n",
       " 'TimeAfterBootcamp',\n",
       " 'HackathonReasons',\n",
       " 'AgreeDisagree1',\n",
       " 'AgreeDisagree2',\n",
       " 'AgreeDisagree3',\n",
       " 'LanguageWorkedWith',\n",
       " 'LanguageDesireNextYear',\n",
       " 'DatabaseWorkedWith',\n",
       " 'DatabaseDesireNextYear',\n",
       " 'PlatformWorkedWith',\n",
       " 'PlatformDesireNextYear',\n",
       " 'FrameworkWorkedWith',\n",
       " 'FrameworkDesireNextYear',\n",
       " 'IDE',\n",
       " 'OperatingSystem',\n",
       " 'NumberMonitors',\n",
       " 'Methodology',\n",
       " 'VersionControl',\n",
       " 'CheckInCode',\n",
       " 'AdBlocker',\n",
       " 'AdBlockerDisable',\n",
       " 'AdBlockerReasons',\n",
       " 'AdsAgreeDisagree1',\n",
       " 'AdsAgreeDisagree2',\n",
       " 'AdsAgreeDisagree3',\n",
       " 'AdsActions',\n",
       " 'AdsPriorities1',\n",
       " 'AdsPriorities2',\n",
       " 'AdsPriorities3',\n",
       " 'AdsPriorities4',\n",
       " 'AdsPriorities5',\n",
       " 'AdsPriorities6',\n",
       " 'AdsPriorities7',\n",
       " 'AIDangerous',\n",
       " 'AIInteresting',\n",
       " 'AIResponsible',\n",
       " 'AIFuture',\n",
       " 'EthicsChoice',\n",
       " 'EthicsReport',\n",
       " 'EthicsResponsible',\n",
       " 'EthicalImplications',\n",
       " 'StackOverflowRecommend',\n",
       " 'StackOverflowVisit',\n",
       " 'StackOverflowHasAccount',\n",
       " 'StackOverflowParticipate',\n",
       " 'StackOverflowJobs',\n",
       " 'StackOverflowDevStory',\n",
       " 'StackOverflowJobsRecommend',\n",
       " 'StackOverflowConsiderMember',\n",
       " 'HypotheticalTools1',\n",
       " 'HypotheticalTools2',\n",
       " 'HypotheticalTools3',\n",
       " 'HypotheticalTools4',\n",
       " 'HypotheticalTools5',\n",
       " 'WakeTime',\n",
       " 'HoursComputer',\n",
       " 'HoursOutside',\n",
       " 'SkipMeals',\n",
       " 'ErgonomicDevices',\n",
       " 'Exercise',\n",
       " 'Gender',\n",
       " 'SexualOrientation',\n",
       " 'EducationParents',\n",
       " 'RaceEthnicity',\n",
       " 'Age',\n",
       " 'Dependents',\n",
       " 'MilitaryUS',\n",
       " 'SurveyTooLong',\n",
       " 'SurveyEasy']"
      ]
     },
     "execution_count": 4,
     "metadata": {},
     "output_type": "execute_result"
    }
   ],
   "source": [
    "# Print column names\n",
    "list(survey.columns.values)"
   ]
  },
  {
   "cell_type": "markdown",
   "metadata": {
    "collapsed": true
   },
   "source": [
    "Most columns are unnecessary in order to answer our research questions. For convenience we keep just the necessary columns and drop the rest."
   ]
  },
  {
   "cell_type": "code",
   "execution_count": 5,
   "metadata": {
    "collapsed": true
   },
   "outputs": [],
   "source": [
    "# Drop unnecessary columns\n",
    "survey = survey[['Respondent', 'DevType', 'Gender', 'Age', 'FormalEducation', 'UndergradMajor', \n",
    "                 'EducationTypes', 'SelfTaughtTypes', 'LanguageWorkedWith', 'YearsCoding', \n",
    "                 'YearsCodingProf', 'JobSatisfaction', 'CareerSatisfaction']]"
   ]
  },
  {
   "cell_type": "markdown",
   "metadata": {},
   "source": [
    "As we are interested in comparing data scientists to non-data scientists, we need to be able to differentiate between the two. This is done using the `DevType` field. As a result, we should drop any rows where this field is missing, since we can't determine which subset these rows fit into."
   ]
  },
  {
   "cell_type": "code",
   "execution_count": 6,
   "metadata": {
    "collapsed": true
   },
   "outputs": [],
   "source": [
    "# Delete rows where DevType is missing\n",
    "survey = survey[pd.notnull(survey['DevType'])]"
   ]
  },
  {
   "cell_type": "code",
   "execution_count": 7,
   "metadata": {},
   "outputs": [
    {
     "name": "stdout",
     "output_type": "stream",
     "text": [
      "The reduced dataset contains 92098 rows and 13 columns.\n"
     ]
    }
   ],
   "source": [
    "# Print size of reduced dataset\n",
    "print('The reduced dataset contains', np.shape(survey)[0], 'rows and', np.shape(survey)[1], 'columns.')"
   ]
  },
  {
   "cell_type": "markdown",
   "metadata": {},
   "source": [
    "Making these adjustments removes 6757 rows and 116 columns from our dataset. Let's look at the descriptive statistics for these fields."
   ]
  },
  {
   "cell_type": "code",
   "execution_count": 8,
   "metadata": {},
   "outputs": [
    {
     "data": {
      "text/html": [
       "<div>\n",
       "<style>\n",
       "    .dataframe thead tr:only-child th {\n",
       "        text-align: right;\n",
       "    }\n",
       "\n",
       "    .dataframe thead th {\n",
       "        text-align: left;\n",
       "    }\n",
       "\n",
       "    .dataframe tbody tr th {\n",
       "        vertical-align: top;\n",
       "    }\n",
       "</style>\n",
       "<table border=\"1\" class=\"dataframe\">\n",
       "  <thead>\n",
       "    <tr style=\"text-align: right;\">\n",
       "      <th></th>\n",
       "      <th>DevType</th>\n",
       "      <th>Gender</th>\n",
       "      <th>Age</th>\n",
       "      <th>FormalEducation</th>\n",
       "      <th>UndergradMajor</th>\n",
       "      <th>EducationTypes</th>\n",
       "      <th>SelfTaughtTypes</th>\n",
       "      <th>LanguageWorkedWith</th>\n",
       "      <th>YearsCoding</th>\n",
       "      <th>YearsCodingProf</th>\n",
       "      <th>JobSatisfaction</th>\n",
       "      <th>CareerSatisfaction</th>\n",
       "    </tr>\n",
       "  </thead>\n",
       "  <tbody>\n",
       "    <tr>\n",
       "      <th>count</th>\n",
       "      <td>92098</td>\n",
       "      <td>63321</td>\n",
       "      <td>63423</td>\n",
       "      <td>90161</td>\n",
       "      <td>77589</td>\n",
       "      <td>66698</td>\n",
       "      <td>56332</td>\n",
       "      <td>76865</td>\n",
       "      <td>92021</td>\n",
       "      <td>77362</td>\n",
       "      <td>68839</td>\n",
       "      <td>75996</td>\n",
       "    </tr>\n",
       "    <tr>\n",
       "      <th>unique</th>\n",
       "      <td>9568</td>\n",
       "      <td>15</td>\n",
       "      <td>7</td>\n",
       "      <td>9</td>\n",
       "      <td>12</td>\n",
       "      <td>494</td>\n",
       "      <td>470</td>\n",
       "      <td>26271</td>\n",
       "      <td>11</td>\n",
       "      <td>11</td>\n",
       "      <td>7</td>\n",
       "      <td>7</td>\n",
       "    </tr>\n",
       "    <tr>\n",
       "      <th>top</th>\n",
       "      <td>Back-end developer</td>\n",
       "      <td>Male</td>\n",
       "      <td>25 - 34 years old</td>\n",
       "      <td>Bachelor’s degree (BA, BS, B.Eng., etc.)</td>\n",
       "      <td>Computer science, computer engineering, or sof...</td>\n",
       "      <td>Taught yourself a new language, framework, or ...</td>\n",
       "      <td>The official documentation and/or standards fo...</td>\n",
       "      <td>C#;JavaScript;SQL;HTML;CSS</td>\n",
       "      <td>3-5 years</td>\n",
       "      <td>0-2 years</td>\n",
       "      <td>Moderately satisfied</td>\n",
       "      <td>Moderately satisfied</td>\n",
       "    </tr>\n",
       "    <tr>\n",
       "      <th>freq</th>\n",
       "      <td>6417</td>\n",
       "      <td>58426</td>\n",
       "      <td>31277</td>\n",
       "      <td>41848</td>\n",
       "      <td>49641</td>\n",
       "      <td>6708</td>\n",
       "      <td>3377</td>\n",
       "      <td>1339</td>\n",
       "      <td>22918</td>\n",
       "      <td>23284</td>\n",
       "      <td>25854</td>\n",
       "      <td>27747</td>\n",
       "    </tr>\n",
       "  </tbody>\n",
       "</table>\n",
       "</div>"
      ],
      "text/plain": [
       "                   DevType Gender                Age  \\\n",
       "count                92098  63321              63423   \n",
       "unique                9568     15                  7   \n",
       "top     Back-end developer   Male  25 - 34 years old   \n",
       "freq                  6417  58426              31277   \n",
       "\n",
       "                                 FormalEducation  \\\n",
       "count                                      90161   \n",
       "unique                                         9   \n",
       "top     Bachelor’s degree (BA, BS, B.Eng., etc.)   \n",
       "freq                                       41848   \n",
       "\n",
       "                                           UndergradMajor  \\\n",
       "count                                               77589   \n",
       "unique                                                 12   \n",
       "top     Computer science, computer engineering, or sof...   \n",
       "freq                                                49641   \n",
       "\n",
       "                                           EducationTypes  \\\n",
       "count                                               66698   \n",
       "unique                                                494   \n",
       "top     Taught yourself a new language, framework, or ...   \n",
       "freq                                                 6708   \n",
       "\n",
       "                                          SelfTaughtTypes  \\\n",
       "count                                               56332   \n",
       "unique                                                470   \n",
       "top     The official documentation and/or standards fo...   \n",
       "freq                                                 3377   \n",
       "\n",
       "                LanguageWorkedWith YearsCoding YearsCodingProf  \\\n",
       "count                        76865       92021           77362   \n",
       "unique                       26271          11              11   \n",
       "top     C#;JavaScript;SQL;HTML;CSS   3-5 years       0-2 years   \n",
       "freq                          1339       22918           23284   \n",
       "\n",
       "             JobSatisfaction    CareerSatisfaction  \n",
       "count                  68839                 75996  \n",
       "unique                     7                     7  \n",
       "top     Moderately satisfied  Moderately satisfied  \n",
       "freq                   25854                 27747  "
      ]
     },
     "execution_count": 8,
     "metadata": {},
     "output_type": "execute_result"
    }
   ],
   "source": [
    "# Look at descriptive statistics for data (ignore Respondent since this is just an ID field)\n",
    "survey.drop(['Respondent'], axis = 1).describe()"
   ]
  },
  {
   "cell_type": "markdown",
   "metadata": {},
   "source": [
    "All fields are text fields, including fields that we would expect to be numeric, such as `Age`. Some fields contain a very large number of unique values (e.g. `LanguageWorkedWith`). This is because for some fields, multiple selections were allowed, and all selections are concatenated together in a single string. The number of missing values varies from column to column. \n",
    "\n",
    "Let's look at the unique values for each of these features."
   ]
  },
  {
   "cell_type": "code",
   "execution_count": 9,
   "metadata": {},
   "outputs": [
    {
     "data": {
      "text/plain": [
       "Back-end developer                                                              6417\n",
       "Full-stack developer                                                            6104\n",
       "Back-end developer;Front-end developer;Full-stack developer                     4460\n",
       "Mobile developer                                                                3518\n",
       "Student                                                                         3222\n",
       "Back-end developer;Full-stack developer                                         3128\n",
       "Front-end developer                                                             2608\n",
       "Front-end developer;Full-stack developer                                        1117\n",
       "Back-end developer;Front-end developer                                          1030\n",
       "Back-end developer;Front-end developer;Full-stack developer;Mobile developer    1008\n",
       "Name: DevType, dtype: int64"
      ]
     },
     "execution_count": 9,
     "metadata": {},
     "output_type": "execute_result"
    }
   ],
   "source": [
    "# Display (top 10) value counts for DevType\n",
    "survey['DevType'].value_counts().nlargest(10)"
   ]
  },
  {
   "cell_type": "code",
   "execution_count": 10,
   "metadata": {},
   "outputs": [
    {
     "data": {
      "text/plain": [
       "Male                                                                         58426\n",
       "Female                                                                        3930\n",
       "Non-binary, genderqueer, or gender non-conforming                              272\n",
       "Female;Transgender                                                             143\n",
       "Male;Non-binary, genderqueer, or gender non-conforming                         127\n",
       "Transgender                                                                    103\n",
       "Female;Male                                                                     97\n",
       "Transgender;Non-binary, genderqueer, or gender non-conforming                   51\n",
       "Female;Non-binary, genderqueer, or gender non-conforming                        50\n",
       "Female;Male;Transgender;Non-binary, genderqueer, or gender non-conforming       48\n",
       "Male;Transgender                                                                29\n",
       "Female;Transgender;Non-binary, genderqueer, or gender non-conforming            23\n",
       "Female;Male;Transgender                                                         14\n",
       "Male;Transgender;Non-binary, genderqueer, or gender non-conforming               5\n",
       "Female;Male;Non-binary, genderqueer, or gender non-conforming                    3\n",
       "Name: Gender, dtype: int64"
      ]
     },
     "execution_count": 10,
     "metadata": {},
     "output_type": "execute_result"
    }
   ],
   "source": [
    "# Display value counts for Gender\n",
    "survey['Gender'].value_counts()"
   ]
  },
  {
   "cell_type": "markdown",
   "metadata": {},
   "source": [
    "The majority of respondents identify themselves as either male or female. All other responses could be grouped together into a single \"other\" category for simplicity."
   ]
  },
  {
   "cell_type": "code",
   "execution_count": 11,
   "metadata": {},
   "outputs": [
    {
     "data": {
      "text/plain": [
       "25 - 34 years old     31277\n",
       "18 - 24 years old     15022\n",
       "35 - 44 years old     11250\n",
       "45 - 54 years old      3209\n",
       "Under 18 years old     1592\n",
       "55 - 64 years old       908\n",
       "65 years or older       165\n",
       "Name: Age, dtype: int64"
      ]
     },
     "execution_count": 11,
     "metadata": {},
     "output_type": "execute_result"
    }
   ],
   "source": [
    "# Display value counts for Age\n",
    "survey['Age'].value_counts()"
   ]
  },
  {
   "cell_type": "markdown",
   "metadata": {},
   "source": [
    "Ages are given as ranges, but we would like to be able to calculate summary statistics for this field. To do so, we can create a numeric field where the age of each respondent is esimated as the mid-point of the range."
   ]
  },
  {
   "cell_type": "code",
   "execution_count": 12,
   "metadata": {},
   "outputs": [
    {
     "data": {
      "text/plain": [
       "Bachelor’s degree (BA, BS, B.Eng., etc.)                                              41848\n",
       "Master’s degree (MA, MS, M.Eng., MBA, etc.)                                           20399\n",
       "Some college/university study without earning a degree                                11070\n",
       "Secondary school (e.g. American high school, German Realschule or Gymnasium, etc.)     8510\n",
       "Associate degree                                                                       2798\n",
       "Other doctoral degree (Ph.D, Ed.D., etc.)                                              2056\n",
       "Primary/elementary school                                                              1545\n",
       "Professional degree (JD, MD, etc.)                                                     1318\n",
       "I never completed any formal education                                                  617\n",
       "Name: FormalEducation, dtype: int64"
      ]
     },
     "execution_count": 12,
     "metadata": {},
     "output_type": "execute_result"
    }
   ],
   "source": [
    "# Display value counts for FormalEducation\n",
    "survey['FormalEducation'].value_counts()"
   ]
  },
  {
   "cell_type": "code",
   "execution_count": 13,
   "metadata": {},
   "outputs": [
    {
     "data": {
      "text/plain": [
       "Computer science, computer engineering, or software engineering          49641\n",
       "Another engineering discipline (ex. civil, electrical, mechanical)        6716\n",
       "Information systems, information technology, or system administration     6412\n",
       "A natural science (ex. biology, chemistry, physics)                       2931\n",
       "Mathematics or statistics                                                 2739\n",
       "Web development or web design                                             2401\n",
       "A business discipline (ex. accounting, finance, marketing)                1864\n",
       "A humanities discipline (ex. literature, history, philosophy)             1543\n",
       "A social science (ex. anthropology, psychology, political science)        1333\n",
       "Fine arts or performing arts (ex. graphic design, music, studio art)      1111\n",
       "I never declared a major                                                   664\n",
       "A health science (ex. nursing, pharmacy, radiology)                        234\n",
       "Name: UndergradMajor, dtype: int64"
      ]
     },
     "execution_count": 13,
     "metadata": {},
     "output_type": "execute_result"
    }
   ],
   "source": [
    "# Display value counts for UndergradMajor\n",
    "survey['UndergradMajor'].value_counts()"
   ]
  },
  {
   "cell_type": "markdown",
   "metadata": {},
   "source": [
    "For both `FormalEducation` and `UndergradMajor`, several of the categories could be grouped together for simplicity. Also, category names could be shortened, to make it easier to use as labels when creating graphs."
   ]
  },
  {
   "cell_type": "code",
   "execution_count": 14,
   "metadata": {},
   "outputs": [
    {
     "data": {
      "text/plain": [
       "Taught yourself a new language, framework, or tool without taking a formal course                                                                                                                                                                 6708\n",
       "Taken an online course in programming or software development (e.g. a MOOC);Taught yourself a new language, framework, or tool without taking a formal course                                                                                     4381\n",
       "Taught yourself a new language, framework, or tool without taking a formal course;Contributed to open source software                                                                                                                             3994\n",
       "Received on-the-job training in software development;Taught yourself a new language, framework, or tool without taking a formal course                                                                                                            2336\n",
       "Taken an online course in programming or software development (e.g. a MOOC);Taught yourself a new language, framework, or tool without taking a formal course;Contributed to open source software                                                 2166\n",
       "Taken an online course in programming or software development (e.g. a MOOC);Received on-the-job training in software development;Taught yourself a new language, framework, or tool without taking a formal course                                1973\n",
       "Received on-the-job training in software development;Taught yourself a new language, framework, or tool without taking a formal course;Contributed to open source software                                                                        1350\n",
       "Taught yourself a new language, framework, or tool without taking a formal course;Participated in a hackathon;Contributed to open source software                                                                                                 1224\n",
       "Taken an online course in programming or software development (e.g. a MOOC)                                                                                                                                                                       1198\n",
       "Taken an online course in programming or software development (e.g. a MOOC);Taught yourself a new language, framework, or tool without taking a formal course;Participated in online coding competitions (e.g. HackerRank, CodeChef, TopCoder)    1134\n",
       "Name: EducationTypes, dtype: int64"
      ]
     },
     "execution_count": 14,
     "metadata": {},
     "output_type": "execute_result"
    }
   ],
   "source": [
    "# Display (top 10) value counts for EducationTypes\n",
    "survey['EducationTypes'].value_counts().nlargest(10)"
   ]
  },
  {
   "cell_type": "code",
   "execution_count": 15,
   "metadata": {},
   "outputs": [
    {
     "data": {
      "text/plain": [
       "The official documentation and/or standards for the technology;Questions & answers on Stack Overflow                                                                                                                                                                                                                                                                             3377\n",
       "The official documentation and/or standards for the technology;Questions & answers on Stack Overflow;The technology’s online help system                                                                                                                                                                                                                                         3087\n",
       "The official documentation and/or standards for the technology;Questions & answers on Stack Overflow;Online developer communities other than Stack Overflow (ex. forums, listservs, IRC channels, etc.);The technology’s online help system                                                                                                                                      3006\n",
       "The official documentation and/or standards for the technology;Questions & answers on Stack Overflow;Online developer communities other than Stack Overflow (ex. forums, listservs, IRC channels, etc.)                                                                                                                                                                          2957\n",
       "The official documentation and/or standards for the technology;A book or e-book from O’Reilly, Apress, or a similar publisher;Questions & answers on Stack Overflow                                                                                                                                                                                                              2850\n",
       "The official documentation and/or standards for the technology;A book or e-book from O’Reilly, Apress, or a similar publisher;Questions & answers on Stack Overflow;Online developer communities other than Stack Overflow (ex. forums, listservs, IRC channels, etc.);The technology’s online help system                                                                       2450\n",
       "The official documentation and/or standards for the technology;A book or e-book from O’Reilly, Apress, or a similar publisher;Questions & answers on Stack Overflow;The technology’s online help system                                                                                                                                                                          2261\n",
       "The official documentation and/or standards for the technology;A book or e-book from O’Reilly, Apress, or a similar publisher;Questions & answers on Stack Overflow;Online developer communities other than Stack Overflow (ex. forums, listservs, IRC channels, etc.)                                                                                                           2000\n",
       "The official documentation and/or standards for the technology;A book or e-book from O’Reilly, Apress, or a similar publisher                                                                                                                                                                                                                                                     906\n",
       "The official documentation and/or standards for the technology;A book or e-book from O’Reilly, Apress, or a similar publisher;A college/university computer science or software engineering book;Questions & answers on Stack Overflow;Online developer communities other than Stack Overflow (ex. forums, listservs, IRC channels, etc.);The technology’s online help system     904\n",
       "Name: SelfTaughtTypes, dtype: int64"
      ]
     },
     "execution_count": 15,
     "metadata": {},
     "output_type": "execute_result"
    }
   ],
   "source": [
    "# Display (top 10) value counts for SelfTaughtTypes\n",
    "survey['SelfTaughtTypes'].value_counts().nlargest(10)"
   ]
  },
  {
   "cell_type": "code",
   "execution_count": 16,
   "metadata": {},
   "outputs": [
    {
     "data": {
      "text/plain": [
       "C#;JavaScript;SQL;HTML;CSS                1339\n",
       "JavaScript;PHP;SQL;HTML;CSS               1228\n",
       "Java                                      1011\n",
       "JavaScript;HTML;CSS                        870\n",
       "C#;JavaScript;SQL;TypeScript;HTML;CSS      828\n",
       "JavaScript;PHP;SQL;HTML;CSS;Bash/Shell     764\n",
       "JavaScript;PHP;HTML;CSS                    713\n",
       "Java;JavaScript;SQL;HTML;CSS               527\n",
       "C#                                         471\n",
       "JavaScript;TypeScript;HTML;CSS             390\n",
       "Name: LanguageWorkedWith, dtype: int64"
      ]
     },
     "execution_count": 16,
     "metadata": {},
     "output_type": "execute_result"
    }
   ],
   "source": [
    "# Display (top 10) value counts for LanguageWorkedWith\n",
    "survey['LanguageWorkedWith'].value_counts().nlargest(10)"
   ]
  },
  {
   "cell_type": "markdown",
   "metadata": {},
   "source": [
    "`EducationTypes`, `SelfTaughtTypes` and `LanguageWorkedWith` all contain multiple selections that have been strung together into a single string. These will need to be split apart into individual entries for analysis cases. In some cases, categories can potentially be grouped into a smaller number of categories."
   ]
  },
  {
   "cell_type": "code",
   "execution_count": 17,
   "metadata": {},
   "outputs": [
    {
     "data": {
      "text/plain": [
       "3-5 years           22918\n",
       "6-8 years           19051\n",
       "9-11 years          11973\n",
       "0-2 years           10310\n",
       "12-14 years          7905\n",
       "15-17 years          6033\n",
       "18-20 years          4969\n",
       "30 or more years     3408\n",
       "21-23 years          2602\n",
       "24-26 years          1818\n",
       "27-29 years          1034\n",
       "Name: YearsCoding, dtype: int64"
      ]
     },
     "execution_count": 17,
     "metadata": {},
     "output_type": "execute_result"
    }
   ],
   "source": [
    "# Display value counts for YearsCoding\n",
    "survey['YearsCoding'].value_counts()"
   ]
  },
  {
   "cell_type": "code",
   "execution_count": 18,
   "metadata": {},
   "outputs": [
    {
     "data": {
      "text/plain": [
       "0-2 years           23284\n",
       "3-5 years           21224\n",
       "6-8 years           11304\n",
       "9-11 years           7516\n",
       "12-14 years          4257\n",
       "15-17 years          2988\n",
       "18-20 years          2805\n",
       "21-23 years          1356\n",
       "30 or more years     1279\n",
       "24-26 years           848\n",
       "27-29 years           501\n",
       "Name: YearsCodingProf, dtype: int64"
      ]
     },
     "execution_count": 18,
     "metadata": {},
     "output_type": "execute_result"
    }
   ],
   "source": [
    "# Display value counts for YearsCodingProf\n",
    "survey['YearsCodingProf'].value_counts()"
   ]
  },
  {
   "cell_type": "markdown",
   "metadata": {},
   "source": [
    "As for `Age`, we would like to calculate summary statistics for `YearsCoding` and `YearsCodingProf`. To do so, we will need to create new numeric fields where the years coding and years coding professionally of a respondent are estimated as the mid-point of the ranges. "
   ]
  },
  {
   "cell_type": "code",
   "execution_count": 19,
   "metadata": {},
   "outputs": [
    {
     "data": {
      "text/plain": [
       "Moderately satisfied                  25854\n",
       "Extremely satisfied                   12335\n",
       "Slightly satisfied                     9962\n",
       "Slightly dissatisfied                  7007\n",
       "Moderately dissatisfied                6274\n",
       "Neither satisfied nor dissatisfied     4943\n",
       "Extremely dissatisfied                 2464\n",
       "Name: JobSatisfaction, dtype: int64"
      ]
     },
     "execution_count": 19,
     "metadata": {},
     "output_type": "execute_result"
    }
   ],
   "source": [
    "# Display value counts for JobSatisfaction\n",
    "survey['JobSatisfaction'].value_counts()"
   ]
  },
  {
   "cell_type": "code",
   "execution_count": 20,
   "metadata": {},
   "outputs": [
    {
     "data": {
      "text/plain": [
       "Moderately satisfied                  27747\n",
       "Extremely satisfied                   14213\n",
       "Slightly satisfied                    13418\n",
       "Slightly dissatisfied                  6539\n",
       "Neither satisfied nor dissatisfied     6268\n",
       "Moderately dissatisfied                5220\n",
       "Extremely dissatisfied                 2591\n",
       "Name: CareerSatisfaction, dtype: int64"
      ]
     },
     "execution_count": 20,
     "metadata": {},
     "output_type": "execute_result"
    }
   ],
   "source": [
    "# Display value counts for CareerSatisfaction\n",
    "survey['CareerSatisfaction'].value_counts()"
   ]
  },
  {
   "cell_type": "markdown",
   "metadata": {
    "collapsed": true
   },
   "source": [
    "To allow summary statistics to be calculated for `JobSatisfaction` and `CareerSatisfaction`, we can convert the satisfaction rating scale into a numeric scale where \"Extremely dissatisfied\" = 1, \"Moderately dissatisfied\" = 2, etc."
   ]
  },
  {
   "cell_type": "markdown",
   "metadata": {},
   "source": [
    "## Data Preparation"
   ]
  },
  {
   "cell_type": "markdown",
   "metadata": {},
   "source": [
    "Now that we have explored our data, the next step is to wrangle the data to adjust for the issues identified above. "
   ]
  },
  {
   "cell_type": "markdown",
   "metadata": {},
   "source": [
    "**Create Data Subsets**"
   ]
  },
  {
   "cell_type": "markdown",
   "metadata": {},
   "source": [
    "As we wish to compare data scientists with non-data scientists, we first need to split our data into data scientist and non-data scientist subsets."
   ]
  },
  {
   "cell_type": "code",
   "execution_count": 21,
   "metadata": {
    "collapsed": true
   },
   "outputs": [],
   "source": [
    "# Create data scientist and non-data scientist subsets.\n",
    "survey_ds = survey[survey['DevType'].str.contains('Data scientist') == True]\n",
    "survey_non_ds = survey[survey['DevType'].str.contains('Data scientist') == False]"
   ]
  },
  {
   "cell_type": "code",
   "execution_count": 22,
   "metadata": {},
   "outputs": [
    {
     "name": "stdout",
     "output_type": "stream",
     "text": [
      "There are 7088 rows in the data scientist subset and 85010 rows in the non-data scientist subset.\n"
     ]
    }
   ],
   "source": [
    "print('There are', len(survey_ds), 'rows in the data scientist subset and', \n",
    "      len(survey_non_ds), 'rows in the non-data scientist subset.')"
   ]
  },
  {
   "cell_type": "markdown",
   "metadata": {},
   "source": [
    "** Simplify Fields with Large Numbers of Categories/Long Category Labels**"
   ]
  },
  {
   "cell_type": "markdown",
   "metadata": {},
   "source": [
    "Simplify `Gender`, `FormalEducation` and `UndergradMajor` to reduce the length of category labels and to group similar categories into a single category."
   ]
  },
  {
   "cell_type": "code",
   "execution_count": 23,
   "metadata": {
    "collapsed": true
   },
   "outputs": [],
   "source": [
    "# Simplify Gender\n",
    "def simplify_gender(df):\n",
    "    \"\"\"Add a new field, Gender_New, to dataframe, containing simplified Gender values.\n",
    "    \n",
    "    Args:\n",
    "    df: dataframe. Dataframe containing the field Gender.\n",
    "       \n",
    "    Returns:\n",
    "    df: dataframe. Modified version of the input dataframe containing a new field, Gender_New.\n",
    "    \"\"\"\n",
    "    conditions_gender = [(df['Gender'] == 'Male'),\n",
    "                         (df['Gender'] == 'Female'),\n",
    "                         (df['Gender'] != 'Male') & (df['Gender'] != 'Female') \n",
    "                         & (pd.isnull(df['Gender']) == False)]\n",
    "\n",
    "    choices_gender = ['Male', 'Female', 'Other']\n",
    "\n",
    "    df['Gender_New'] = np.select(conditions_gender, choices_gender, default = np.NaN)\n",
    "    \n",
    "    return df\n",
    "                \n",
    "# Apply function to subsets\n",
    "survey_ds = simplify_gender(survey_ds)\n",
    "survey_non_ds = simplify_gender(survey_non_ds)"
   ]
  },
  {
   "cell_type": "code",
   "execution_count": 24,
   "metadata": {
    "collapsed": true
   },
   "outputs": [],
   "source": [
    "# Simplify FormalEducation\n",
    "def simplify_ed(df):\n",
    "    \"\"\"Add a new field, FormalEducation_New, to dataframe, containing simplified FormalEducation values.\n",
    "    \n",
    "    Args:\n",
    "    df: dataframe. Dataframe containing the field FormalEducation.\n",
    "       \n",
    "    Returns:\n",
    "    df: dataframe. Modified version of the input dataframe containing a new field, FormalEducation_New.\n",
    "    \"\"\"\n",
    "    conditions_ed = [(df['FormalEducation'] == 'Bachelor’s degree (BA, BS, B.Eng., etc.)'),\n",
    "                     (df['FormalEducation'] == 'Master’s degree (MA, MS, M.Eng., MBA, etc.)'),\n",
    "                     (df['FormalEducation'] == 'Professional degree (JD, MD, etc.)'),   \n",
    "                     (df['FormalEducation'] == 'Associate degree'),\n",
    "                     (df['FormalEducation'] == 'Other doctoral degree (Ph.D, Ed.D., etc.)'),\n",
    "                     (df['FormalEducation'] == 'Some college/university study without earning a degree') \n",
    "                     | (df['FormalEducation'] == 'Secondary school (e.g. American high school, German Realschule or Gymnasium, etc.)') \n",
    "                     | (df['FormalEducation'] == 'Primary/elementary school')\n",
    "                     | (df['FormalEducation'] == 'I never completed any formal education')]\n",
    "\n",
    "    choices_ed = ['Bachelors', 'Masters', 'Professional', 'Associate', 'Doctorate', 'No Degree']\n",
    "\n",
    "    df['FormalEducation_New'] = np.select(conditions_ed, choices_ed, default = np.NaN)\n",
    "    \n",
    "    return df\n",
    "\n",
    "# Apply function to subsets\n",
    "survey_ds = simplify_ed(survey_ds)\n",
    "survey_non_ds = simplify_ed(survey_non_ds)"
   ]
  },
  {
   "cell_type": "code",
   "execution_count": 25,
   "metadata": {
    "collapsed": true
   },
   "outputs": [],
   "source": [
    "# Simplify Undergraduate Major\n",
    "def simplify_major(df):\n",
    "    \"\"\"Add a new field, UndergradMajor_New, to dataframe, containing simplified UndergradMajor values.\n",
    "    \n",
    "    Args:\n",
    "    df: dataframe. Dataframe containing the field UndergradMajor.\n",
    "       \n",
    "    Returns:\n",
    "    df: dataframe. Modified version of the input dataframe containing a new field, UndergradMajor_New.\n",
    "    \"\"\"\n",
    "    conditions_major = [(df['UndergradMajor'] == 'Computer science, computer engineering, or software engineering'),\n",
    "                        (df['UndergradMajor'] == 'Another engineering discipline (ex. civil, electrical, mechanical)'),\n",
    "                        (df['UndergradMajor'] == 'Information systems, information technology, or system administration'),\n",
    "                        (df['UndergradMajor'] == 'Mathematics or statistics'),\n",
    "                        (df['UndergradMajor'] == 'A natural science (ex. biology, chemistry, physics)')\n",
    "                        |(df['UndergradMajor'] == 'A health science (ex. nursing, pharmacy, radiology)'),\n",
    "                        (df['UndergradMajor'] == 'Web development or web design'),\n",
    "                        (df['UndergradMajor'] == 'A business discipline (ex. accounting, finance, marketing)'),\n",
    "                        (df['UndergradMajor'] == 'A humanities discipline (ex. literature, history, philosophy)')\n",
    "                        | (df['UndergradMajor'] == 'A social science (ex. anthropology, psychology, political science)')\n",
    "                        | (df['UndergradMajor'] == 'Fine arts or performing arts (ex. graphic design, music, studio art)')]\n",
    "\n",
    "    choices_major = ['Computer Science', 'Engineering', 'IT/Info Systems', 'Math/Statistics', 'Other Science',\n",
    "                     'Web Design/Development', 'Business', 'Arts/Humanities/Social Science']\n",
    "\n",
    "    df['UndergradMajor_New'] = np.select(conditions_major, choices_major, default = np.NaN)\n",
    "    \n",
    "    return df\n",
    "\n",
    "# Apply function to subsets\n",
    "survey_ds = simplify_major(survey_ds)\n",
    "survey_non_ds = simplify_major(survey_non_ds)"
   ]
  },
  {
   "cell_type": "markdown",
   "metadata": {},
   "source": [
    "**Convert Ranges to Single Numeric Values**"
   ]
  },
  {
   "cell_type": "markdown",
   "metadata": {},
   "source": [
    "Create new fields that replace the ranges for `Age`, `YearsCoding` and `YearsCodingProf` with single numeric values that are the mid-point of the ranges."
   ]
  },
  {
   "cell_type": "code",
   "execution_count": 26,
   "metadata": {
    "collapsed": true
   },
   "outputs": [],
   "source": [
    "# Convert Age to numeric\n",
    "def convert_age(df):\n",
    "    \"\"\"Add a new field, Age_Num, to dataframe, containing numeric values equivalent to the midpoints of the corresponding\n",
    "    Age range values.\n",
    "    \n",
    "    Args:\n",
    "    df: dataframe. Dataframe containing the field Age.\n",
    "       \n",
    "    Returns:\n",
    "    df: dataframe. Modified version of the input dataframe containing a new field, Age_Num.\n",
    "    \"\"\"\n",
    "    conditions_age = [(df['Age'] == 'Under 18 years old'),\n",
    "                      (df['Age'] == '18 - 24 years old'),\n",
    "                      (df['Age'] == '25 - 34 years old'),\n",
    "                      (df['Age'] == '35 - 44 years old'),\n",
    "                      (df['Age'] == '45 - 54 years old'),\n",
    "                      (df['Age'] == '55 - 64 years old'),\n",
    "                      (df['Age'] == '65 years or older')]\n",
    "\n",
    "    choices_age = [16, 21, 29.5, 39.5, 49.5, 59.5, 69.5]\n",
    "\n",
    "    df['Age_Num'] = np.select(conditions_age, choices_age, default = np.NaN)\n",
    "    \n",
    "    return df\n",
    "\n",
    "# Apply function to subsets\n",
    "survey_ds = convert_age(survey_ds)\n",
    "survey_non_ds = convert_age(survey_non_ds)"
   ]
  },
  {
   "cell_type": "code",
   "execution_count": 27,
   "metadata": {
    "collapsed": true
   },
   "outputs": [],
   "source": [
    "# Convert YearsCoding and YearsCodingProf to numeric\n",
    "def convert_coding(df, col, new_col):\n",
    "    \"\"\"Add a new field, new_col, to dataframe, containing numeric values equivalent to the midpoints of the corresponding\n",
    "    col range values.\n",
    "    \n",
    "    Args:\n",
    "    df: dataframe. Dataframe containing the field col.\n",
    "       \n",
    "    Returns:\n",
    "    df: dataframe. Modified version of the input dataframe containing a new field, new_col.\n",
    "    \"\"\"\n",
    "    conditions_coding = [(df[col] == '0-2 years'),\n",
    "                         (df[col] == '3-5 years'),\n",
    "                         (df[col] == '6-8 years'),\n",
    "                         (df[col] == '9-11 years'),\n",
    "                         (df[col] == '12-14 years'),\n",
    "                         (df[col] == '15-17 years'),\n",
    "                         (df[col] == '18-20 years'),\n",
    "                         (df[col] == '21-23 years'),\n",
    "                         (df[col] == '24-26 years'),\n",
    "                         (df[col] == '27-29 years'),\n",
    "                         (df[col] == '30 or more years')]\n",
    "    \n",
    "    choices_coding = [1, 4, 7, 10, 13, 16, 19, 22, 25, 28, 31]\n",
    "    \n",
    "    df[new_col] = np.select(conditions_coding, choices_coding, default = np.NaN)\n",
    "    \n",
    "    return df\n",
    "\n",
    "# Apply function to subsets\n",
    "survey_ds = convert_coding(survey_ds, 'YearsCoding', 'YearsCoding_Num')\n",
    "survey_ds = convert_coding(survey_ds, 'YearsCodingProf', 'YearsCodingProf_Num')\n",
    "\n",
    "survey_non_ds = convert_coding(survey_non_ds, 'YearsCoding', 'YearsCoding_Num')\n",
    "survey_non_ds = convert_coding(survey_non_ds, 'YearsCodingProf', 'YearsCodingProf_Num')"
   ]
  },
  {
   "cell_type": "markdown",
   "metadata": {},
   "source": [
    "** Convert Satisfaction Scales to Numeric Values**"
   ]
  },
  {
   "cell_type": "markdown",
   "metadata": {},
   "source": [
    "Create new fields that replace the categorical `JobSatisfaction` and `CareerSatisfaction` scales with numeric scales."
   ]
  },
  {
   "cell_type": "code",
   "execution_count": 28,
   "metadata": {
    "collapsed": true
   },
   "outputs": [],
   "source": [
    "# Convert satisfaction scales to numeric scales\n",
    "def convert_scale(df, col, new_col):\n",
    "    \"\"\"Add a new field, new_col, to dataframe, containing numeric equivalents to the categorical scale reflected in col\n",
    "    \n",
    "    Args:\n",
    "    df: dataframe. Dataframe containing the field col.\n",
    "       \n",
    "    Returns:\n",
    "    df: dataframe. Modified version of the input dataframe containing a new field, new_col.\n",
    "    \"\"\"\n",
    "    conditions_sat = [(df[col] == 'Extremely dissatisfied'),\n",
    "                     (df[col] == 'Moderately dissatisfied'),\n",
    "                     (df[col] == 'Slightly dissatisfied'),\n",
    "                     (df[col] == 'Neither satisfied nor dissatisfied'),\n",
    "                     (df[col] == 'Slightly satisfied'),\n",
    "                     (df[col] == 'Moderately satisfied'),\n",
    "                     (df[col] == 'Extremely satisfied')]\n",
    "    \n",
    "    choices_sat = [1, 2, 3, 4, 5, 6, 7]\n",
    "    \n",
    "    df[new_col] = np.select(conditions_sat, choices_sat, default = np.NaN)\n",
    "    \n",
    "    return df\n",
    "\n",
    "# Apply function to subsets\n",
    "survey_ds = convert_scale(survey_ds, 'JobSatisfaction', 'JobSatisfaction_Num')\n",
    "survey_ds = convert_scale(survey_ds, 'CareerSatisfaction', 'CareerSatisfaction_Num')\n",
    "\n",
    "survey_non_ds = convert_scale(survey_non_ds, 'JobSatisfaction', 'JobSatisfaction_Num')\n",
    "survey_non_ds = convert_scale(survey_non_ds, 'CareerSatisfaction', 'CareerSatisfaction_Num')"
   ]
  },
  {
   "cell_type": "markdown",
   "metadata": {},
   "source": [
    "** Split Multi-Selection Fields**"
   ]
  },
  {
   "cell_type": "markdown",
   "metadata": {},
   "source": [
    "For the fields where multiple selections were possible (i.e. `EducationTypes`, `SelfTaughtTypes` and `LanguageWorkedWith`), split the strings containing the multiple selections into a list of selections and then concatenate these lists into a single list (dropping any missing values in the process). In the case of `EducationTypes` and `SelfTaughtTypes`, also simplify these fields to reduce the length of category labels and to group similar categories into a single category."
   ]
  },
  {
   "cell_type": "code",
   "execution_count": 29,
   "metadata": {
    "collapsed": true
   },
   "outputs": [],
   "source": [
    "# Create dataframe containing split string values by respondent number\n",
    "def split_list(df, col):\n",
    "    \"\"\"Create a new dataframe that splits the values of multi-selection column col into individual selections and \n",
    "    places each selection value on a separate row. This new dataframe can be linked back to the original dataframe by \n",
    "    Respondent value.\n",
    "    \n",
    "    Args:\n",
    "    df: dataframe. Dataframe containing the multi-selection field col.\n",
    "       \n",
    "    Returns:\n",
    "    out_df: dataframe. New dataframe giving split values of col.\n",
    "    \"\"\"\n",
    "    in_res = list(df['Respondent'])\n",
    "    in_list = list(df[col])\n",
    "    \n",
    "    out_res = []\n",
    "    out_list = []\n",
    "    \n",
    "    for i in range(len(in_list)):\n",
    "        if pd.isnull(in_list[i]) == False:\n",
    "            vals = in_list[i].split(';')\n",
    "            res = [in_res[i]]*len(vals)\n",
    "            \n",
    "            out_list.append(vals)\n",
    "            out_res.append(res)\n",
    "    \n",
    "    out_df = pd.DataFrame({'Respondent': list(np.concatenate(out_res)), col: list(np.concatenate(out_list))})\n",
    "    \n",
    "    return out_df"
   ]
  },
  {
   "cell_type": "code",
   "execution_count": 30,
   "metadata": {
    "collapsed": true
   },
   "outputs": [],
   "source": [
    "# Split EducationTypes\n",
    "ed_types_ds = split_list(survey_ds, 'EducationTypes')\n",
    "ed_types_non_ds = split_list(survey_non_ds, 'EducationTypes')\n",
    "    \n",
    "# Simplify category labels\n",
    "def convert_ed_type(df):\n",
    "    \"\"\"Add a new field, EducationTypes_New, to dataframe, containing simplified EducationTypes values.\n",
    "    \n",
    "    Args:\n",
    "    df: dataframe. Dataframe containing the field EducationTypes.\n",
    "       \n",
    "    Returns:\n",
    "    df: dataframe. Modified version of the input dataframe containing a new field, EducationTypes_New.\n",
    "    \"\"\"\n",
    "    conditions_edtype = [(df['EducationTypes'] == 'Taken a part-time in-person course in programming or software development'),\n",
    "                         (df['EducationTypes'] == 'Taken an online course in programming or software development (e.g. a MOOC)'),\n",
    "                         (df['EducationTypes'] == 'Completed an industry certification program (e.g. MCPD)'),\n",
    "                         (df['EducationTypes'] == 'Participated in online coding competitions (e.g. HackerRank, CodeChef, TopCoder)'),\n",
    "                         (df['EducationTypes'] == 'Contributed to open source software'), \n",
    "                         (df['EducationTypes'] == 'Taught yourself a new language, framework, or tool without taking a formal course'),\n",
    "                         (df['EducationTypes'] == 'Participated in a hackathon'),\n",
    "                         (df['EducationTypes'] == 'Received on-the-job training in software development'),\n",
    "                         (df['EducationTypes'] == 'Participated in a full-time developer training program or bootcamp')]  \n",
    "    \n",
    "    choices_edtype = ['Part Time In-Person Course', 'Online Course', 'Industry Certification', \n",
    "                      'Online Coding Competition', 'Open Source', 'Self Taught',\n",
    "                      'Hackathon', 'On-the-Job Training', 'Full Time Course/Bootcamp']\n",
    "\n",
    "    df['EducationTypes_New'] = np.select(conditions_edtype, choices_edtype, default = np.NaN)\n",
    "    \n",
    "    return df\n",
    "\n",
    "ed_types_ds = convert_ed_type(ed_types_ds)\n",
    "ed_types_non_ds = convert_ed_type(ed_types_non_ds)"
   ]
  },
  {
   "cell_type": "code",
   "execution_count": 31,
   "metadata": {
    "collapsed": true
   },
   "outputs": [],
   "source": [
    "# Split LanguageWorkedWith\n",
    "languages_ds = split_list(survey_ds, 'LanguageWorkedWith')\n",
    "languages_non_ds = split_list(survey_non_ds, 'LanguageWorkedWith')"
   ]
  },
  {
   "cell_type": "code",
   "execution_count": 32,
   "metadata": {
    "collapsed": true
   },
   "outputs": [],
   "source": [
    "# Split SelfTaughtTypes and simplify/rationalize category labels\n",
    "def convert_self_type(lst):\n",
    "    \"\"\"Take a list of SelfTaughtTypes selection values and create a new list containing simplified version of these values.\n",
    "    \n",
    "    Args:\n",
    "    lst: list. List containing SelfTaughtTypes selections.\n",
    "       \n",
    "    Returns:\n",
    "    out_arr: array. Modified version of the input list containing simplified SelfTaughtTypes selections.\n",
    "    \"\"\"\n",
    "    temp = np.array(lst)\n",
    "    conditions_selftype = [(temp == 'A college/university computer science or software engineering book')\n",
    "                            |(temp == 'A book or e-book from O’Reilly, Apress, or a similar publisher'),\n",
    "                           (temp == 'The official documentation and/or standards for the technology')\n",
    "                           |(temp == 'The technology’s online help system'),\n",
    "                           (temp == 'Tapping your network of friends, family, and peers versed in the technology')\n",
    "                           |(temp == 'Pre-scheduled tutoring or mentoring sessions with a friend or colleague'),\n",
    "                           (temp == 'Internal Wikis, chat rooms, or documentation set up by my company for employees'),\n",
    "                           (temp == 'Online developer communities other than Stack Overflow (ex. forums, listservs, IRC channels, etc.)')\n",
    "                           |(temp == 'Questions & answers on Stack Overflow')]\n",
    "    \n",
    "    \n",
    "    choices_selftype = ['Textbook', 'Official Documentation/Help', 'Friends/Peers', \n",
    "                        'Company Resources', 'Online Community']\n",
    "\n",
    "    out_arr = np.select(conditions_selftype, choices_selftype, default = np.NaN)\n",
    "    return out_arr\n",
    "\n",
    "def process_self_type(df):\n",
    "    \"\"\"Create a new dataframe that splits the values of multi-selection column SelfTaughtTypes into individual selections and \n",
    "    places each selection value on a separate row, simplifying the values at the same time. This new dataframe can be linked \n",
    "    back to the original dataframe by Respondent value.\n",
    "    \n",
    "    Args:\n",
    "    df: dataframe. Dataframe containing the multi-selection field SelfTaughtTypes.\n",
    "       \n",
    "    Returns:\n",
    "    out_df: dataframe. New dataframe giving split values of SelfTaughtTypes.\n",
    "    \"\"\"\n",
    "    in_res = list(df['Respondent'])\n",
    "    in_list = list(df['SelfTaughtTypes'])\n",
    "    \n",
    "    out_res = []\n",
    "    out_list = []\n",
    "    \n",
    "    for i in range(len(in_list)):\n",
    "        if pd.isnull(in_list[i]) == False:\n",
    "            vals = list(set(convert_self_type(in_list[i].split(';'))))\n",
    "            res = [in_res[i]]*len(vals)\n",
    "            \n",
    "            out_list.append(vals)\n",
    "            out_res.append(res)\n",
    "    \n",
    "    out_df = pd.DataFrame({'Respondent': list(np.concatenate(out_res)), 'SelfTaughtTypes': list(np.concatenate(out_list))})\n",
    "    \n",
    "    return out_df\n",
    "\n",
    "# Apply function to subsets\n",
    "self_types_ds = process_self_type(survey_ds)\n",
    "self_types_non_ds = process_self_type(survey_non_ds)"
   ]
  },
  {
   "cell_type": "markdown",
   "metadata": {},
   "source": [
    "** Missing Values**"
   ]
  },
  {
   "cell_type": "markdown",
   "metadata": {},
   "source": [
    "In the previous section we identified that all of the fields under consideration contain some missing values. As we do not intent to build any ML models with this data, rather most of our analysis will take the form of univariate statistical analysis, it is not necessary to impute these missing values. Instead, we will just exclude the missing values from any calculations. This will be done in the analysis section, since many of the statistical functions we intend to use already have built in functionality to allow for the exclusion of missing values. When this is not the case, we will exclude the missing values manually on a case by case basis. "
   ]
  },
  {
   "cell_type": "markdown",
   "metadata": {
    "collapsed": true
   },
   "source": [
    "## Data Analysis"
   ]
  },
  {
   "cell_type": "markdown",
   "metadata": {},
   "source": [
    "Now that we have processed our data, our next step is to apply statistical analysis techniques to this processed data in order to answer our research questions. Before commencing our analysis, we first define several functions for performing this analysis."
   ]
  },
  {
   "cell_type": "code",
   "execution_count": 33,
   "metadata": {
    "collapsed": true
   },
   "outputs": [],
   "source": [
    "# Compare the distribution of the two subsets for specified column\n",
    "# Get proportion of dataset by category\n",
    "def get_proportions(df, col, index_order = None, drop = True, multi = False):\n",
    "    \"\"\"Calculate the proportion of all observations in a given dataframe for each value of the selected \n",
    "    field (excl. missing values)\n",
    "    \n",
    "    Args:\n",
    "    df: dataframe. Dataframe to be summarized.\n",
    "    col: string. Column in df to be summarized.\n",
    "    drop: boolean. Drop 'nan' values.\n",
    "    multi: boolean. If True then multiple observations are possible for single respondent.\n",
    "       \n",
    "    Returns:\n",
    "    props: dataframe. Summary dataframe giving the proportion of all observations by col value (excluding missing values).\n",
    "    \"\"\"\n",
    "    # Summarize by column value\n",
    "    summary = df[['Respondent', col]].groupby([col]).count()\n",
    "    \n",
    "    # Drop NaN values\n",
    "    if drop:\n",
    "        summary = summary.drop('nan')\n",
    "\n",
    "    # Convert sums to proportions\n",
    "    if multi:\n",
    "        props = summary/df['Respondent'].nunique()\n",
    "    \n",
    "    else:\n",
    "        props = summary/summary['Respondent'].sum()\n",
    "        \n",
    "    \n",
    "    # Sort rows in order specified\n",
    "    if index_order != None:\n",
    "        props = props.reindex(index_order)\n",
    "        \n",
    "    # Convert index into column\n",
    "    # Code reference: https://stackoverflow.com/questions/20461165/how-to-convert-pandas-index-in-a-dataframe-to-a-column\n",
    "    props.reset_index(level=0, inplace=True)\n",
    "    \n",
    "    return props\n",
    "\n",
    "# Create summary dataset for comparing the two subsets\n",
    "def create_summary(df_ds, df_non_ds, col, index_order = None, drop = True, multi = False):\n",
    "    \"\"\"Create summary dataframe giving the proportion of all observations for each value of the selected field (excl. \n",
    "    missing values), for data scientists and non-data scientists.\n",
    "    \n",
    "    Args:\n",
    "    df_ds: dataframe. Data scientist dataframe to be summarized.\n",
    "    df_non_ds: dataframe. Non-data scientist dataframe to be summarized.\n",
    "    col: string. Column to be summarized.\n",
    "    index_order: list. List giving order in which categories should be sorted.\n",
    "    drop: boolean. Drop 'nan' values .\n",
    "    multi: boolean. If true then multiple observations are possible for single respondent.\n",
    "       \n",
    "    Returns:\n",
    "    out_df: dataframe. Summary dataframe giving the proportion of data scientist and non-data scientist \n",
    "            observations by col value.\n",
    "    \"\"\"    \n",
    "    # Get proportions for each subset\n",
    "    props_ds = get_proportions(df_ds, col, index_order, drop, multi)\n",
    "    props_non_ds = get_proportions(df_non_ds, col, index_order, drop, multi)\n",
    "    \n",
    "    # Rename respondent column\n",
    "    props_ds = props_ds.rename(columns = {'Respondent':'DS'})\n",
    "    props_non_ds = props_non_ds.rename(columns = {'Respondent':'Non_DS'})\n",
    "    \n",
    "    # Merge dataframes\n",
    "    props_all = pd.merge(props_non_ds, props_ds, how = 'outer', on = col)\n",
    "    \n",
    "    # Replace any missing values with zeros\n",
    "    props_all = props_all.fillna(0)\n",
    "\n",
    "    return props_all"
   ]
  },
  {
   "cell_type": "code",
   "execution_count": 34,
   "metadata": {
    "collapsed": true
   },
   "outputs": [],
   "source": [
    "# Create comparison plot\n",
    "def create_bar_plot(df, col, x_lab, title, rot = 0):\n",
    "    \"\"\"Plot summary dataframe\n",
    "    \n",
    "    Args:\n",
    "    df: dataframe. Summary dataframe for plotting.\n",
    "    col: string. Column containing class labels.\n",
    "    x_lab: string. X-axis label.\n",
    "    title: string. Plot title.\n",
    "    rot: int or float. X-axis label rotation angle.\n",
    "       \n",
    "    Returns:\n",
    "    None\n",
    "    \"\"\"    \n",
    "    # Change df to long form\n",
    "    long = pd.melt(df, id_vars=col, var_name='DevType', value_name='Proportion')\n",
    "    \n",
    "    # Create plot\n",
    "    sns.factorplot(x=col, y='Proportion', hue='DevType', data=long, kind='bar', legend = False);\n",
    "    \n",
    "    # Set plot labels\n",
    "    plt.xlabel(x_lab)\n",
    "    plt.title(title)\n",
    "    plt.gca().legend().set_title('')\n",
    "    \n",
    "    plt.xticks(rotation=rot)"
   ]
  },
  {
   "cell_type": "markdown",
   "metadata": {},
   "source": [
    "### 1. How does the demographic profile of data scientists differ from that of non-data scientists?"
   ]
  },
  {
   "cell_type": "markdown",
   "metadata": {},
   "source": [
    "**Gender**"
   ]
  },
  {
   "cell_type": "code",
   "execution_count": 36,
   "metadata": {},
   "outputs": [
    {
     "name": "stdout",
     "output_type": "stream",
     "text": [
      "  Gender_New    Non_DS        DS\n",
      "0     Female  0.061399  0.069805\n",
      "1       Male  0.923697  0.911049\n",
      "2      Other  0.014904  0.019146\n"
     ]
    }
   ],
   "source": [
    "# Create summary dataframe\n",
    "gender_props = create_summary(survey_ds, survey_non_ds, 'Gender_New')\n",
    "\n",
    "print(gender_props)"
   ]
  },
  {
   "cell_type": "code",
   "execution_count": 37,
   "metadata": {},
   "outputs": [
    {
     "data": {
      "image/png": "[encoded data removed]",
      "text/plain": [
       "<matplotlib.figure.Figure at 0x1433949c470>"
      ]
     },
     "metadata": {},
     "output_type": "display_data"
    }
   ],
   "source": [
    "# Create comparison plot\n",
    "create_bar_plot(gender_props, 'Gender_New', 'Gender', 'Gender Distribution by Developer Type')"
   ]
  },
  {
   "cell_type": "markdown",
   "metadata": {},
   "source": [
    "There is very little difference between the gender distributions of data scientists and non-data scientists."
   ]
  },
  {
   "cell_type": "markdown",
   "metadata": {},
   "source": [
    "** Age**"
   ]
  },
  {
   "cell_type": "code",
   "execution_count": 38,
   "metadata": {},
   "outputs": [
    {
     "name": "stdout",
     "output_type": "stream",
     "text": [
      "                  Age    Non_DS        DS\n",
      "0  Under 18 years old  0.025263  0.023228\n",
      "1   18 - 24 years old  0.236838  0.237046\n",
      "2   25 - 34 years old  0.492669  0.498710\n",
      "3   35 - 44 years old  0.178039  0.169744\n",
      "4   45 - 54 years old  0.050492  0.051817\n",
      "5   55 - 64 years old  0.014130  0.016478\n",
      "6   65 years or older  0.002569  0.002978\n"
     ]
    }
   ],
   "source": [
    "# Create summary dataframe\n",
    "age_props = create_summary(survey_ds, survey_non_ds, 'Age', index_order = ['Under 18 years old', \\\n",
    "                '18 - 24 years old', '25 - 34 years old', '35 - 44 years old', '45 - 54 years old', \\\n",
    "                '55 - 64 years old', '65 years or older'], drop = False)\n",
    "\n",
    "print(age_props)"
   ]
  },
  {
   "cell_type": "code",
   "execution_count": 39,
   "metadata": {},
   "outputs": [
    {
     "data": {
      "image/png": "[encoded data removed]",
      "text/plain": [
       "<matplotlib.figure.Figure at 0x1433949c710>"
      ]
     },
     "metadata": {},
     "output_type": "display_data"
    }
   ],
   "source": [
    "# Create comparison plot\n",
    "create_bar_plot(age_props, 'Age', 'Age', 'Age Distribution by Developer Type', rot = 90)"
   ]
  },
  {
   "cell_type": "markdown",
   "metadata": {},
   "source": [
    "There is very little difference between the age distributions of data scientists and non-data scientists."
   ]
  },
  {
   "cell_type": "code",
   "execution_count": 40,
   "metadata": {},
   "outputs": [
    {
     "name": "stdout",
     "output_type": "stream",
     "text": [
      "The mean age of data scientists is: 30.52\n",
      "The mean age of non-data scientists is: 30.46\n"
     ]
    }
   ],
   "source": [
    "# Calculate summary statistics\n",
    "print('The mean age of data scientists is:', round(survey_ds['Age_Num'].mean(), 2))\n",
    "print('The mean age of non-data scientists is:', round(survey_non_ds['Age_Num'].mean(), 2))"
   ]
  },
  {
   "cell_type": "code",
   "execution_count": 41,
   "metadata": {},
   "outputs": [
    {
     "name": "stdout",
     "output_type": "stream",
     "text": [
      "The p-value for the Shapiro-Wilk normality test for the data scientists subset is: 0.0\n",
      "The p-value for the Shapiro-Wilk normality test for the non-data scientists subset is: 0.0\n"
     ]
    }
   ],
   "source": [
    "# Check for normality of distributions\n",
    "print('The p-value for the Shapiro-Wilk normality test for the data scientists subset is:',\n",
    "      scipy.stats.shapiro(survey_ds['Age_Num'].dropna())[1])\n",
    "print('The p-value for the Shapiro-Wilk normality test for the non-data scientists subset is:',\n",
    "      scipy.stats.shapiro(survey_non_ds['Age_Num'].dropna())[1])"
   ]
  },
  {
   "cell_type": "markdown",
   "metadata": {},
   "source": [
    "For both subsets, we reject the null hypothesis that Age_Num is normally distributed at the 5% significance level. Therefore, we need to use the Mann-Whitney U-test to compare the two samples."
   ]
  },
  {
   "cell_type": "code",
   "execution_count": 42,
   "metadata": {},
   "outputs": [
    {
     "name": "stdout",
     "output_type": "stream",
     "text": [
      "The p-value for the Mann-Whitney U test comparing the two distributions is: 0.492012978668\n"
     ]
    }
   ],
   "source": [
    "# Compare distributions\n",
    "print('The p-value for the Mann-Whitney U test comparing the two distributions is:',\n",
    "      scipy.stats.mannwhitneyu(survey_ds['Age_Num'].dropna(), survey_non_ds['Age_Num'].dropna())[1])"
   ]
  },
  {
   "cell_type": "markdown",
   "metadata": {},
   "source": [
    "The p-value for the Mann-Whitney U test is > 0.05. Therefore, we do not reject the null hypothesis that the age distributions of the data-scientists and non-data scientists are the same at the 5% significance level."
   ]
  },
  {
   "cell_type": "markdown",
   "metadata": {},
   "source": [
    "**Formal Education**"
   ]
  },
  {
   "cell_type": "code",
   "execution_count": 43,
   "metadata": {},
   "outputs": [
    {
     "name": "stdout",
     "output_type": "stream",
     "text": [
      "  FormalEducation_New    Non_DS        DS\n",
      "0           No Degree  0.247818  0.161678\n",
      "1           Associate  0.032448  0.014177\n",
      "2           Bachelors  0.473647  0.350995\n",
      "3             Masters  0.216295  0.344837\n",
      "4           Doctorate  0.015172  0.113705\n",
      "5        Professional  0.014619  0.014607\n"
     ]
    }
   ],
   "source": [
    "# Create summary dataframe\n",
    "ed_props = create_summary(survey_ds, survey_non_ds, 'FormalEducation_New', index_order = ['No Degree',\n",
    "            'Associate', 'Bachelors', 'Masters', 'Doctorate', 'Professional'])\n",
    "\n",
    "print(ed_props)"
   ]
  },
  {
   "cell_type": "code",
   "execution_count": 44,
   "metadata": {},
   "outputs": [
    {
     "data": {
      "image/png": "[encoded data removed]",
      "text/plain": [
       "<matplotlib.figure.Figure at 0x1433b726898>"
      ]
     },
     "metadata": {},
     "output_type": "display_data"
    }
   ],
   "source": [
    "# Create comparison plot\n",
    "create_bar_plot(ed_props, 'FormalEducation_New', 'Highest Degree Level', 'Formal Education Distribution by Developer Type', \n",
    "                rot = 90)"
   ]
  },
  {
   "cell_type": "markdown",
   "metadata": {},
   "source": [
    "Data scientists are more likely to have an advanced degree (i.e. Masters or Doctorate) than non-data scientists, who in many cases don't even have a degree at all."
   ]
  },
  {
   "cell_type": "markdown",
   "metadata": {},
   "source": [
    "**Undergraduate Major**"
   ]
  },
  {
   "cell_type": "code",
   "execution_count": 45,
   "metadata": {},
   "outputs": [
    {
     "name": "stdout",
     "output_type": "stream",
     "text": [
      "               UndergradMajor_New    Non_DS        DS\n",
      "0  Arts/Humanities/Social Science  0.051305  0.057851\n",
      "1                        Business  0.024267  0.023821\n",
      "2                Computer Science  0.655157  0.532491\n",
      "3                     Engineering  0.085705  0.105655\n",
      "4                 IT/Info Systems  0.086822  0.043591\n",
      "5                 Math/Statistics  0.028846  0.113110\n",
      "6                   Other Science  0.034528  0.116999\n",
      "7          Web Design/Development  0.033369  0.006482\n"
     ]
    }
   ],
   "source": [
    "# Create summary dataframe\n",
    "major_props = create_summary(survey_ds, survey_non_ds, 'UndergradMajor_New')\n",
    "\n",
    "print(major_props)"
   ]
  },
  {
   "cell_type": "code",
   "execution_count": 46,
   "metadata": {},
   "outputs": [
    {
     "data": {
      "image/png": "[encoded data removed]",
      "text/plain": [
       "<matplotlib.figure.Figure at 0x1433adc5cf8>"
      ]
     },
     "metadata": {},
     "output_type": "display_data"
    }
   ],
   "source": [
    "# Create comparison plot\n",
    "create_bar_plot(major_props, 'UndergradMajor_New', 'Undergraduate Major', 'Undergraduate Major Distribution by Developer Type', \n",
    "                rot = 90)"
   ]
  },
  {
   "cell_type": "markdown",
   "metadata": {},
   "source": [
    "Although both data scientists and non-data scientists are most likely to have majored in computer science as undergraduates, a much larger proportion of data scientists came from a math/stats or other science background than non-data scientists."
   ]
  },
  {
   "cell_type": "markdown",
   "metadata": {},
   "source": [
    "**Education Types**"
   ]
  },
  {
   "cell_type": "code",
   "execution_count": 63,
   "metadata": {},
   "outputs": [
    {
     "data": {
      "text/html": [
       "<style  type=\"text/css\" >\n",
       "    #T_f7cd201e_b88b_11e8_b686_dc5360f0b580row0_col3 {\n",
       "            width:  10em;\n",
       "             height:  80%;\n",
       "            background:  linear-gradient(90deg, transparent 0%, transparent 10.2%, #5fba7d 10.2%, #5fba7d 11.3%, transparent 11.3%);\n",
       "        }    #T_f7cd201e_b88b_11e8_b686_dc5360f0b580row1_col3 {\n",
       "            width:  10em;\n",
       "             height:  80%;\n",
       "            background:  linear-gradient(90deg, transparent 0%, transparent 10.2%, #5fba7d 10.2%, #5fba7d 67.6%, transparent 67.6%);\n",
       "        }    #T_f7cd201e_b88b_11e8_b686_dc5360f0b580row2_col3 {\n",
       "            width:  10em;\n",
       "             height:  80%;\n",
       "            background:  linear-gradient(90deg, transparent 0%, transparent 6.2%, #d65f5f 6.2%, #d65f5f 10.2%, transparent 10.2%);\n",
       "        }    #T_f7cd201e_b88b_11e8_b686_dc5360f0b580row3_col3 {\n",
       "            width:  10em;\n",
       "             height:  80%;\n",
       "            background:  linear-gradient(90deg, transparent 0%, transparent 0.0%, #d65f5f 0.0%, #d65f5f 10.2%, transparent 10.2%);\n",
       "        }    #T_f7cd201e_b88b_11e8_b686_dc5360f0b580row4_col3 {\n",
       "            width:  10em;\n",
       "             height:  80%;\n",
       "            background:  linear-gradient(90deg, transparent 0%, transparent 10.2%, #5fba7d 10.2%, #5fba7d 66.7%, transparent 66.7%);\n",
       "        }    #T_f7cd201e_b88b_11e8_b686_dc5360f0b580row5_col3 {\n",
       "            width:  10em;\n",
       "             height:  80%;\n",
       "            background:  linear-gradient(90deg, transparent 0%, transparent 10.2%, #5fba7d 10.2%, #5fba7d 100.0%, transparent 100.0%);\n",
       "        }    #T_f7cd201e_b88b_11e8_b686_dc5360f0b580row6_col3 {\n",
       "            width:  10em;\n",
       "             height:  80%;\n",
       "            background:  linear-gradient(90deg, transparent 0%, transparent 10.2%, #5fba7d 10.2%, #5fba7d 63.3%, transparent 63.3%);\n",
       "        }    #T_f7cd201e_b88b_11e8_b686_dc5360f0b580row7_col3 {\n",
       "            width:  10em;\n",
       "             height:  80%;\n",
       "            background:  linear-gradient(90deg, transparent 0%, transparent 10.2%, #5fba7d 10.2%, #5fba7d 29.5%, transparent 29.5%);\n",
       "        }    #T_f7cd201e_b88b_11e8_b686_dc5360f0b580row8_col3 {\n",
       "            width:  10em;\n",
       "             height:  80%;\n",
       "            background:  linear-gradient(90deg, transparent 0%, transparent 10.2%, #5fba7d 10.2%, #5fba7d 26.8%, transparent 26.8%);\n",
       "        }</style>  \n",
       "<table id=\"T_f7cd201e_b88b_11e8_b686_dc5360f0b580\" > \n",
       "<thead>    <tr> \n",
       "        <th class=\"blank level0\" ></th> \n",
       "        <th class=\"col_heading level0 col0\" >EducationTypes_New</th> \n",
       "        <th class=\"col_heading level0 col1\" >Non_DS</th> \n",
       "        <th class=\"col_heading level0 col2\" >DS</th> \n",
       "        <th class=\"col_heading level0 col3\" >Diff</th> \n",
       "    </tr></thead> \n",
       "<tbody>    <tr> \n",
       "        <th id=\"T_f7cd201e_b88b_11e8_b686_dc5360f0b580level0_row0\" class=\"row_heading level0 row0\" >0</th> \n",
       "        <td id=\"T_f7cd201e_b88b_11e8_b686_dc5360f0b580row0_col0\" class=\"data row0 col0\" >Full Time Course/Bootcamp</td> \n",
       "        <td id=\"T_f7cd201e_b88b_11e8_b686_dc5360f0b580row0_col1\" class=\"data row0 col1\" >0.102975</td> \n",
       "        <td id=\"T_f7cd201e_b88b_11e8_b686_dc5360f0b580row0_col2\" class=\"data row0 col2\" >0.104778</td> \n",
       "        <td id=\"T_f7cd201e_b88b_11e8_b686_dc5360f0b580row0_col3\" class=\"data row0 col3\" >0.0018027</td> \n",
       "    </tr>    <tr> \n",
       "        <th id=\"T_f7cd201e_b88b_11e8_b686_dc5360f0b580level0_row1\" class=\"row_heading level0 row1\" >1</th> \n",
       "        <td id=\"T_f7cd201e_b88b_11e8_b686_dc5360f0b580row1_col0\" class=\"data row1 col0\" >Hackathon</td> \n",
       "        <td id=\"T_f7cd201e_b88b_11e8_b686_dc5360f0b580row1_col1\" class=\"data row1 col1\" >0.257274</td> \n",
       "        <td id=\"T_f7cd201e_b88b_11e8_b686_dc5360f0b580row1_col2\" class=\"data row1 col2\" >0.351042</td> \n",
       "        <td id=\"T_f7cd201e_b88b_11e8_b686_dc5360f0b580row1_col3\" class=\"data row1 col3\" >0.0937679</td> \n",
       "    </tr>    <tr> \n",
       "        <th id=\"T_f7cd201e_b88b_11e8_b686_dc5360f0b580level0_row2\" class=\"row_heading level0 row2\" >2</th> \n",
       "        <td id=\"T_f7cd201e_b88b_11e8_b686_dc5360f0b580row2_col0\" class=\"data row2 col0\" >Industry Certification</td> \n",
       "        <td id=\"T_f7cd201e_b88b_11e8_b686_dc5360f0b580row2_col1\" class=\"data row2 col1\" >0.138176</td> \n",
       "        <td id=\"T_f7cd201e_b88b_11e8_b686_dc5360f0b580row2_col2\" class=\"data row2 col2\" >0.13171</td> \n",
       "        <td id=\"T_f7cd201e_b88b_11e8_b686_dc5360f0b580row2_col3\" class=\"data row2 col3\" >-0.00646581</td> \n",
       "    </tr>    <tr> \n",
       "        <th id=\"T_f7cd201e_b88b_11e8_b686_dc5360f0b580level0_row3\" class=\"row_heading level0 row3\" >3</th> \n",
       "        <td id=\"T_f7cd201e_b88b_11e8_b686_dc5360f0b580row3_col0\" class=\"data row3 col0\" >On-the-Job Training</td> \n",
       "        <td id=\"T_f7cd201e_b88b_11e8_b686_dc5360f0b580row3_col1\" class=\"data row3 col1\" >0.353591</td> \n",
       "        <td id=\"T_f7cd201e_b88b_11e8_b686_dc5360f0b580row3_col2\" class=\"data row3 col2\" >0.337023</td> \n",
       "        <td id=\"T_f7cd201e_b88b_11e8_b686_dc5360f0b580row3_col3\" class=\"data row3 col3\" >-0.0165684</td> \n",
       "    </tr>    <tr> \n",
       "        <th id=\"T_f7cd201e_b88b_11e8_b686_dc5360f0b580level0_row4\" class=\"row_heading level0 row4\" >4</th> \n",
       "        <td id=\"T_f7cd201e_b88b_11e8_b686_dc5360f0b580row4_col0\" class=\"data row4 col0\" >Online Coding Competition</td> \n",
       "        <td id=\"T_f7cd201e_b88b_11e8_b686_dc5360f0b580row4_col1\" class=\"data row4 col1\" >0.237087</td> \n",
       "        <td id=\"T_f7cd201e_b88b_11e8_b686_dc5360f0b580row4_col2\" class=\"data row4 col2\" >0.329275</td> \n",
       "        <td id=\"T_f7cd201e_b88b_11e8_b686_dc5360f0b580row4_col3\" class=\"data row4 col3\" >0.0921877</td> \n",
       "    </tr>    <tr> \n",
       "        <th id=\"T_f7cd201e_b88b_11e8_b686_dc5360f0b580level0_row5\" class=\"row_heading level0 row5\" >5</th> \n",
       "        <td id=\"T_f7cd201e_b88b_11e8_b686_dc5360f0b580row5_col0\" class=\"data row5 col0\" >Online Course</td> \n",
       "        <td id=\"T_f7cd201e_b88b_11e8_b686_dc5360f0b580row5_col1\" class=\"data row5 col1\" >0.474925</td> \n",
       "        <td id=\"T_f7cd201e_b88b_11e8_b686_dc5360f0b580row5_col2\" class=\"data row5 col2\" >0.621472</td> \n",
       "        <td id=\"T_f7cd201e_b88b_11e8_b686_dc5360f0b580row5_col3\" class=\"data row5 col3\" >0.146547</td> \n",
       "    </tr>    <tr> \n",
       "        <th id=\"T_f7cd201e_b88b_11e8_b686_dc5360f0b580level0_row6\" class=\"row_heading level0 row6\" >6</th> \n",
       "        <td id=\"T_f7cd201e_b88b_11e8_b686_dc5360f0b580row6_col0\" class=\"data row6 col0\" >Open Source</td> \n",
       "        <td id=\"T_f7cd201e_b88b_11e8_b686_dc5360f0b580row6_col1\" class=\"data row6 col1\" >0.402908</td> \n",
       "        <td id=\"T_f7cd201e_b88b_11e8_b686_dc5360f0b580row6_col2\" class=\"data row6 col2\" >0.489578</td> \n",
       "        <td id=\"T_f7cd201e_b88b_11e8_b686_dc5360f0b580row6_col3\" class=\"data row6 col3\" >0.0866695</td> \n",
       "    </tr>    <tr> \n",
       "        <th id=\"T_f7cd201e_b88b_11e8_b686_dc5360f0b580level0_row7\" class=\"row_heading level0 row7\" >7</th> \n",
       "        <td id=\"T_f7cd201e_b88b_11e8_b686_dc5360f0b580row7_col0\" class=\"data row7 col0\" >Part Time In-Person Course</td> \n",
       "        <td id=\"T_f7cd201e_b88b_11e8_b686_dc5360f0b580row7_col1\" class=\"data row7 col1\" >0.176135</td> \n",
       "        <td id=\"T_f7cd201e_b88b_11e8_b686_dc5360f0b580row7_col2\" class=\"data row7 col2\" >0.207711</td> \n",
       "        <td id=\"T_f7cd201e_b88b_11e8_b686_dc5360f0b580row7_col3\" class=\"data row7 col3\" >0.0315762</td> \n",
       "    </tr>    <tr> \n",
       "        <th id=\"T_f7cd201e_b88b_11e8_b686_dc5360f0b580level0_row8\" class=\"row_heading level0 row8\" >8</th> \n",
       "        <td id=\"T_f7cd201e_b88b_11e8_b686_dc5360f0b580row8_col0\" class=\"data row8 col0\" >Self Taught</td> \n",
       "        <td id=\"T_f7cd201e_b88b_11e8_b686_dc5360f0b580row8_col1\" class=\"data row8 col1\" >0.864778</td> \n",
       "        <td id=\"T_f7cd201e_b88b_11e8_b686_dc5360f0b580row8_col2\" class=\"data row8 col2\" >0.891902</td> \n",
       "        <td id=\"T_f7cd201e_b88b_11e8_b686_dc5360f0b580row8_col3\" class=\"data row8 col3\" >0.0271239</td> \n",
       "    </tr></tbody> \n",
       "</table> "
      ],
      "text/plain": [
       "<pandas.io.formats.style.Styler at 0x1432a1e2d30>"
      ]
     },
     "execution_count": 63,
     "metadata": {},
     "output_type": "execute_result"
    }
   ],
   "source": [
    "# Create summary dataframe\n",
    "ed_types_props = create_summary(ed_types_ds, ed_types_non_ds, 'EducationTypes_New', drop = False, multi = True)\n",
    "\n",
    "# Create difference plot\n",
    "ed_types_props['Diff'] = ed_types_props['DS'] - ed_types_props['Non_DS']\n",
    "ed_types_props.style.bar(subset = ['Diff'], align = 'mid', color = ['#d65f5f', '#5fba7d'])"
   ]
  },
  {
   "cell_type": "markdown",
   "metadata": {},
   "source": [
    "Data scientists are more likely to have participated in a hackathon or online coding competition; taken an online course; or contributed to an open source project than non-data scientists.\n",
    "\n",
    "The most popular education method among both data scientists and non-data scientists is self teaching, followed by taking an online course and participating in an open source project."
   ]
  },
  {
   "cell_type": "markdown",
   "metadata": {},
   "source": [
    "**Self Taught Types**"
   ]
  },
  {
   "cell_type": "code",
   "execution_count": 64,
   "metadata": {},
   "outputs": [
    {
     "data": {
      "text/html": [
       "<style  type=\"text/css\" >\n",
       "    #T_08e68d14_b88c_11e8_8a75_dc5360f0b580row0_col3 {\n",
       "            width:  10em;\n",
       "             height:  80%;\n",
       "            background:  linear-gradient(90deg, transparent 0%, transparent 13.6%, #5fba7d 13.6%, #5fba7d 40.1%, transparent 40.1%);\n",
       "        }    #T_08e68d14_b88c_11e8_8a75_dc5360f0b580row1_col3 {\n",
       "            width:  10em;\n",
       "             height:  80%;\n",
       "            background:  linear-gradient(90deg, transparent 0%, transparent 13.6%, #5fba7d 13.6%, #5fba7d 45.0%, transparent 45.0%);\n",
       "        }    #T_08e68d14_b88c_11e8_8a75_dc5360f0b580row2_col3 {\n",
       "            width:  10em;\n",
       "             height:  80%;\n",
       "            background:  linear-gradient(90deg, transparent 0%, transparent -0.0%, #d65f5f -0.0%, #d65f5f 13.6%, transparent 13.6%);\n",
       "        }    #T_08e68d14_b88c_11e8_8a75_dc5360f0b580row3_col3 {\n",
       "            width:  10em;\n",
       "             height:  80%;\n",
       "            background:  linear-gradient(90deg, transparent 0%, transparent 13.6%, #5fba7d 13.6%, #5fba7d 37.5%, transparent 37.5%);\n",
       "        }    #T_08e68d14_b88c_11e8_8a75_dc5360f0b580row4_col3 {\n",
       "            width:  10em;\n",
       "             height:  80%;\n",
       "            background:  linear-gradient(90deg, transparent 0%, transparent 13.6%, #5fba7d 13.6%, #5fba7d 100.0%, transparent 100.0%);\n",
       "        }</style>  \n",
       "<table id=\"T_08e68d14_b88c_11e8_8a75_dc5360f0b580\" > \n",
       "<thead>    <tr> \n",
       "        <th class=\"blank level0\" ></th> \n",
       "        <th class=\"col_heading level0 col0\" >SelfTaughtTypes</th> \n",
       "        <th class=\"col_heading level0 col1\" >Non_DS</th> \n",
       "        <th class=\"col_heading level0 col2\" >DS</th> \n",
       "        <th class=\"col_heading level0 col3\" >Diff</th> \n",
       "    </tr></thead> \n",
       "<tbody>    <tr> \n",
       "        <th id=\"T_08e68d14_b88c_11e8_8a75_dc5360f0b580level0_row0\" class=\"row_heading level0 row0\" >0</th> \n",
       "        <td id=\"T_08e68d14_b88c_11e8_8a75_dc5360f0b580row0_col0\" class=\"data row0 col0\" >Company Resources</td> \n",
       "        <td id=\"T_08e68d14_b88c_11e8_8a75_dc5360f0b580row0_col1\" class=\"data row0 col1\" >0.163435</td> \n",
       "        <td id=\"T_08e68d14_b88c_11e8_8a75_dc5360f0b580row0_col2\" class=\"data row0 col2\" >0.187726</td> \n",
       "        <td id=\"T_08e68d14_b88c_11e8_8a75_dc5360f0b580row0_col3\" class=\"data row0 col3\" >0.0242907</td> \n",
       "    </tr>    <tr> \n",
       "        <th id=\"T_08e68d14_b88c_11e8_8a75_dc5360f0b580level0_row1\" class=\"row_heading level0 row1\" >1</th> \n",
       "        <td id=\"T_08e68d14_b88c_11e8_8a75_dc5360f0b580row1_col0\" class=\"data row1 col0\" >Friends/Peers</td> \n",
       "        <td id=\"T_08e68d14_b88c_11e8_8a75_dc5360f0b580row1_col1\" class=\"data row1 col1\" >0.213878</td> \n",
       "        <td id=\"T_08e68d14_b88c_11e8_8a75_dc5360f0b580row1_col2\" class=\"data row1 col2\" >0.242727</td> \n",
       "        <td id=\"T_08e68d14_b88c_11e8_8a75_dc5360f0b580row1_col3\" class=\"data row1 col3\" >0.0288492</td> \n",
       "    </tr>    <tr> \n",
       "        <th id=\"T_08e68d14_b88c_11e8_8a75_dc5360f0b580level0_row2\" class=\"row_heading level0 row2\" >2</th> \n",
       "        <td id=\"T_08e68d14_b88c_11e8_8a75_dc5360f0b580row2_col0\" class=\"data row2 col0\" >Official Documentation/Help</td> \n",
       "        <td id=\"T_08e68d14_b88c_11e8_8a75_dc5360f0b580row2_col1\" class=\"data row2 col1\" >0.896751</td> \n",
       "        <td id=\"T_08e68d14_b88c_11e8_8a75_dc5360f0b580row2_col2\" class=\"data row2 col2\" >0.884264</td> \n",
       "        <td id=\"T_08e68d14_b88c_11e8_8a75_dc5360f0b580row2_col3\" class=\"data row2 col3\" >-0.0124873</td> \n",
       "    </tr>    <tr> \n",
       "        <th id=\"T_08e68d14_b88c_11e8_8a75_dc5360f0b580level0_row3\" class=\"row_heading level0 row3\" >3</th> \n",
       "        <td id=\"T_08e68d14_b88c_11e8_8a75_dc5360f0b580row3_col0\" class=\"data row3 col0\" >Online Community</td> \n",
       "        <td id=\"T_08e68d14_b88c_11e8_8a75_dc5360f0b580row3_col1\" class=\"data row3 col1\" >0.896693</td> \n",
       "        <td id=\"T_08e68d14_b88c_11e8_8a75_dc5360f0b580row3_col2\" class=\"data row3 col2\" >0.918666</td> \n",
       "        <td id=\"T_08e68d14_b88c_11e8_8a75_dc5360f0b580row3_col3\" class=\"data row3 col3\" >0.021973</td> \n",
       "    </tr>    <tr> \n",
       "        <th id=\"T_08e68d14_b88c_11e8_8a75_dc5360f0b580level0_row4\" class=\"row_heading level0 row4\" >4</th> \n",
       "        <td id=\"T_08e68d14_b88c_11e8_8a75_dc5360f0b580row4_col0\" class=\"data row4 col0\" >Textbook</td> \n",
       "        <td id=\"T_08e68d14_b88c_11e8_8a75_dc5360f0b580row4_col1\" class=\"data row4 col1\" >0.555624</td> \n",
       "        <td id=\"T_08e68d14_b88c_11e8_8a75_dc5360f0b580row4_col2\" class=\"data row4 col2\" >0.634954</td> \n",
       "        <td id=\"T_08e68d14_b88c_11e8_8a75_dc5360f0b580row4_col3\" class=\"data row4 col3\" >0.0793299</td> \n",
       "    </tr></tbody> \n",
       "</table> "
      ],
      "text/plain": [
       "<pandas.io.formats.style.Styler at 0x1433b17a8d0>"
      ]
     },
     "execution_count": 64,
     "metadata": {},
     "output_type": "execute_result"
    }
   ],
   "source": [
    "# Create summary dataframe\n",
    "self_types_props = create_summary(self_types_ds, self_types_non_ds, 'SelfTaughtTypes', drop = False, multi = True)\n",
    "\n",
    "# Create difference plot\n",
    "self_types_props['Diff'] = self_types_props['DS'] - self_types_props['Non_DS']\n",
    "self_types_props.style.bar(subset = ['Diff'], align = 'mid', color = ['#d65f5f', '#5fba7d'])"
   ]
  },
  {
   "cell_type": "markdown",
   "metadata": {},
   "source": [
    "Both data scientists and non-data scientists prefer to make use of official documentation/help or online communities for self learning."
   ]
  },
  {
   "cell_type": "markdown",
   "metadata": {},
   "source": [
    "### 2. What programming languages do data scientists favour and how do they differ from those used by non-data scientists?"
   ]
  },
  {
   "cell_type": "code",
   "execution_count": 65,
   "metadata": {},
   "outputs": [
    {
     "data": {
      "text/html": [
       "<style  type=\"text/css\" >\n",
       "    #T_1cc61b2c_b88c_11e8_8b7b_dc5360f0b580row0_col3 {\n",
       "            width:  10em;\n",
       "             height:  80%;\n",
       "            background:  linear-gradient(90deg, transparent 0%, transparent 28.5%, #5fba7d 28.5%, #5fba7d 34.8%, transparent 34.8%);\n",
       "        }    #T_1cc61b2c_b88c_11e8_8b7b_dc5360f0b580row1_col3 {\n",
       "            width:  10em;\n",
       "             height:  80%;\n",
       "            background:  linear-gradient(90deg, transparent 0%, transparent 28.5%, #5fba7d 28.5%, #5fba7d 50.8%, transparent 50.8%);\n",
       "        }    #T_1cc61b2c_b88c_11e8_8b7b_dc5360f0b580row2_col3 {\n",
       "            width:  10em;\n",
       "             height:  80%;\n",
       "            background:  linear-gradient(90deg, transparent 0%, transparent 28.5%, #5fba7d 28.5%, #5fba7d 44.2%, transparent 44.2%);\n",
       "        }    #T_1cc61b2c_b88c_11e8_8b7b_dc5360f0b580row3_col3 {\n",
       "            width:  10em;\n",
       "             height:  80%;\n",
       "            background:  linear-gradient(90deg, transparent 0%, transparent 11.2%, #d65f5f 11.2%, #d65f5f 28.5%, transparent 28.5%);\n",
       "        }    #T_1cc61b2c_b88c_11e8_8b7b_dc5360f0b580row4_col3 {\n",
       "            width:  10em;\n",
       "             height:  80%;\n",
       "            background:  linear-gradient(90deg, transparent 0%, transparent 28.5%, #5fba7d 28.5%, #5fba7d 49.7%, transparent 49.7%);\n",
       "        }    #T_1cc61b2c_b88c_11e8_8b7b_dc5360f0b580row5_col3 {\n",
       "            width:  10em;\n",
       "             height:  80%;\n",
       "            background:  linear-gradient(90deg, transparent 0%, transparent 4.1%, #d65f5f 4.1%, #d65f5f 28.5%, transparent 28.5%);\n",
       "        }    #T_1cc61b2c_b88c_11e8_8b7b_dc5360f0b580row6_col3 {\n",
       "            width:  10em;\n",
       "             height:  80%;\n",
       "            background:  linear-gradient(90deg, transparent 0%, transparent 28.5%, #5fba7d 28.5%, #5fba7d 30.3%, transparent 30.3%);\n",
       "        }    #T_1cc61b2c_b88c_11e8_8b7b_dc5360f0b580row7_col3 {\n",
       "            width:  10em;\n",
       "             height:  80%;\n",
       "            background:  linear-gradient(90deg, transparent 0%, transparent 28.5%, #5fba7d 28.5%, #5fba7d 29.5%, transparent 29.5%);\n",
       "        }    #T_1cc61b2c_b88c_11e8_8b7b_dc5360f0b580row8_col3 {\n",
       "            width:  10em;\n",
       "             height:  80%;\n",
       "            background:  linear-gradient(90deg, transparent 0%, transparent 28.5%, #d65f5f 28.5%, #d65f5f 28.5%, transparent 28.5%);\n",
       "        }    #T_1cc61b2c_b88c_11e8_8b7b_dc5360f0b580row9_col3 {\n",
       "            width:  10em;\n",
       "             height:  80%;\n",
       "            background:  linear-gradient(90deg, transparent 0%, transparent 28.5%, #5fba7d 28.5%, #5fba7d 28.8%, transparent 28.8%);\n",
       "        }    #T_1cc61b2c_b88c_11e8_8b7b_dc5360f0b580row10_col3 {\n",
       "            width:  10em;\n",
       "             height:  80%;\n",
       "            background:  linear-gradient(90deg, transparent 0%, transparent 28.5%, #5fba7d 28.5%, #5fba7d 29.7%, transparent 29.7%);\n",
       "        }    #T_1cc61b2c_b88c_11e8_8b7b_dc5360f0b580row11_col3 {\n",
       "            width:  10em;\n",
       "             height:  80%;\n",
       "            background:  linear-gradient(90deg, transparent 0%, transparent 28.5%, #5fba7d 28.5%, #5fba7d 30.0%, transparent 30.0%);\n",
       "        }    #T_1cc61b2c_b88c_11e8_8b7b_dc5360f0b580row12_col3 {\n",
       "            width:  10em;\n",
       "             height:  80%;\n",
       "            background:  linear-gradient(90deg, transparent 0%, transparent 28.5%, #5fba7d 28.5%, #5fba7d 32.5%, transparent 32.5%);\n",
       "        }    #T_1cc61b2c_b88c_11e8_8b7b_dc5360f0b580row13_col3 {\n",
       "            width:  10em;\n",
       "             height:  80%;\n",
       "            background:  linear-gradient(90deg, transparent 0%, transparent 27.9%, #d65f5f 27.9%, #d65f5f 28.5%, transparent 28.5%);\n",
       "        }    #T_1cc61b2c_b88c_11e8_8b7b_dc5360f0b580row14_col3 {\n",
       "            width:  10em;\n",
       "             height:  80%;\n",
       "            background:  linear-gradient(90deg, transparent 0%, transparent 6.7%, #d65f5f 6.7%, #d65f5f 28.5%, transparent 28.5%);\n",
       "        }    #T_1cc61b2c_b88c_11e8_8b7b_dc5360f0b580row15_col3 {\n",
       "            width:  10em;\n",
       "             height:  80%;\n",
       "            background:  linear-gradient(90deg, transparent 0%, transparent 28.5%, #5fba7d 28.5%, #5fba7d 29.5%, transparent 29.5%);\n",
       "        }    #T_1cc61b2c_b88c_11e8_8b7b_dc5360f0b580row16_col3 {\n",
       "            width:  10em;\n",
       "             height:  80%;\n",
       "            background:  linear-gradient(90deg, transparent 0%, transparent 28.5%, #5fba7d 28.5%, #5fba7d 32.8%, transparent 32.8%);\n",
       "        }    #T_1cc61b2c_b88c_11e8_8b7b_dc5360f0b580row17_col3 {\n",
       "            width:  10em;\n",
       "             height:  80%;\n",
       "            background:  linear-gradient(90deg, transparent 0%, transparent 28.5%, #5fba7d 28.5%, #5fba7d 28.8%, transparent 28.8%);\n",
       "        }    #T_1cc61b2c_b88c_11e8_8b7b_dc5360f0b580row18_col3 {\n",
       "            width:  10em;\n",
       "             height:  80%;\n",
       "            background:  linear-gradient(90deg, transparent 0%, transparent -0.0%, #d65f5f -0.0%, #d65f5f 28.5%, transparent 28.5%);\n",
       "        }    #T_1cc61b2c_b88c_11e8_8b7b_dc5360f0b580row19_col3 {\n",
       "            width:  10em;\n",
       "             height:  80%;\n",
       "            background:  linear-gradient(90deg, transparent 0%, transparent 28.5%, #5fba7d 28.5%, #5fba7d 33.3%, transparent 33.3%);\n",
       "        }    #T_1cc61b2c_b88c_11e8_8b7b_dc5360f0b580row20_col3 {\n",
       "            width:  10em;\n",
       "             height:  80%;\n",
       "            background:  linear-gradient(90deg, transparent 0%, transparent 26.7%, #d65f5f 26.7%, #d65f5f 28.5%, transparent 28.5%);\n",
       "        }    #T_1cc61b2c_b88c_11e8_8b7b_dc5360f0b580row21_col3 {\n",
       "            width:  10em;\n",
       "             height:  80%;\n",
       "            background:  linear-gradient(90deg, transparent 0%, transparent 28.5%, #5fba7d 28.5%, #5fba7d 30.7%, transparent 30.7%);\n",
       "        }    #T_1cc61b2c_b88c_11e8_8b7b_dc5360f0b580row22_col3 {\n",
       "            width:  10em;\n",
       "             height:  80%;\n",
       "            background:  linear-gradient(90deg, transparent 0%, transparent 28.5%, #5fba7d 28.5%, #5fba7d 53.6%, transparent 53.6%);\n",
       "        }    #T_1cc61b2c_b88c_11e8_8b7b_dc5360f0b580row23_col3 {\n",
       "            width:  10em;\n",
       "             height:  80%;\n",
       "            background:  linear-gradient(90deg, transparent 0%, transparent 26.0%, #d65f5f 26.0%, #d65f5f 28.5%, transparent 28.5%);\n",
       "        }    #T_1cc61b2c_b88c_11e8_8b7b_dc5360f0b580row24_col3 {\n",
       "            width:  10em;\n",
       "             height:  80%;\n",
       "            background:  linear-gradient(90deg, transparent 0%, transparent 28.5%, #5fba7d 28.5%, #5fba7d 29.8%, transparent 29.8%);\n",
       "        }    #T_1cc61b2c_b88c_11e8_8b7b_dc5360f0b580row25_col3 {\n",
       "            width:  10em;\n",
       "             height:  80%;\n",
       "            background:  linear-gradient(90deg, transparent 0%, transparent 12.5%, #d65f5f 12.5%, #d65f5f 28.5%, transparent 28.5%);\n",
       "        }    #T_1cc61b2c_b88c_11e8_8b7b_dc5360f0b580row26_col3 {\n",
       "            width:  10em;\n",
       "             height:  80%;\n",
       "            background:  linear-gradient(90deg, transparent 0%, transparent 28.5%, #5fba7d 28.5%, #5fba7d 32.0%, transparent 32.0%);\n",
       "        }    #T_1cc61b2c_b88c_11e8_8b7b_dc5360f0b580row27_col3 {\n",
       "            width:  10em;\n",
       "             height:  80%;\n",
       "            background:  linear-gradient(90deg, transparent 0%, transparent 28.5%, #5fba7d 28.5%, #5fba7d 100.0%, transparent 100.0%);\n",
       "        }    #T_1cc61b2c_b88c_11e8_8b7b_dc5360f0b580row28_col3 {\n",
       "            width:  10em;\n",
       "             height:  80%;\n",
       "            background:  linear-gradient(90deg, transparent 0%, transparent 28.5%, #5fba7d 28.5%, #5fba7d 80.7%, transparent 80.7%);\n",
       "        }    #T_1cc61b2c_b88c_11e8_8b7b_dc5360f0b580row29_col3 {\n",
       "            width:  10em;\n",
       "             height:  80%;\n",
       "            background:  linear-gradient(90deg, transparent 0%, transparent 25.7%, #d65f5f 25.7%, #d65f5f 28.5%, transparent 28.5%);\n",
       "        }    #T_1cc61b2c_b88c_11e8_8b7b_dc5360f0b580row30_col3 {\n",
       "            width:  10em;\n",
       "             height:  80%;\n",
       "            background:  linear-gradient(90deg, transparent 0%, transparent 28.5%, #5fba7d 28.5%, #5fba7d 30.4%, transparent 30.4%);\n",
       "        }    #T_1cc61b2c_b88c_11e8_8b7b_dc5360f0b580row31_col3 {\n",
       "            width:  10em;\n",
       "             height:  80%;\n",
       "            background:  linear-gradient(90deg, transparent 0%, transparent 28.5%, #5fba7d 28.5%, #5fba7d 30.5%, transparent 30.5%);\n",
       "        }    #T_1cc61b2c_b88c_11e8_8b7b_dc5360f0b580row32_col3 {\n",
       "            width:  10em;\n",
       "             height:  80%;\n",
       "            background:  linear-gradient(90deg, transparent 0%, transparent 28.5%, #5fba7d 28.5%, #5fba7d 42.9%, transparent 42.9%);\n",
       "        }    #T_1cc61b2c_b88c_11e8_8b7b_dc5360f0b580row33_col3 {\n",
       "            width:  10em;\n",
       "             height:  80%;\n",
       "            background:  linear-gradient(90deg, transparent 0%, transparent 25.4%, #d65f5f 25.4%, #d65f5f 28.5%, transparent 28.5%);\n",
       "        }    #T_1cc61b2c_b88c_11e8_8b7b_dc5360f0b580row34_col3 {\n",
       "            width:  10em;\n",
       "             height:  80%;\n",
       "            background:  linear-gradient(90deg, transparent 0%, transparent 15.2%, #d65f5f 15.2%, #d65f5f 28.5%, transparent 28.5%);\n",
       "        }    #T_1cc61b2c_b88c_11e8_8b7b_dc5360f0b580row35_col3 {\n",
       "            width:  10em;\n",
       "             height:  80%;\n",
       "            background:  linear-gradient(90deg, transparent 0%, transparent 27.3%, #d65f5f 27.3%, #d65f5f 28.5%, transparent 28.5%);\n",
       "        }    #T_1cc61b2c_b88c_11e8_8b7b_dc5360f0b580row36_col3 {\n",
       "            width:  10em;\n",
       "             height:  80%;\n",
       "            background:  linear-gradient(90deg, transparent 0%, transparent 28.5%, #5fba7d 28.5%, #5fba7d 33.2%, transparent 33.2%);\n",
       "        }    #T_1cc61b2c_b88c_11e8_8b7b_dc5360f0b580row37_col3 {\n",
       "            width:  10em;\n",
       "             height:  80%;\n",
       "            background:  linear-gradient(90deg, transparent 0%, transparent 28.5%, #5fba7d 28.5%, #5fba7d 29.2%, transparent 29.2%);\n",
       "        }</style>  \n",
       "<table id=\"T_1cc61b2c_b88c_11e8_8b7b_dc5360f0b580\" > \n",
       "<thead>    <tr> \n",
       "        <th class=\"blank level0\" ></th> \n",
       "        <th class=\"col_heading level0 col0\" >LanguageWorkedWith</th> \n",
       "        <th class=\"col_heading level0 col1\" >Non_DS</th> \n",
       "        <th class=\"col_heading level0 col2\" >DS</th> \n",
       "        <th class=\"col_heading level0 col3\" >Diff</th> \n",
       "    </tr></thead> \n",
       "<tbody>    <tr> \n",
       "        <th id=\"T_1cc61b2c_b88c_11e8_8b7b_dc5360f0b580level0_row0\" class=\"row_heading level0 row0\" >0</th> \n",
       "        <td id=\"T_1cc61b2c_b88c_11e8_8b7b_dc5360f0b580row0_col0\" class=\"data row0 col0\" >Assembly</td> \n",
       "        <td id=\"T_1cc61b2c_b88c_11e8_8b7b_dc5360f0b580row0_col1\" class=\"data row0 col1\" >0.0698524</td> \n",
       "        <td id=\"T_1cc61b2c_b88c_11e8_8b7b_dc5360f0b580row0_col2\" class=\"data row0 col2\" >0.106564</td> \n",
       "        <td id=\"T_1cc61b2c_b88c_11e8_8b7b_dc5360f0b580row0_col3\" class=\"data row0 col3\" >0.0367118</td> \n",
       "    </tr>    <tr> \n",
       "        <th id=\"T_1cc61b2c_b88c_11e8_8b7b_dc5360f0b580level0_row1\" class=\"row_heading level0 row1\" >1</th> \n",
       "        <td id=\"T_1cc61b2c_b88c_11e8_8b7b_dc5360f0b580row1_col0\" class=\"data row1 col0\" >Bash/Shell</td> \n",
       "        <td id=\"T_1cc61b2c_b88c_11e8_8b7b_dc5360f0b580row1_col1\" class=\"data row1 col1\" >0.388626</td> \n",
       "        <td id=\"T_1cc61b2c_b88c_11e8_8b7b_dc5360f0b580row1_col2\" class=\"data row1 col2\" >0.517956</td> \n",
       "        <td id=\"T_1cc61b2c_b88c_11e8_8b7b_dc5360f0b580row1_col3\" class=\"data row1 col3\" >0.12933</td> \n",
       "    </tr>    <tr> \n",
       "        <th id=\"T_1cc61b2c_b88c_11e8_8b7b_dc5360f0b580level0_row2\" class=\"row_heading level0 row2\" >2</th> \n",
       "        <td id=\"T_1cc61b2c_b88c_11e8_8b7b_dc5360f0b580row2_col0\" class=\"data row2 col0\" >C</td> \n",
       "        <td id=\"T_1cc61b2c_b88c_11e8_8b7b_dc5360f0b580row2_col1\" class=\"data row2 col1\" >0.221945</td> \n",
       "        <td id=\"T_1cc61b2c_b88c_11e8_8b7b_dc5360f0b580row2_col2\" class=\"data row2 col2\" >0.313012</td> \n",
       "        <td id=\"T_1cc61b2c_b88c_11e8_8b7b_dc5360f0b580row2_col3\" class=\"data row2 col3\" >0.0910668</td> \n",
       "    </tr>    <tr> \n",
       "        <th id=\"T_1cc61b2c_b88c_11e8_8b7b_dc5360f0b580level0_row3\" class=\"row_heading level0 row3\" >3</th> \n",
       "        <td id=\"T_1cc61b2c_b88c_11e8_8b7b_dc5360f0b580row3_col0\" class=\"data row3 col0\" >C#</td> \n",
       "        <td id=\"T_1cc61b2c_b88c_11e8_8b7b_dc5360f0b580row3_col1\" class=\"data row3 col1\" >0.35365</td> \n",
       "        <td id=\"T_1cc61b2c_b88c_11e8_8b7b_dc5360f0b580row3_col2\" class=\"data row3 col2\" >0.253382</td> \n",
       "        <td id=\"T_1cc61b2c_b88c_11e8_8b7b_dc5360f0b580row3_col3\" class=\"data row3 col3\" >-0.100268</td> \n",
       "    </tr>    <tr> \n",
       "        <th id=\"T_1cc61b2c_b88c_11e8_8b7b_dc5360f0b580level0_row4\" class=\"row_heading level0 row4\" >4</th> \n",
       "        <td id=\"T_1cc61b2c_b88c_11e8_8b7b_dc5360f0b580row4_col0\" class=\"data row4 col0\" >C++</td> \n",
       "        <td id=\"T_1cc61b2c_b88c_11e8_8b7b_dc5360f0b580row4_col1\" class=\"data row4 col1\" >0.24284</td> \n",
       "        <td id=\"T_1cc61b2c_b88c_11e8_8b7b_dc5360f0b580row4_col2\" class=\"data row4 col2\" >0.365626</td> \n",
       "        <td id=\"T_1cc61b2c_b88c_11e8_8b7b_dc5360f0b580row4_col3\" class=\"data row4 col3\" >0.122786</td> \n",
       "    </tr>    <tr> \n",
       "        <th id=\"T_1cc61b2c_b88c_11e8_8b7b_dc5360f0b580level0_row5\" class=\"row_heading level0 row5\" >5</th> \n",
       "        <td id=\"T_1cc61b2c_b88c_11e8_8b7b_dc5360f0b580row5_col0\" class=\"data row5 col0\" >CSS</td> \n",
       "        <td id=\"T_1cc61b2c_b88c_11e8_8b7b_dc5360f0b580row5_col1\" class=\"data row5 col1\" >0.665975</td> \n",
       "        <td id=\"T_1cc61b2c_b88c_11e8_8b7b_dc5360f0b580row5_col2\" class=\"data row5 col2\" >0.524303</td> \n",
       "        <td id=\"T_1cc61b2c_b88c_11e8_8b7b_dc5360f0b580row5_col3\" class=\"data row5 col3\" >-0.141673</td> \n",
       "    </tr>    <tr> \n",
       "        <th id=\"T_1cc61b2c_b88c_11e8_8b7b_dc5360f0b580level0_row6\" class=\"row_heading level0 row6\" >6</th> \n",
       "        <td id=\"T_1cc61b2c_b88c_11e8_8b7b_dc5360f0b580row6_col0\" class=\"data row6 col0\" >Clojure</td> \n",
       "        <td id=\"T_1cc61b2c_b88c_11e8_8b7b_dc5360f0b580row6_col1\" class=\"data row6 col1\" >0.0122464</td> \n",
       "        <td id=\"T_1cc61b2c_b88c_11e8_8b7b_dc5360f0b580row6_col2\" class=\"data row6 col2\" >0.0227159</td> \n",
       "        <td id=\"T_1cc61b2c_b88c_11e8_8b7b_dc5360f0b580row6_col3\" class=\"data row6 col3\" >0.0104695</td> \n",
       "    </tr>    <tr> \n",
       "        <th id=\"T_1cc61b2c_b88c_11e8_8b7b_dc5360f0b580level0_row7\" class=\"row_heading level0 row7\" >7</th> \n",
       "        <td id=\"T_1cc61b2c_b88c_11e8_8b7b_dc5360f0b580row7_col0\" class=\"data row7 col0\" >Cobol</td> \n",
       "        <td id=\"T_1cc61b2c_b88c_11e8_8b7b_dc5360f0b580row7_col1\" class=\"data row7 col1\" >0.00681453</td> \n",
       "        <td id=\"T_1cc61b2c_b88c_11e8_8b7b_dc5360f0b580row7_col2\" class=\"data row7 col2\" >0.0125271</td> \n",
       "        <td id=\"T_1cc61b2c_b88c_11e8_8b7b_dc5360f0b580row7_col3\" class=\"data row7 col3\" >0.00571262</td> \n",
       "    </tr>    <tr> \n",
       "        <th id=\"T_1cc61b2c_b88c_11e8_8b7b_dc5360f0b580level0_row8\" class=\"row_heading level0 row8\" >8</th> \n",
       "        <td id=\"T_1cc61b2c_b88c_11e8_8b7b_dc5360f0b580row8_col0\" class=\"data row8 col0\" >CoffeeScript</td> \n",
       "        <td id=\"T_1cc61b2c_b88c_11e8_8b7b_dc5360f0b580row8_col1\" class=\"data row8 col1\" >0.0334377</td> \n",
       "        <td id=\"T_1cc61b2c_b88c_11e8_8b7b_dc5360f0b580row8_col2\" class=\"data row8 col2\" >0.0332387</td> \n",
       "        <td id=\"T_1cc61b2c_b88c_11e8_8b7b_dc5360f0b580row8_col3\" class=\"data row8 col3\" >-0.000199054</td> \n",
       "    </tr>    <tr> \n",
       "        <th id=\"T_1cc61b2c_b88c_11e8_8b7b_dc5360f0b580level0_row9\" class=\"row_heading level0 row9\" >9</th> \n",
       "        <td id=\"T_1cc61b2c_b88c_11e8_8b7b_dc5360f0b580row9_col0\" class=\"data row9 col0\" >Delphi/Object Pascal</td> \n",
       "        <td id=\"T_1cc61b2c_b88c_11e8_8b7b_dc5360f0b580row9_col1\" class=\"data row9 col1\" >0.0254663</td> \n",
       "        <td id=\"T_1cc61b2c_b88c_11e8_8b7b_dc5360f0b580row9_col2\" class=\"data row9 col2\" >0.0273927</td> \n",
       "        <td id=\"T_1cc61b2c_b88c_11e8_8b7b_dc5360f0b580row9_col3\" class=\"data row9 col3\" >0.00192639</td> \n",
       "    </tr>    <tr> \n",
       "        <th id=\"T_1cc61b2c_b88c_11e8_8b7b_dc5360f0b580level0_row10\" class=\"row_heading level0 row10\" >10</th> \n",
       "        <td id=\"T_1cc61b2c_b88c_11e8_8b7b_dc5360f0b580row10_col0\" class=\"data row10 col0\" >Erlang</td> \n",
       "        <td id=\"T_1cc61b2c_b88c_11e8_8b7b_dc5360f0b580row10_col1\" class=\"data row10 col1\" >0.0107227</td> \n",
       "        <td id=\"T_1cc61b2c_b88c_11e8_8b7b_dc5360f0b580row10_col2\" class=\"data row10 col2\" >0.017538</td> \n",
       "        <td id=\"T_1cc61b2c_b88c_11e8_8b7b_dc5360f0b580row10_col3\" class=\"data row10 col3\" >0.00681535</td> \n",
       "    </tr>    <tr> \n",
       "        <th id=\"T_1cc61b2c_b88c_11e8_8b7b_dc5360f0b580level0_row11\" class=\"row_heading level0 row11\" >11</th> \n",
       "        <td id=\"T_1cc61b2c_b88c_11e8_8b7b_dc5360f0b580row11_col0\" class=\"data row11 col0\" >F#</td> \n",
       "        <td id=\"T_1cc61b2c_b88c_11e8_8b7b_dc5360f0b580row11_col1\" class=\"data row11 col1\" >0.0134033</td> \n",
       "        <td id=\"T_1cc61b2c_b88c_11e8_8b7b_dc5360f0b580row11_col2\" class=\"data row11 col2\" >0.0222148</td> \n",
       "        <td id=\"T_1cc61b2c_b88c_11e8_8b7b_dc5360f0b580row11_col3\" class=\"data row11 col3\" >0.00881149</td> \n",
       "    </tr>    <tr> \n",
       "        <th id=\"T_1cc61b2c_b88c_11e8_8b7b_dc5360f0b580level0_row12\" class=\"row_heading level0 row12\" >12</th> \n",
       "        <td id=\"T_1cc61b2c_b88c_11e8_8b7b_dc5360f0b580row12_col0\" class=\"data row12 col0\" >Go</td> \n",
       "        <td id=\"T_1cc61b2c_b88c_11e8_8b7b_dc5360f0b580row12_col1\" class=\"data row12 col1\" >0.0690482</td> \n",
       "        <td id=\"T_1cc61b2c_b88c_11e8_8b7b_dc5360f0b580row12_col2\" class=\"data row12 col2\" >0.0920327</td> \n",
       "        <td id=\"T_1cc61b2c_b88c_11e8_8b7b_dc5360f0b580row12_col3\" class=\"data row12 col3\" >0.0229845</td> \n",
       "    </tr>    <tr> \n",
       "        <th id=\"T_1cc61b2c_b88c_11e8_8b7b_dc5360f0b580level0_row13\" class=\"row_heading level0 row13\" >13</th> \n",
       "        <td id=\"T_1cc61b2c_b88c_11e8_8b7b_dc5360f0b580row13_col0\" class=\"data row13 col0\" >Groovy</td> \n",
       "        <td id=\"T_1cc61b2c_b88c_11e8_8b7b_dc5360f0b580row13_col1\" class=\"data row13 col1\" >0.0436384</td> \n",
       "        <td id=\"T_1cc61b2c_b88c_11e8_8b7b_dc5360f0b580row13_col2\" class=\"data row13 col2\" >0.0399198</td> \n",
       "        <td id=\"T_1cc61b2c_b88c_11e8_8b7b_dc5360f0b580row13_col3\" class=\"data row13 col3\" >-0.00371854</td> \n",
       "    </tr>    <tr> \n",
       "        <th id=\"T_1cc61b2c_b88c_11e8_8b7b_dc5360f0b580level0_row14\" class=\"row_heading level0 row14\" >14</th> \n",
       "        <td id=\"T_1cc61b2c_b88c_11e8_8b7b_dc5360f0b580row14_col0\" class=\"data row14 col0\" >HTML</td> \n",
       "        <td id=\"T_1cc61b2c_b88c_11e8_8b7b_dc5360f0b580row14_col1\" class=\"data row14 col1\" >0.698059</td> \n",
       "        <td id=\"T_1cc61b2c_b88c_11e8_8b7b_dc5360f0b580row14_col2\" class=\"data row14 col2\" >0.571572</td> \n",
       "        <td id=\"T_1cc61b2c_b88c_11e8_8b7b_dc5360f0b580row14_col3\" class=\"data row14 col3\" >-0.126487</td> \n",
       "    </tr>    <tr> \n",
       "        <th id=\"T_1cc61b2c_b88c_11e8_8b7b_dc5360f0b580level0_row15\" class=\"row_heading level0 row15\" >15</th> \n",
       "        <td id=\"T_1cc61b2c_b88c_11e8_8b7b_dc5360f0b580row15_col0\" class=\"data row15 col0\" >Hack</td> \n",
       "        <td id=\"T_1cc61b2c_b88c_11e8_8b7b_dc5360f0b580row15_col1\" class=\"data row15 col1\" >0.00259601</td> \n",
       "        <td id=\"T_1cc61b2c_b88c_11e8_8b7b_dc5360f0b580row15_col2\" class=\"data row15 col2\" >0.0081844</td> \n",
       "        <td id=\"T_1cc61b2c_b88c_11e8_8b7b_dc5360f0b580row15_col3\" class=\"data row15 col3\" >0.00558839</td> \n",
       "    </tr>    <tr> \n",
       "        <th id=\"T_1cc61b2c_b88c_11e8_8b7b_dc5360f0b580level0_row16\" class=\"row_heading level0 row16\" >16</th> \n",
       "        <td id=\"T_1cc61b2c_b88c_11e8_8b7b_dc5360f0b580row16_col0\" class=\"data row16 col0\" >Haskell</td> \n",
       "        <td id=\"T_1cc61b2c_b88c_11e8_8b7b_dc5360f0b580row16_col1\" class=\"data row16 col1\" >0.0227997</td> \n",
       "        <td id=\"T_1cc61b2c_b88c_11e8_8b7b_dc5360f0b580row16_col2\" class=\"data row16 col2\" >0.0479372</td> \n",
       "        <td id=\"T_1cc61b2c_b88c_11e8_8b7b_dc5360f0b580row16_col3\" class=\"data row16 col3\" >0.0251375</td> \n",
       "    </tr>    <tr> \n",
       "        <th id=\"T_1cc61b2c_b88c_11e8_8b7b_dc5360f0b580level0_row17\" class=\"row_heading level0 row17\" >17</th> \n",
       "        <td id=\"T_1cc61b2c_b88c_11e8_8b7b_dc5360f0b580row17_col0\" class=\"data row17 col0\" >Java</td> \n",
       "        <td id=\"T_1cc61b2c_b88c_11e8_8b7b_dc5360f0b580row17_col1\" class=\"data row17 col1\" >0.45543</td> \n",
       "        <td id=\"T_1cc61b2c_b88c_11e8_8b7b_dc5360f0b580row17_col2\" class=\"data row17 col2\" >0.45699</td> \n",
       "        <td id=\"T_1cc61b2c_b88c_11e8_8b7b_dc5360f0b580row17_col3\" class=\"data row17 col3\" >0.00155969</td> \n",
       "    </tr>    <tr> \n",
       "        <th id=\"T_1cc61b2c_b88c_11e8_8b7b_dc5360f0b580level0_row18\" class=\"row_heading level0 row18\" >18</th> \n",
       "        <td id=\"T_1cc61b2c_b88c_11e8_8b7b_dc5360f0b580row18_col0\" class=\"data row18 col0\" >JavaScript</td> \n",
       "        <td id=\"T_1cc61b2c_b88c_11e8_8b7b_dc5360f0b580row18_col1\" class=\"data row18 col1\" >0.715652</td> \n",
       "        <td id=\"T_1cc61b2c_b88c_11e8_8b7b_dc5360f0b580row18_col2\" class=\"data row18 col2\" >0.550359</td> \n",
       "        <td id=\"T_1cc61b2c_b88c_11e8_8b7b_dc5360f0b580row18_col3\" class=\"data row18 col3\" >-0.165293</td> \n",
       "    </tr>    <tr> \n",
       "        <th id=\"T_1cc61b2c_b88c_11e8_8b7b_dc5360f0b580level0_row19\" class=\"row_heading level0 row19\" >19</th> \n",
       "        <td id=\"T_1cc61b2c_b88c_11e8_8b7b_dc5360f0b580row19_col0\" class=\"data row19 col0\" >Julia</td> \n",
       "        <td id=\"T_1cc61b2c_b88c_11e8_8b7b_dc5360f0b580row19_col1\" class=\"data row19 col1\" >0.00317447</td> \n",
       "        <td id=\"T_1cc61b2c_b88c_11e8_8b7b_dc5360f0b580row19_col2\" class=\"data row19 col2\" >0.0310673</td> \n",
       "        <td id=\"T_1cc61b2c_b88c_11e8_8b7b_dc5360f0b580row19_col3\" class=\"data row19 col3\" >0.0278928</td> \n",
       "    </tr>    <tr> \n",
       "        <th id=\"T_1cc61b2c_b88c_11e8_8b7b_dc5360f0b580level0_row20\" class=\"row_heading level0 row20\" >20</th> \n",
       "        <td id=\"T_1cc61b2c_b88c_11e8_8b7b_dc5360f0b580row20_col0\" class=\"data row20 col0\" >Kotlin</td> \n",
       "        <td id=\"T_1cc61b2c_b88c_11e8_8b7b_dc5360f0b580row20_col1\" class=\"data row20 col1\" >0.0460369</td> \n",
       "        <td id=\"T_1cc61b2c_b88c_11e8_8b7b_dc5360f0b580row20_col2\" class=\"data row20 col2\" >0.0354101</td> \n",
       "        <td id=\"T_1cc61b2c_b88c_11e8_8b7b_dc5360f0b580row20_col3\" class=\"data row20 col3\" >-0.0106268</td> \n",
       "    </tr>    <tr> \n",
       "        <th id=\"T_1cc61b2c_b88c_11e8_8b7b_dc5360f0b580level0_row21\" class=\"row_heading level0 row21\" >21</th> \n",
       "        <td id=\"T_1cc61b2c_b88c_11e8_8b7b_dc5360f0b580row21_col0\" class=\"data row21 col0\" >Lua</td> \n",
       "        <td id=\"T_1cc61b2c_b88c_11e8_8b7b_dc5360f0b580row21_col1\" class=\"data row21 col1\" >0.0337058</td> \n",
       "        <td id=\"T_1cc61b2c_b88c_11e8_8b7b_dc5360f0b580row21_col2\" class=\"data row21 col2\" >0.0464339</td> \n",
       "        <td id=\"T_1cc61b2c_b88c_11e8_8b7b_dc5360f0b580row21_col3\" class=\"data row21 col3\" >0.0127281</td> \n",
       "    </tr>    <tr> \n",
       "        <th id=\"T_1cc61b2c_b88c_11e8_8b7b_dc5360f0b580level0_row22\" class=\"row_heading level0 row22\" >22</th> \n",
       "        <td id=\"T_1cc61b2c_b88c_11e8_8b7b_dc5360f0b580row22_col0\" class=\"data row22 col0\" >Matlab</td> \n",
       "        <td id=\"T_1cc61b2c_b88c_11e8_8b7b_dc5360f0b580row22_col1\" class=\"data row22 col1\" >0.0463049</td> \n",
       "        <td id=\"T_1cc61b2c_b88c_11e8_8b7b_dc5360f0b580row22_col2\" class=\"data row22 col2\" >0.191749</td> \n",
       "        <td id=\"T_1cc61b2c_b88c_11e8_8b7b_dc5360f0b580row22_col3\" class=\"data row22 col3\" >0.145444</td> \n",
       "    </tr>    <tr> \n",
       "        <th id=\"T_1cc61b2c_b88c_11e8_8b7b_dc5360f0b580level0_row23\" class=\"row_heading level0 row23\" >23</th> \n",
       "        <td id=\"T_1cc61b2c_b88c_11e8_8b7b_dc5360f0b580row23_col0\" class=\"data row23 col0\" >Objective-C</td> \n",
       "        <td id=\"T_1cc61b2c_b88c_11e8_8b7b_dc5360f0b580row23_col1\" class=\"data row23 col1\" >0.0719405</td> \n",
       "        <td id=\"T_1cc61b2c_b88c_11e8_8b7b_dc5360f0b580row23_col2\" class=\"data row23 col2\" >0.0576249</td> \n",
       "        <td id=\"T_1cc61b2c_b88c_11e8_8b7b_dc5360f0b580row23_col3\" class=\"data row23 col3\" >-0.0143157</td> \n",
       "    </tr>    <tr> \n",
       "        <th id=\"T_1cc61b2c_b88c_11e8_8b7b_dc5360f0b580level0_row24\" class=\"row_heading level0 row24\" >24</th> \n",
       "        <td id=\"T_1cc61b2c_b88c_11e8_8b7b_dc5360f0b580row24_col0\" class=\"data row24 col0\" >Ocaml</td> \n",
       "        <td id=\"T_1cc61b2c_b88c_11e8_8b7b_dc5360f0b580row24_col1\" class=\"data row24 col1\" >0.00514969</td> \n",
       "        <td id=\"T_1cc61b2c_b88c_11e8_8b7b_dc5360f0b580row24_col2\" class=\"data row24 col2\" >0.0128612</td> \n",
       "        <td id=\"T_1cc61b2c_b88c_11e8_8b7b_dc5360f0b580row24_col3\" class=\"data row24 col3\" >0.00771151</td> \n",
       "    </tr>    <tr> \n",
       "        <th id=\"T_1cc61b2c_b88c_11e8_8b7b_dc5360f0b580level0_row25\" class=\"row_heading level0 row25\" >25</th> \n",
       "        <td id=\"T_1cc61b2c_b88c_11e8_8b7b_dc5360f0b580row25_col0\" class=\"data row25 col0\" >PHP</td> \n",
       "        <td id=\"T_1cc61b2c_b88c_11e8_8b7b_dc5360f0b580row25_col1\" class=\"data row25 col1\" >0.316544</td> \n",
       "        <td id=\"T_1cc61b2c_b88c_11e8_8b7b_dc5360f0b580row25_col2\" class=\"data row25 col2\" >0.223818</td> \n",
       "        <td id=\"T_1cc61b2c_b88c_11e8_8b7b_dc5360f0b580row25_col3\" class=\"data row25 col3\" >-0.0927256</td> \n",
       "    </tr>    <tr> \n",
       "        <th id=\"T_1cc61b2c_b88c_11e8_8b7b_dc5360f0b580level0_row26\" class=\"row_heading level0 row26\" >26</th> \n",
       "        <td id=\"T_1cc61b2c_b88c_11e8_8b7b_dc5360f0b580row26_col0\" class=\"data row26 col0\" >Perl</td> \n",
       "        <td id=\"T_1cc61b2c_b88c_11e8_8b7b_dc5360f0b580row26_col1\" class=\"data row26 col1\" >0.0395609</td> \n",
       "        <td id=\"T_1cc61b2c_b88c_11e8_8b7b_dc5360f0b580row26_col2\" class=\"data row26 col2\" >0.0597962</td> \n",
       "        <td id=\"T_1cc61b2c_b88c_11e8_8b7b_dc5360f0b580row26_col3\" class=\"data row26 col3\" >0.0202353</td> \n",
       "    </tr>    <tr> \n",
       "        <th id=\"T_1cc61b2c_b88c_11e8_8b7b_dc5360f0b580level0_row27\" class=\"row_heading level0 row27\" >27</th> \n",
       "        <td id=\"T_1cc61b2c_b88c_11e8_8b7b_dc5360f0b580row27_col0\" class=\"data row27 col0\" >Python</td> \n",
       "        <td id=\"T_1cc61b2c_b88c_11e8_8b7b_dc5360f0b580row27_col1\" class=\"data row27 col1\" >0.353255</td> \n",
       "        <td id=\"T_1cc61b2c_b88c_11e8_8b7b_dc5360f0b580row27_col2\" class=\"data row27 col2\" >0.76783</td> \n",
       "        <td id=\"T_1cc61b2c_b88c_11e8_8b7b_dc5360f0b580row27_col3\" class=\"data row27 col3\" >0.414575</td> \n",
       "    </tr>    <tr> \n",
       "        <th id=\"T_1cc61b2c_b88c_11e8_8b7b_dc5360f0b580level0_row28\" class=\"row_heading level0 row28\" >28</th> \n",
       "        <td id=\"T_1cc61b2c_b88c_11e8_8b7b_dc5360f0b580row28_col0\" class=\"data row28 col0\" >R</td> \n",
       "        <td id=\"T_1cc61b2c_b88c_11e8_8b7b_dc5360f0b580row28_col1\" class=\"data row28 col1\" >0.0371483</td> \n",
       "        <td id=\"T_1cc61b2c_b88c_11e8_8b7b_dc5360f0b580row28_col2\" class=\"data row28 col2\" >0.34007</td> \n",
       "        <td id=\"T_1cc61b2c_b88c_11e8_8b7b_dc5360f0b580row28_col3\" class=\"data row28 col3\" >0.302922</td> \n",
       "    </tr>    <tr> \n",
       "        <th id=\"T_1cc61b2c_b88c_11e8_8b7b_dc5360f0b580level0_row29\" class=\"row_heading level0 row29\" >29</th> \n",
       "        <td id=\"T_1cc61b2c_b88c_11e8_8b7b_dc5360f0b580row29_col0\" class=\"data row29 col0\" >Ruby</td> \n",
       "        <td id=\"T_1cc61b2c_b88c_11e8_8b7b_dc5360f0b580row29_col1\" class=\"data row29 col1\" >0.102768</td> \n",
       "        <td id=\"T_1cc61b2c_b88c_11e8_8b7b_dc5360f0b580row29_col2\" class=\"data row29 col2\" >0.0865208</td> \n",
       "        <td id=\"T_1cc61b2c_b88c_11e8_8b7b_dc5360f0b580row29_col3\" class=\"data row29 col3\" >-0.0162473</td> \n",
       "    </tr>    <tr> \n",
       "        <th id=\"T_1cc61b2c_b88c_11e8_8b7b_dc5360f0b580level0_row30\" class=\"row_heading level0 row30\" >30</th> \n",
       "        <td id=\"T_1cc61b2c_b88c_11e8_8b7b_dc5360f0b580row30_col0\" class=\"data row30 col0\" >Rust</td> \n",
       "        <td id=\"T_1cc61b2c_b88c_11e8_8b7b_dc5360f0b580row30_col1\" class=\"data row30 col1\" >0.022574</td> \n",
       "        <td id=\"T_1cc61b2c_b88c_11e8_8b7b_dc5360f0b580row30_col2\" class=\"data row30 col2\" >0.0337398</td> \n",
       "        <td id=\"T_1cc61b2c_b88c_11e8_8b7b_dc5360f0b580row30_col3\" class=\"data row30 col3\" >0.0111658</td> \n",
       "    </tr>    <tr> \n",
       "        <th id=\"T_1cc61b2c_b88c_11e8_8b7b_dc5360f0b580level0_row31\" class=\"row_heading level0 row31\" >31</th> \n",
       "        <td id=\"T_1cc61b2c_b88c_11e8_8b7b_dc5360f0b580row31_col0\" class=\"data row31 col0\" >SQL</td> \n",
       "        <td id=\"T_1cc61b2c_b88c_11e8_8b7b_dc5360f0b580row31_col1\" class=\"data row31 col1\" >0.57314</td> \n",
       "        <td id=\"T_1cc61b2c_b88c_11e8_8b7b_dc5360f0b580row31_col2\" class=\"data row31 col2\" >0.584767</td> \n",
       "        <td id=\"T_1cc61b2c_b88c_11e8_8b7b_dc5360f0b580row31_col3\" class=\"data row31 col3\" >0.0116272</td> \n",
       "    </tr>    <tr> \n",
       "        <th id=\"T_1cc61b2c_b88c_11e8_8b7b_dc5360f0b580level0_row32\" class=\"row_heading level0 row32\" >32</th> \n",
       "        <td id=\"T_1cc61b2c_b88c_11e8_8b7b_dc5360f0b580row32_col0\" class=\"data row32 col0\" >Scala</td> \n",
       "        <td id=\"T_1cc61b2c_b88c_11e8_8b7b_dc5360f0b580row32_col1\" class=\"data row32 col1\" >0.037233</td> \n",
       "        <td id=\"T_1cc61b2c_b88c_11e8_8b7b_dc5360f0b580row32_col2\" class=\"data row32 col2\" >0.120929</td> \n",
       "        <td id=\"T_1cc61b2c_b88c_11e8_8b7b_dc5360f0b580row32_col3\" class=\"data row32 col3\" >0.0836957</td> \n",
       "    </tr>    <tr> \n",
       "        <th id=\"T_1cc61b2c_b88c_11e8_8b7b_dc5360f0b580level0_row33\" class=\"row_heading level0 row33\" >33</th> \n",
       "        <td id=\"T_1cc61b2c_b88c_11e8_8b7b_dc5360f0b580row33_col0\" class=\"data row33 col0\" >Swift</td> \n",
       "        <td id=\"T_1cc61b2c_b88c_11e8_8b7b_dc5360f0b580row33_col1\" class=\"data row33 col1\" >0.0825362</td> \n",
       "        <td id=\"T_1cc61b2c_b88c_11e8_8b7b_dc5360f0b580row33_col2\" class=\"data row33 col2\" >0.064306</td> \n",
       "        <td id=\"T_1cc61b2c_b88c_11e8_8b7b_dc5360f0b580row33_col3\" class=\"data row33 col3\" >-0.0182302</td> \n",
       "    </tr>    <tr> \n",
       "        <th id=\"T_1cc61b2c_b88c_11e8_8b7b_dc5360f0b580level0_row34\" class=\"row_heading level0 row34\" >34</th> \n",
       "        <td id=\"T_1cc61b2c_b88c_11e8_8b7b_dc5360f0b580row34_col0\" class=\"data row34 col0\" >TypeScript</td> \n",
       "        <td id=\"T_1cc61b2c_b88c_11e8_8b7b_dc5360f0b580row34_col1\" class=\"data row34 col1\" >0.182158</td> \n",
       "        <td id=\"T_1cc61b2c_b88c_11e8_8b7b_dc5360f0b580row34_col2\" class=\"data row34 col2\" >0.105061</td> \n",
       "        <td id=\"T_1cc61b2c_b88c_11e8_8b7b_dc5360f0b580row34_col3\" class=\"data row34 col3\" >-0.0770971</td> \n",
       "    </tr>    <tr> \n",
       "        <th id=\"T_1cc61b2c_b88c_11e8_8b7b_dc5360f0b580level0_row35\" class=\"row_heading level0 row35\" >35</th> \n",
       "        <td id=\"T_1cc61b2c_b88c_11e8_8b7b_dc5360f0b580row35_col0\" class=\"data row35 col0\" >VB.NET</td> \n",
       "        <td id=\"T_1cc61b2c_b88c_11e8_8b7b_dc5360f0b580row35_col1\" class=\"data row35 col1\" >0.0677079</td> \n",
       "        <td id=\"T_1cc61b2c_b88c_11e8_8b7b_dc5360f0b580row35_col2\" class=\"data row35 col2\" >0.0609654</td> \n",
       "        <td id=\"T_1cc61b2c_b88c_11e8_8b7b_dc5360f0b580row35_col3\" class=\"data row35 col3\" >-0.00674247</td> \n",
       "    </tr>    <tr> \n",
       "        <th id=\"T_1cc61b2c_b88c_11e8_8b7b_dc5360f0b580level0_row36\" class=\"row_heading level0 row36\" >36</th> \n",
       "        <td id=\"T_1cc61b2c_b88c_11e8_8b7b_dc5360f0b580row36_col0\" class=\"data row36 col0\" >VBA</td> \n",
       "        <td id=\"T_1cc61b2c_b88c_11e8_8b7b_dc5360f0b580row36_col1\" class=\"data row36 col1\" >0.0454443</td> \n",
       "        <td id=\"T_1cc61b2c_b88c_11e8_8b7b_dc5360f0b580row36_col2\" class=\"data row36 col2\" >0.0726574</td> \n",
       "        <td id=\"T_1cc61b2c_b88c_11e8_8b7b_dc5360f0b580row36_col3\" class=\"data row36 col3\" >0.0272131</td> \n",
       "    </tr>    <tr> \n",
       "        <th id=\"T_1cc61b2c_b88c_11e8_8b7b_dc5360f0b580level0_row37\" class=\"row_heading level0 row37\" >37</th> \n",
       "        <td id=\"T_1cc61b2c_b88c_11e8_8b7b_dc5360f0b580row37_col0\" class=\"data row37 col0\" >Visual Basic 6</td> \n",
       "        <td id=\"T_1cc61b2c_b88c_11e8_8b7b_dc5360f0b580row37_col1\" class=\"data row37 col1\" >0.0390107</td> \n",
       "        <td id=\"T_1cc61b2c_b88c_11e8_8b7b_dc5360f0b580row37_col2\" class=\"data row37 col2\" >0.0427593</td> \n",
       "        <td id=\"T_1cc61b2c_b88c_11e8_8b7b_dc5360f0b580row37_col3\" class=\"data row37 col3\" >0.00374862</td> \n",
       "    </tr></tbody> \n",
       "</table> "
      ],
      "text/plain": [
       "<pandas.io.formats.style.Styler at 0x1433b1131d0>"
      ]
     },
     "execution_count": 65,
     "metadata": {},
     "output_type": "execute_result"
    }
   ],
   "source": [
    "# Create summary dataframe\n",
    "language_props = create_summary(languages_ds, languages_non_ds, 'LanguageWorkedWith', drop = False, multi = True)\n",
    "\n",
    "# Create difference plot\n",
    "language_props['Diff'] = language_props['DS'] - language_props['Non_DS']\n",
    "language_props.style.bar(subset = ['Diff'], align = 'mid', color = ['#d65f5f', '#5fba7d'])"
   ]
  },
  {
   "cell_type": "code",
   "execution_count": 68,
   "metadata": {},
   "outputs": [
    {
     "data": {
      "text/plain": [
       "[('Python', 4597),\n",
       " ('SQL', 3501),\n",
       " ('HTML', 3422),\n",
       " ('JavaScript', 3295),\n",
       " ('CSS', 3139),\n",
       " ('Bash/Shell', 3101),\n",
       " ('Java', 2736),\n",
       " ('C++', 2189),\n",
       " ('R', 2036),\n",
       " ('C', 1874)]"
      ]
     },
     "execution_count": 68,
     "metadata": {},
     "output_type": "execute_result"
    }
   ],
   "source": [
    "# Get top 10 languages used by data scientists\n",
    "Counter(languages_ds['LanguageWorkedWith']).most_common(10)"
   ]
  },
  {
   "cell_type": "code",
   "execution_count": 69,
   "metadata": {},
   "outputs": [
    {
     "data": {
      "text/plain": [
       "[('JavaScript', 50724),\n",
       " ('HTML', 49477),\n",
       " ('CSS', 47203),\n",
       " ('SQL', 40623),\n",
       " ('Java', 32280),\n",
       " ('Bash/Shell', 27545),\n",
       " ('C#', 25066),\n",
       " ('Python', 25038),\n",
       " ('PHP', 22436),\n",
       " ('C++', 17212)]"
      ]
     },
     "execution_count": 69,
     "metadata": {},
     "output_type": "execute_result"
    }
   ],
   "source": [
    "# Get top 10 languages used by non-data scientists\n",
    "Counter(languages_non_ds['LanguageWorkedWith']).most_common(10)"
   ]
  },
  {
   "cell_type": "markdown",
   "metadata": {},
   "source": [
    "There are lots of overlaps between the top 10 programming languages used by data scientists and non-data scientists. However, comparing the proportion of each subset that program in each language, data scientists are much more likely to program in Python, R or Matlab than non-data scientists (i.e. languages that are typically used for performing data science related activies, such as fitting statistical models), while non-data scientists are more likely to program in HTML, CSS and Javascript (i.e. languages often used for web design activities). Note that just because a data scientist and a non-data scientist use the same programming language, doesn't necessarily mean that they are using it for the same purpose. This is particularly the case with languages such as Python which comprise many packages for different purposes."
   ]
  },
  {
   "cell_type": "markdown",
   "metadata": {},
   "source": [
    "### 3. How much coding experience do data scientists have compared to non-data scientists?"
   ]
  },
  {
   "cell_type": "markdown",
   "metadata": {
    "collapsed": true
   },
   "source": [
    "**Years Coding**"
   ]
  },
  {
   "cell_type": "code",
   "execution_count": 89,
   "metadata": {},
   "outputs": [
    {
     "name": "stdout",
     "output_type": "stream",
     "text": [
      "         YearsCoding    Non_DS        DS\n",
      "0          0-2 years  0.114240  0.085662\n",
      "1          3-5 years  0.249308  0.245978\n",
      "2          6-8 years  0.205675  0.223257\n",
      "3         9-11 years  0.130017  0.131245\n",
      "4        12-14 years  0.086066  0.083968\n",
      "5        15-17 years  0.065462  0.066751\n",
      "6        18-20 years  0.054147  0.052216\n",
      "7        21-23 years  0.028292  0.028084\n",
      "8        24-26 years  0.019427  0.023709\n",
      "9        27-29 years  0.011256  0.011008\n",
      "10  30 or more years  0.036110  0.048123\n"
     ]
    }
   ],
   "source": [
    "# Create summary dataframe\n",
    "coding_props = create_summary(survey_ds, survey_non_ds, 'YearsCoding',  index_order = ['0-2 years', '3-5 years',\n",
    "                '6-8 years', '9-11 years', '12-14 years', '15-17 years', '18-20 years', '21-23 years', \n",
    "                '24-26 years', '27-29 years', '30 or more years'], drop = False)\n",
    "\n",
    "print(coding_props)"
   ]
  },
  {
   "cell_type": "code",
   "execution_count": 90,
   "metadata": {},
   "outputs": [
    {
     "data": {
      "image/png": "[encoded data removed]",
      "text/plain": [
       "<matplotlib.figure.Figure at 0x2632787c3c8>"
      ]
     },
     "metadata": {},
     "output_type": "display_data"
    }
   ],
   "source": [
    "# Create comparison plot\n",
    "create_bar_plot(coding_props, 'YearsCoding', 'Years Coding', 'Years Coding Distribution by Developer Type', rot = 90)"
   ]
  },
  {
   "cell_type": "markdown",
   "metadata": {},
   "source": [
    "Data scientists appear to have more years' coding experience than non-data scientists."
   ]
  },
  {
   "cell_type": "code",
   "execution_count": 99,
   "metadata": {},
   "outputs": [
    {
     "name": "stdout",
     "output_type": "stream",
     "text": [
      "The mean years coding of data scientists is: 10.11\n",
      "The mean years coding of non-data scientists is: 9.59\n"
     ]
    }
   ],
   "source": [
    "# Calculate summary statistics\n",
    "print('The mean years coding of data scientists is:', round(survey_ds['YearsCoding_Num'].mean(), 2))\n",
    "print('The mean years coding of non-data scientists is:', round(survey_non_ds['YearsCoding_Num'].mean(), 2))"
   ]
  },
  {
   "cell_type": "code",
   "execution_count": 101,
   "metadata": {},
   "outputs": [
    {
     "name": "stdout",
     "output_type": "stream",
     "text": [
      "The p-value for the Shapiro-Wilk normality test for the data scientists subset is: 0.0\n",
      "The p-value for the Shapiro-Wilk normality test for the non-data scientists subset is: 0.0\n"
     ]
    }
   ],
   "source": [
    "# Check for normality of distributions\n",
    "print('The p-value for the Shapiro-Wilk normality test for the data scientists subset is:',\n",
    "      scipy.stats.shapiro(survey_ds['YearsCoding_Num'].dropna())[1])\n",
    "print('The p-value for the Shapiro-Wilk normality test for the non-data scientists subset is:',\n",
    "      scipy.stats.shapiro(survey_non_ds['YearsCoding_Num'].dropna())[1])"
   ]
  },
  {
   "cell_type": "markdown",
   "metadata": {},
   "source": [
    "For both subsets, we reject the null hypothesis that YearsCoding_Num is normally distributed at the 5% significance level. Therefore, we need to use the Mann-Whitney U-test to compare the two samples."
   ]
  },
  {
   "cell_type": "code",
   "execution_count": 102,
   "metadata": {},
   "outputs": [
    {
     "name": "stdout",
     "output_type": "stream",
     "text": [
      "The p-value for the Mann-Whitney U test comparing the two distributions is: 9.69746665701e-09\n"
     ]
    }
   ],
   "source": [
    "# Compare distributions\n",
    "print('The p-value for the Mann-Whitney U test comparing the two distributions is:',\n",
    "      scipy.stats.mannwhitneyu(survey_ds['YearsCoding_Num'].dropna(), survey_non_ds['YearsCoding_Num'].dropna())[1])"
   ]
  },
  {
   "cell_type": "markdown",
   "metadata": {},
   "source": [
    "The p-value for the Mann-Whitney U test is < 0.05. Therefore, we reject the null hypothesis that the distributions of years coding is the same for the data-scientists and non-data scientists, at the 5% significance level."
   ]
  },
  {
   "cell_type": "markdown",
   "metadata": {},
   "source": [
    "**Years Coding Professionally**"
   ]
  },
  {
   "cell_type": "code",
   "execution_count": 91,
   "metadata": {},
   "outputs": [
    {
     "name": "stdout",
     "output_type": "stream",
     "text": [
      "     YearsCodingProf    Non_DS        DS\n",
      "0          0-2 years  0.297786  0.336243\n",
      "1          3-5 years  0.273401  0.284801\n",
      "2          6-8 years  0.147321  0.132814\n",
      "3         9-11 years  0.098961  0.077163\n",
      "4        12-14 years  0.055901  0.045362\n",
      "5        15-17 years  0.039128  0.033048\n",
      "6        18-20 years  0.036478  0.033827\n",
      "7        21-23 years  0.017605  0.016680\n",
      "8        24-26 years  0.010980  0.010756\n",
      "9        27-29 years  0.006540  0.005768\n",
      "10  30 or more years  0.015899  0.023539\n"
     ]
    }
   ],
   "source": [
    "# Create summary dataframe\n",
    "coding_prof_props = create_summary(survey_ds, survey_non_ds, 'YearsCodingProf',  index_order = ['0-2 years', '3-5 years',\n",
    "                '6-8 years', '9-11 years', '12-14 years', '15-17 years', '18-20 years', '21-23 years', \n",
    "                '24-26 years', '27-29 years', '30 or more years'], drop = False)\n",
    "\n",
    "print(coding_prof_props)"
   ]
  },
  {
   "cell_type": "code",
   "execution_count": 92,
   "metadata": {},
   "outputs": [
    {
     "data": {
      "image/png": "[encoded data removed]",
      "text/plain": [
       "<matplotlib.figure.Figure at 0x26327798080>"
      ]
     },
     "metadata": {},
     "output_type": "display_data"
    }
   ],
   "source": [
    "# Create comparison plot\n",
    "create_bar_plot(coding_prof_props, 'YearsCodingProf', 'Years Coding Professionally', \n",
    "                'Years Coding Professionally Distribution by Developer Type', rot = 90)"
   ]
  },
  {
   "cell_type": "markdown",
   "metadata": {},
   "source": [
    "In spite of having more years' coding experience, data scientists tend to have few years' professional coding experience than non-data scientists. "
   ]
  },
  {
   "cell_type": "code",
   "execution_count": 109,
   "metadata": {},
   "outputs": [
    {
     "name": "stdout",
     "output_type": "stream",
     "text": [
      "The mean years coding professionally of data scientists is: 6.47\n",
      "The mean years coding professionally of non-data scientists is: 6.8\n"
     ]
    }
   ],
   "source": [
    "# Calculate summary statistics\n",
    "print('The mean years coding professionally of data scientists is:', round(survey_ds['YearsCodingProf_Num'].mean(), 2))\n",
    "print('The mean years coding professionally of non-data scientists is:', round(survey_non_ds['YearsCodingProf_Num'].mean(), 2))"
   ]
  },
  {
   "cell_type": "code",
   "execution_count": 106,
   "metadata": {},
   "outputs": [
    {
     "name": "stdout",
     "output_type": "stream",
     "text": [
      "The p-value for the Shapiro-Wilk normality test for the data scientists subset is: 0.0\n",
      "The p-value for the Shapiro-Wilk normality test for the non-data scientists subset is: 0.0\n"
     ]
    }
   ],
   "source": [
    "# Check for normality of distributions\n",
    "print('The p-value for the Shapiro-Wilk normality test for the data scientists subset is:',\n",
    "      scipy.stats.shapiro(survey_ds['YearsCodingProf_Num'].dropna())[1])\n",
    "print('The p-value for the Shapiro-Wilk normality test for the non-data scientists subset is:',\n",
    "      scipy.stats.shapiro(survey_non_ds['YearsCodingProf_Num'].dropna())[1])"
   ]
  },
  {
   "cell_type": "markdown",
   "metadata": {},
   "source": [
    "For both subsets, we reject the null hypothesis that YearsCodingProf_Num is normally distributed at the 5% significance level. Therefore, we need to use the Mann-Whitney U-test to compare the two samples."
   ]
  },
  {
   "cell_type": "code",
   "execution_count": 107,
   "metadata": {},
   "outputs": [
    {
     "name": "stdout",
     "output_type": "stream",
     "text": [
      "The p-value for the Mann-Whitney U test comparing the two distributions is: 2.34624779179e-13\n"
     ]
    }
   ],
   "source": [
    "# Compare distributions\n",
    "print('The p-value for the Mann-Whitney U test comparing the two distributions is:',\n",
    "      scipy.stats.mannwhitneyu(survey_ds['YearsCodingProf_Num'].dropna(), survey_non_ds['YearsCodingProf_Num'].dropna())[1])"
   ]
  },
  {
   "cell_type": "markdown",
   "metadata": {},
   "source": [
    "The p-value for the Mann-Whitney U test is < 0.05. Therefore, we reject the null hypothesis that the distributions of years coding professionally is the same for the data-scientists and non-data scientists, at the 5% significance level."
   ]
  },
  {
   "cell_type": "markdown",
   "metadata": {},
   "source": [
    "### 4. Are data scientists more satisfied with their jobs/careers than non-data scientists?"
   ]
  },
  {
   "cell_type": "markdown",
   "metadata": {},
   "source": [
    "**Job Satisfaction**"
   ]
  },
  {
   "cell_type": "code",
   "execution_count": 94,
   "metadata": {},
   "outputs": [
    {
     "name": "stdout",
     "output_type": "stream",
     "text": [
      "                      JobSatisfaction    Non_DS        DS\n",
      "0              Extremely dissatisfied  0.035563  0.038512\n",
      "1             Moderately dissatisfied  0.091973  0.081302\n",
      "2               Slightly dissatisfied  0.103350  0.083349\n",
      "3  Neither satisfied nor dissatisfied  0.072451  0.064186\n",
      "4                  Slightly satisfied  0.145500  0.135442\n",
      "5                Moderately satisfied  0.375158  0.380465\n",
      "6                 Extremely satisfied  0.176005  0.216744\n"
     ]
    }
   ],
   "source": [
    "# Create summary dataframe\n",
    "job_sat_props = create_summary(survey_ds, survey_non_ds, 'JobSatisfaction',  index_order = ['Extremely dissatisfied',\n",
    "                'Moderately dissatisfied', 'Slightly dissatisfied', 'Neither satisfied nor dissatisfied', \n",
    "                'Slightly satisfied', 'Moderately satisfied', 'Extremely satisfied'], drop = False)\n",
    "\n",
    "print(job_sat_props)"
   ]
  },
  {
   "cell_type": "code",
   "execution_count": 95,
   "metadata": {},
   "outputs": [
    {
     "data": {
      "image/png": "[encoded data removed]",
      "text/plain": [
       "<matplotlib.figure.Figure at 0x26327798470>"
      ]
     },
     "metadata": {},
     "output_type": "display_data"
    }
   ],
   "source": [
    "# Create comparison plot\n",
    "create_bar_plot(job_sat_props, 'JobSatisfaction', 'Job Satisfaction', \n",
    "                'Job Satisfaction Distribution by Developer Type', rot = 90)"
   ]
  },
  {
   "cell_type": "markdown",
   "metadata": {},
   "source": [
    "Data scientists tend to be more satisfied with their jobs than non-data scientists."
   ]
  },
  {
   "cell_type": "code",
   "execution_count": 110,
   "metadata": {},
   "outputs": [
    {
     "name": "stdout",
     "output_type": "stream",
     "text": [
      "The mean job satisfaction score of data scientists is: 5.19\n",
      "The mean job satisfaction score of non-data scientists is: 5.03\n"
     ]
    }
   ],
   "source": [
    "# Calculate summary statistics\n",
    "print('The mean job satisfaction score of data scientists is:', round(survey_ds['JobSatisfaction_Num'].mean(), 2))\n",
    "print('The mean job satisfaction score of non-data scientists is:', round(survey_non_ds['JobSatisfaction_Num'].mean(), 2))"
   ]
  },
  {
   "cell_type": "code",
   "execution_count": 112,
   "metadata": {},
   "outputs": [
    {
     "name": "stdout",
     "output_type": "stream",
     "text": [
      "The p-value for the Shapiro-Wilk normality test for the data scientists subset is: 0.0\n",
      "The p-value for the Shapiro-Wilk normality test for the non-data scientists subset is: 0.0\n"
     ]
    }
   ],
   "source": [
    "# Check for normality of distributions\n",
    "print('The p-value for the Shapiro-Wilk normality test for the data scientists subset is:',\n",
    "      scipy.stats.shapiro(survey_ds['JobSatisfaction_Num'].dropna())[1])\n",
    "print('The p-value for the Shapiro-Wilk normality test for the non-data scientists subset is:',\n",
    "      scipy.stats.shapiro(survey_non_ds['JobSatisfaction_Num'].dropna())[1])"
   ]
  },
  {
   "cell_type": "markdown",
   "metadata": {},
   "source": [
    "For both subsets, we reject the null hypothesis that JobSatisfaction_Num is normally distributed at the 5% significance level. Therefore, we need to use the Mann-Whitney U-test to compare the two samples."
   ]
  },
  {
   "cell_type": "code",
   "execution_count": 114,
   "metadata": {},
   "outputs": [
    {
     "name": "stdout",
     "output_type": "stream",
     "text": [
      "The p-value for the Mann-Whitney U test comparing the two distributions is: 1.52135562349e-14\n"
     ]
    }
   ],
   "source": [
    "# Compare distributions\n",
    "print('The p-value for the Mann-Whitney U test comparing the two distributions is:',\n",
    "      scipy.stats.mannwhitneyu(survey_ds['JobSatisfaction_Num'].dropna(), survey_non_ds['JobSatisfaction_Num'].dropna())[1])"
   ]
  },
  {
   "cell_type": "markdown",
   "metadata": {},
   "source": [
    "The p-value for the Mann-Whitney U test is < 0.05. Therefore, we reject the null hypothesis that the distributions of the job satisfaction score is the same for the data-scientists and non-data scientists, at the 5% significance level."
   ]
  },
  {
   "cell_type": "markdown",
   "metadata": {},
   "source": [
    "**Career Satisfaction**"
   ]
  },
  {
   "cell_type": "code",
   "execution_count": 97,
   "metadata": {},
   "outputs": [
    {
     "name": "stdout",
     "output_type": "stream",
     "text": [
      "                   CareerSatisfaction    Non_DS        DS\n",
      "0              Extremely dissatisfied  0.033977  0.035391\n",
      "1             Moderately dissatisfied  0.068728  0.068243\n",
      "2               Slightly dissatisfied  0.087065  0.074750\n",
      "3  Neither satisfied nor dissatisfied  0.082689  0.080146\n",
      "4                  Slightly satisfied  0.178549  0.154579\n",
      "5                Moderately satisfied  0.363685  0.380892\n",
      "6                 Extremely satisfied  0.185307  0.205999\n"
     ]
    }
   ],
   "source": [
    "# Create summary dataframe\n",
    "career_sat_props = create_summary(survey_ds, survey_non_ds, 'CareerSatisfaction',  index_order = ['Extremely dissatisfied',\n",
    "                'Moderately dissatisfied', 'Slightly dissatisfied', 'Neither satisfied nor dissatisfied', \n",
    "                'Slightly satisfied', 'Moderately satisfied', 'Extremely satisfied'], drop = False)\n",
    "\n",
    "print(career_sat_props)"
   ]
  },
  {
   "cell_type": "code",
   "execution_count": 98,
   "metadata": {},
   "outputs": [
    {
     "data": {
      "image/png": "[encoded data removed]",
      "text/plain": [
       "<matplotlib.figure.Figure at 0x2632780db00>"
      ]
     },
     "metadata": {},
     "output_type": "display_data"
    }
   ],
   "source": [
    "# Create comparison plot\n",
    "create_bar_plot(career_sat_props, 'CareerSatisfaction', 'Career Satisfaction', \n",
    "                'Career Satisfaction Distribution by Developer Type', rot = 90)"
   ]
  },
  {
   "cell_type": "markdown",
   "metadata": {},
   "source": [
    "As well as being more satisfied with their jobs than non-data scientists, data scientists also tend to be more satisfied with their careers."
   ]
  },
  {
   "cell_type": "code",
   "execution_count": 111,
   "metadata": {},
   "outputs": [
    {
     "name": "stdout",
     "output_type": "stream",
     "text": [
      "The mean career satisfaction score of data scientists is: 5.22\n",
      "The mean career satisfaction score of non-data scientists is: 5.14\n"
     ]
    }
   ],
   "source": [
    "# Calculate summary statistics\n",
    "print('The mean career satisfaction score of data scientists is:', round(survey_ds['CareerSatisfaction_Num'].mean(), 2))\n",
    "print('The mean career satisfaction score of non-data scientists is:', round(survey_non_ds['CareerSatisfaction_Num'].mean(), 2))"
   ]
  },
  {
   "cell_type": "code",
   "execution_count": 113,
   "metadata": {},
   "outputs": [
    {
     "name": "stdout",
     "output_type": "stream",
     "text": [
      "The p-value for the Shapiro-Wilk normality test for the data scientists subset is: 0.0\n",
      "The p-value for the Shapiro-Wilk normality test for the non-data scientists subset is: 0.0\n"
     ]
    }
   ],
   "source": [
    "# Check for normality of distributions\n",
    "print('The p-value for the Shapiro-Wilk normality test for the data scientists subset is:',\n",
    "      scipy.stats.shapiro(survey_ds['CareerSatisfaction_Num'].dropna())[1])\n",
    "print('The p-value for the Shapiro-Wilk normality test for the non-data scientists subset is:',\n",
    "      scipy.stats.shapiro(survey_non_ds['CareerSatisfaction_Num'].dropna())[1])"
   ]
  },
  {
   "cell_type": "markdown",
   "metadata": {},
   "source": [
    "For both subsets, we reject the null hypothesis that CareerSatisfaction_Num is normally distributed at the 5% significance level. Therefore, we need to use the Mann-Whitney U-test to compare the two samples."
   ]
  },
  {
   "cell_type": "code",
   "execution_count": 116,
   "metadata": {},
   "outputs": [
    {
     "name": "stdout",
     "output_type": "stream",
     "text": [
      "The p-value for the Mann-Whitney U test comparing the two distributions is: 2.13295740222e-07\n"
     ]
    }
   ],
   "source": [
    "# Compare distributions\n",
    "print('The p-value for the Mann-Whitney U test comparing the two distributions is:',\n",
    "      scipy.stats.mannwhitneyu(survey_ds['CareerSatisfaction_Num'].dropna(), \n",
    "                               survey_non_ds['CareerSatisfaction_Num'].dropna())[1])"
   ]
  },
  {
   "cell_type": "markdown",
   "metadata": {},
   "source": [
    "The p-value for the Mann-Whitney U test is < 0.05. Therefore, we reject the null hypothesis that the distributions of the career satisfaction score is the same for the data-scientists and non-data scientists, at the 5% significance level."
   ]
  },
  {
   "cell_type": "markdown",
   "metadata": {},
   "source": [
    "## Results"
   ]
  },
  {
   "cell_type": "code",
   "execution_count": null,
   "metadata": {
    "collapsed": true
   },
   "outputs": [],
   "source": []
  }
 ],
 "metadata": {
  "kernelspec": {
   "display_name": "Python [default]",
   "language": "python",
   "name": "python3"
  },
  "language_info": {
   "codemirror_mode": {
    "name": "ipython",
    "version": 3
   },
   "file_extension": ".py",
   "mimetype": "text/x-python",
   "name": "python",
   "nbconvert_exporter": "python",
   "pygments_lexer": "ipython3",
   "version": "3.6.2"
  }
 },
 "nbformat": 4,
 "nbformat_minor": 2
}
