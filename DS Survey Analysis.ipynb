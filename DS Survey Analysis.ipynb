{
 "cells": [
  {
   "cell_type": "markdown",
   "metadata": {},
   "source": [
    "# Data Scientist Survey Analysis - Genevieve Hayes"
   ]
  },
  {
   "cell_type": "markdown",
   "metadata": {},
   "source": [
    "## Overview"
   ]
  },
  {
   "cell_type": "markdown",
   "metadata": {},
   "source": [
    "In 2012, the [***Harvard Business Review***](https://hbr.org/2012/10/data-scientist-the-sexiest-job-of-the-21st-century) named Data Scientist as the \"sexiest job of the 21st century\", and since then, Data Scientist has frequently featured in numerous top job lists, including [Glassdoor's best jobs in America list](https://www.forbes.com/sites/louiscolumbus/2018/01/29/data-scientist-is-the-best-job-in-america-according-glassdoors-2018-rankings/#1f57b7ad5535), which has consistently placed Data Scientist at number 1 position for the past three years. However, is being in the best job in America really any better than being in any other programming related roles, and has the sudden popularity of this profession made any impact of the types of people entering it. In this analysis, we will explore these questions by analysing data collected by Stack Overflow as part of their annual developer survey."
   ]
  },
  {
   "cell_type": "markdown",
   "metadata": {},
   "source": [
    "## Research Questions"
   ]
  },
  {
   "cell_type": "markdown",
   "metadata": {},
   "source": [
    "The motivation behind this analysis is to explore how data scientists compare with other non-data scientist software developers (subsequently referred to simply as \"non-data scientists\"). Consequently, in this analysis, we set out to answer the following questions:\n",
    "\n",
    "1. How does the demographic profile of data scientists differ from that of non-data scientists?\n",
    "2. What programming languages do data scientists favour and how do they differ from those used by non-data scientists?\n",
    "3. How much coding experience do data scientists have compared to non-data scientists?\n",
    "4. Are data scientists more satisfied with their jobs/careers than non-data scientists?"
   ]
  },
  {
   "cell_type": "markdown",
   "metadata": {},
   "source": [
    "## The Data"
   ]
  },
  {
   "cell_type": "markdown",
   "metadata": {},
   "source": [
    "In order to answer these questions, we make use of data collected by Stack Overflow in response to their 2018 (Annual) Developer Survey. This data can be downloaded from: <https://insights.stackoverflow.com/survey>. To get a feel for this data, we read in the data set and conduct some exploratory analysis below:"
   ]
  },
  {
   "cell_type": "code",
   "execution_count": 1,
   "metadata": {
    "collapsed": true
   },
   "outputs": [],
   "source": [
    "# Import libraries\n",
    "import pandas as pd\n",
    "import numpy as np\n",
    "from collections import Counter\n",
    "import matplotlib.pyplot as plt\n",
    "import seaborn as sns\n",
    "import warnings\n",
    "\n",
    "warnings.simplefilter('ignore')\n",
    "%matplotlib inline"
   ]
  },
  {
   "cell_type": "code",
   "execution_count": 2,
   "metadata": {},
   "outputs": [
    {
     "data": {
      "text/html": [
       "<div>\n",
       "<style>\n",
       "    .dataframe thead tr:only-child th {\n",
       "        text-align: right;\n",
       "    }\n",
       "\n",
       "    .dataframe thead th {\n",
       "        text-align: left;\n",
       "    }\n",
       "\n",
       "    .dataframe tbody tr th {\n",
       "        vertical-align: top;\n",
       "    }\n",
       "</style>\n",
       "<table border=\"1\" class=\"dataframe\">\n",
       "  <thead>\n",
       "    <tr style=\"text-align: right;\">\n",
       "      <th></th>\n",
       "      <th>Respondent</th>\n",
       "      <th>Hobby</th>\n",
       "      <th>OpenSource</th>\n",
       "      <th>Country</th>\n",
       "      <th>Student</th>\n",
       "      <th>Employment</th>\n",
       "      <th>FormalEducation</th>\n",
       "      <th>UndergradMajor</th>\n",
       "      <th>CompanySize</th>\n",
       "      <th>DevType</th>\n",
       "      <th>...</th>\n",
       "      <th>Exercise</th>\n",
       "      <th>Gender</th>\n",
       "      <th>SexualOrientation</th>\n",
       "      <th>EducationParents</th>\n",
       "      <th>RaceEthnicity</th>\n",
       "      <th>Age</th>\n",
       "      <th>Dependents</th>\n",
       "      <th>MilitaryUS</th>\n",
       "      <th>SurveyTooLong</th>\n",
       "      <th>SurveyEasy</th>\n",
       "    </tr>\n",
       "  </thead>\n",
       "  <tbody>\n",
       "    <tr>\n",
       "      <th>0</th>\n",
       "      <td>1</td>\n",
       "      <td>Yes</td>\n",
       "      <td>No</td>\n",
       "      <td>Kenya</td>\n",
       "      <td>No</td>\n",
       "      <td>Employed part-time</td>\n",
       "      <td>Bachelor’s degree (BA, BS, B.Eng., etc.)</td>\n",
       "      <td>Mathematics or statistics</td>\n",
       "      <td>20 to 99 employees</td>\n",
       "      <td>Full-stack developer</td>\n",
       "      <td>...</td>\n",
       "      <td>3 - 4 times per week</td>\n",
       "      <td>Male</td>\n",
       "      <td>Straight or heterosexual</td>\n",
       "      <td>Bachelor’s degree (BA, BS, B.Eng., etc.)</td>\n",
       "      <td>Black or of African descent</td>\n",
       "      <td>25 - 34 years old</td>\n",
       "      <td>Yes</td>\n",
       "      <td>NaN</td>\n",
       "      <td>The survey was an appropriate length</td>\n",
       "      <td>Very easy</td>\n",
       "    </tr>\n",
       "    <tr>\n",
       "      <th>1</th>\n",
       "      <td>3</td>\n",
       "      <td>Yes</td>\n",
       "      <td>Yes</td>\n",
       "      <td>United Kingdom</td>\n",
       "      <td>No</td>\n",
       "      <td>Employed full-time</td>\n",
       "      <td>Bachelor’s degree (BA, BS, B.Eng., etc.)</td>\n",
       "      <td>A natural science (ex. biology, chemistry, phy...</td>\n",
       "      <td>10,000 or more employees</td>\n",
       "      <td>Database administrator;DevOps specialist;Full-...</td>\n",
       "      <td>...</td>\n",
       "      <td>Daily or almost every day</td>\n",
       "      <td>Male</td>\n",
       "      <td>Straight or heterosexual</td>\n",
       "      <td>Bachelor’s degree (BA, BS, B.Eng., etc.)</td>\n",
       "      <td>White or of European descent</td>\n",
       "      <td>35 - 44 years old</td>\n",
       "      <td>Yes</td>\n",
       "      <td>NaN</td>\n",
       "      <td>The survey was an appropriate length</td>\n",
       "      <td>Somewhat easy</td>\n",
       "    </tr>\n",
       "    <tr>\n",
       "      <th>2</th>\n",
       "      <td>4</td>\n",
       "      <td>Yes</td>\n",
       "      <td>Yes</td>\n",
       "      <td>United States</td>\n",
       "      <td>No</td>\n",
       "      <td>Employed full-time</td>\n",
       "      <td>Associate degree</td>\n",
       "      <td>Computer science, computer engineering, or sof...</td>\n",
       "      <td>20 to 99 employees</td>\n",
       "      <td>Engineering manager;Full-stack developer</td>\n",
       "      <td>...</td>\n",
       "      <td>NaN</td>\n",
       "      <td>NaN</td>\n",
       "      <td>NaN</td>\n",
       "      <td>NaN</td>\n",
       "      <td>NaN</td>\n",
       "      <td>NaN</td>\n",
       "      <td>NaN</td>\n",
       "      <td>NaN</td>\n",
       "      <td>NaN</td>\n",
       "      <td>NaN</td>\n",
       "    </tr>\n",
       "    <tr>\n",
       "      <th>3</th>\n",
       "      <td>5</td>\n",
       "      <td>No</td>\n",
       "      <td>No</td>\n",
       "      <td>United States</td>\n",
       "      <td>No</td>\n",
       "      <td>Employed full-time</td>\n",
       "      <td>Bachelor’s degree (BA, BS, B.Eng., etc.)</td>\n",
       "      <td>Computer science, computer engineering, or sof...</td>\n",
       "      <td>100 to 499 employees</td>\n",
       "      <td>Full-stack developer</td>\n",
       "      <td>...</td>\n",
       "      <td>I don't typically exercise</td>\n",
       "      <td>Male</td>\n",
       "      <td>Straight or heterosexual</td>\n",
       "      <td>Some college/university study without earning ...</td>\n",
       "      <td>White or of European descent</td>\n",
       "      <td>35 - 44 years old</td>\n",
       "      <td>No</td>\n",
       "      <td>No</td>\n",
       "      <td>The survey was an appropriate length</td>\n",
       "      <td>Somewhat easy</td>\n",
       "    </tr>\n",
       "    <tr>\n",
       "      <th>4</th>\n",
       "      <td>7</td>\n",
       "      <td>Yes</td>\n",
       "      <td>No</td>\n",
       "      <td>South Africa</td>\n",
       "      <td>Yes, part-time</td>\n",
       "      <td>Employed full-time</td>\n",
       "      <td>Some college/university study without earning ...</td>\n",
       "      <td>Computer science, computer engineering, or sof...</td>\n",
       "      <td>10,000 or more employees</td>\n",
       "      <td>Data or business analyst;Desktop or enterprise...</td>\n",
       "      <td>...</td>\n",
       "      <td>3 - 4 times per week</td>\n",
       "      <td>Male</td>\n",
       "      <td>Straight or heterosexual</td>\n",
       "      <td>Some college/university study without earning ...</td>\n",
       "      <td>White or of European descent</td>\n",
       "      <td>18 - 24 years old</td>\n",
       "      <td>Yes</td>\n",
       "      <td>NaN</td>\n",
       "      <td>The survey was an appropriate length</td>\n",
       "      <td>Somewhat easy</td>\n",
       "    </tr>\n",
       "  </tbody>\n",
       "</table>\n",
       "<p>5 rows × 129 columns</p>\n",
       "</div>"
      ],
      "text/plain": [
       "   Respondent Hobby OpenSource         Country         Student  \\\n",
       "0           1   Yes         No           Kenya              No   \n",
       "1           3   Yes        Yes  United Kingdom              No   \n",
       "2           4   Yes        Yes   United States              No   \n",
       "3           5    No         No   United States              No   \n",
       "4           7   Yes         No    South Africa  Yes, part-time   \n",
       "\n",
       "           Employment                                    FormalEducation  \\\n",
       "0  Employed part-time           Bachelor’s degree (BA, BS, B.Eng., etc.)   \n",
       "1  Employed full-time           Bachelor’s degree (BA, BS, B.Eng., etc.)   \n",
       "2  Employed full-time                                   Associate degree   \n",
       "3  Employed full-time           Bachelor’s degree (BA, BS, B.Eng., etc.)   \n",
       "4  Employed full-time  Some college/university study without earning ...   \n",
       "\n",
       "                                      UndergradMajor  \\\n",
       "0                          Mathematics or statistics   \n",
       "1  A natural science (ex. biology, chemistry, phy...   \n",
       "2  Computer science, computer engineering, or sof...   \n",
       "3  Computer science, computer engineering, or sof...   \n",
       "4  Computer science, computer engineering, or sof...   \n",
       "\n",
       "                CompanySize  \\\n",
       "0        20 to 99 employees   \n",
       "1  10,000 or more employees   \n",
       "2        20 to 99 employees   \n",
       "3      100 to 499 employees   \n",
       "4  10,000 or more employees   \n",
       "\n",
       "                                             DevType      ...        \\\n",
       "0                               Full-stack developer      ...         \n",
       "1  Database administrator;DevOps specialist;Full-...      ...         \n",
       "2           Engineering manager;Full-stack developer      ...         \n",
       "3                               Full-stack developer      ...         \n",
       "4  Data or business analyst;Desktop or enterprise...      ...         \n",
       "\n",
       "                     Exercise Gender         SexualOrientation  \\\n",
       "0        3 - 4 times per week   Male  Straight or heterosexual   \n",
       "1   Daily or almost every day   Male  Straight or heterosexual   \n",
       "2                         NaN    NaN                       NaN   \n",
       "3  I don't typically exercise   Male  Straight or heterosexual   \n",
       "4        3 - 4 times per week   Male  Straight or heterosexual   \n",
       "\n",
       "                                    EducationParents  \\\n",
       "0           Bachelor’s degree (BA, BS, B.Eng., etc.)   \n",
       "1           Bachelor’s degree (BA, BS, B.Eng., etc.)   \n",
       "2                                                NaN   \n",
       "3  Some college/university study without earning ...   \n",
       "4  Some college/university study without earning ...   \n",
       "\n",
       "                  RaceEthnicity                Age Dependents  MilitaryUS  \\\n",
       "0   Black or of African descent  25 - 34 years old        Yes         NaN   \n",
       "1  White or of European descent  35 - 44 years old        Yes         NaN   \n",
       "2                           NaN                NaN        NaN         NaN   \n",
       "3  White or of European descent  35 - 44 years old         No          No   \n",
       "4  White or of European descent  18 - 24 years old        Yes         NaN   \n",
       "\n",
       "                          SurveyTooLong     SurveyEasy  \n",
       "0  The survey was an appropriate length      Very easy  \n",
       "1  The survey was an appropriate length  Somewhat easy  \n",
       "2                                   NaN            NaN  \n",
       "3  The survey was an appropriate length  Somewhat easy  \n",
       "4  The survey was an appropriate length  Somewhat easy  \n",
       "\n",
       "[5 rows x 129 columns]"
      ]
     },
     "execution_count": 2,
     "metadata": {},
     "output_type": "execute_result"
    }
   ],
   "source": [
    "# Read in dataset\n",
    "survey = pd.read_csv(\"./Data/developer_survey_2018/survey_results_public.csv\")\n",
    "survey.head()"
   ]
  },
  {
   "cell_type": "code",
   "execution_count": 3,
   "metadata": {},
   "outputs": [
    {
     "name": "stdout",
     "output_type": "stream",
     "text": [
      "The dataset contains 98855 rows and 129 columns.\n"
     ]
    }
   ],
   "source": [
    "# Print shape of dataset\n",
    "print('The dataset contains', np.shape(survey)[0], 'rows and', np.shape(survey)[1], 'columns.')"
   ]
  },
  {
   "cell_type": "code",
   "execution_count": 4,
   "metadata": {},
   "outputs": [
    {
     "data": {
      "text/plain": [
       "['Respondent',\n",
       " 'Hobby',\n",
       " 'OpenSource',\n",
       " 'Country',\n",
       " 'Student',\n",
       " 'Employment',\n",
       " 'FormalEducation',\n",
       " 'UndergradMajor',\n",
       " 'CompanySize',\n",
       " 'DevType',\n",
       " 'YearsCoding',\n",
       " 'YearsCodingProf',\n",
       " 'JobSatisfaction',\n",
       " 'CareerSatisfaction',\n",
       " 'HopeFiveYears',\n",
       " 'JobSearchStatus',\n",
       " 'LastNewJob',\n",
       " 'AssessJob1',\n",
       " 'AssessJob2',\n",
       " 'AssessJob3',\n",
       " 'AssessJob4',\n",
       " 'AssessJob5',\n",
       " 'AssessJob6',\n",
       " 'AssessJob7',\n",
       " 'AssessJob8',\n",
       " 'AssessJob9',\n",
       " 'AssessJob10',\n",
       " 'AssessBenefits1',\n",
       " 'AssessBenefits2',\n",
       " 'AssessBenefits3',\n",
       " 'AssessBenefits4',\n",
       " 'AssessBenefits5',\n",
       " 'AssessBenefits6',\n",
       " 'AssessBenefits7',\n",
       " 'AssessBenefits8',\n",
       " 'AssessBenefits9',\n",
       " 'AssessBenefits10',\n",
       " 'AssessBenefits11',\n",
       " 'JobContactPriorities1',\n",
       " 'JobContactPriorities2',\n",
       " 'JobContactPriorities3',\n",
       " 'JobContactPriorities4',\n",
       " 'JobContactPriorities5',\n",
       " 'JobEmailPriorities1',\n",
       " 'JobEmailPriorities2',\n",
       " 'JobEmailPriorities3',\n",
       " 'JobEmailPriorities4',\n",
       " 'JobEmailPriorities5',\n",
       " 'JobEmailPriorities6',\n",
       " 'JobEmailPriorities7',\n",
       " 'UpdateCV',\n",
       " 'Currency',\n",
       " 'Salary',\n",
       " 'SalaryType',\n",
       " 'ConvertedSalary',\n",
       " 'CurrencySymbol',\n",
       " 'CommunicationTools',\n",
       " 'TimeFullyProductive',\n",
       " 'EducationTypes',\n",
       " 'SelfTaughtTypes',\n",
       " 'TimeAfterBootcamp',\n",
       " 'HackathonReasons',\n",
       " 'AgreeDisagree1',\n",
       " 'AgreeDisagree2',\n",
       " 'AgreeDisagree3',\n",
       " 'LanguageWorkedWith',\n",
       " 'LanguageDesireNextYear',\n",
       " 'DatabaseWorkedWith',\n",
       " 'DatabaseDesireNextYear',\n",
       " 'PlatformWorkedWith',\n",
       " 'PlatformDesireNextYear',\n",
       " 'FrameworkWorkedWith',\n",
       " 'FrameworkDesireNextYear',\n",
       " 'IDE',\n",
       " 'OperatingSystem',\n",
       " 'NumberMonitors',\n",
       " 'Methodology',\n",
       " 'VersionControl',\n",
       " 'CheckInCode',\n",
       " 'AdBlocker',\n",
       " 'AdBlockerDisable',\n",
       " 'AdBlockerReasons',\n",
       " 'AdsAgreeDisagree1',\n",
       " 'AdsAgreeDisagree2',\n",
       " 'AdsAgreeDisagree3',\n",
       " 'AdsActions',\n",
       " 'AdsPriorities1',\n",
       " 'AdsPriorities2',\n",
       " 'AdsPriorities3',\n",
       " 'AdsPriorities4',\n",
       " 'AdsPriorities5',\n",
       " 'AdsPriorities6',\n",
       " 'AdsPriorities7',\n",
       " 'AIDangerous',\n",
       " 'AIInteresting',\n",
       " 'AIResponsible',\n",
       " 'AIFuture',\n",
       " 'EthicsChoice',\n",
       " 'EthicsReport',\n",
       " 'EthicsResponsible',\n",
       " 'EthicalImplications',\n",
       " 'StackOverflowRecommend',\n",
       " 'StackOverflowVisit',\n",
       " 'StackOverflowHasAccount',\n",
       " 'StackOverflowParticipate',\n",
       " 'StackOverflowJobs',\n",
       " 'StackOverflowDevStory',\n",
       " 'StackOverflowJobsRecommend',\n",
       " 'StackOverflowConsiderMember',\n",
       " 'HypotheticalTools1',\n",
       " 'HypotheticalTools2',\n",
       " 'HypotheticalTools3',\n",
       " 'HypotheticalTools4',\n",
       " 'HypotheticalTools5',\n",
       " 'WakeTime',\n",
       " 'HoursComputer',\n",
       " 'HoursOutside',\n",
       " 'SkipMeals',\n",
       " 'ErgonomicDevices',\n",
       " 'Exercise',\n",
       " 'Gender',\n",
       " 'SexualOrientation',\n",
       " 'EducationParents',\n",
       " 'RaceEthnicity',\n",
       " 'Age',\n",
       " 'Dependents',\n",
       " 'MilitaryUS',\n",
       " 'SurveyTooLong',\n",
       " 'SurveyEasy']"
      ]
     },
     "execution_count": 4,
     "metadata": {},
     "output_type": "execute_result"
    }
   ],
   "source": [
    "# Print column names\n",
    "list(survey.columns.values)"
   ]
  },
  {
   "cell_type": "markdown",
   "metadata": {
    "collapsed": true
   },
   "source": [
    "Most columns are unnecessary in order to answer our research questions. For convenience we keep just the necessary columns and drop the rest."
   ]
  },
  {
   "cell_type": "code",
   "execution_count": 5,
   "metadata": {
    "collapsed": true
   },
   "outputs": [],
   "source": [
    "# Drop unnecessary columns\n",
    "survey = survey[['Respondent', 'DevType', 'Gender', 'Age', 'FormalEducation', 'UndergradMajor', \n",
    "                 'EducationTypes', 'SelfTaughtTypes', 'LanguageWorkedWith', 'YearsCoding', \n",
    "                 'YearsCodingProf', 'JobSatisfaction', 'CareerSatisfaction']]"
   ]
  },
  {
   "cell_type": "markdown",
   "metadata": {},
   "source": [
    "As we are interested in comparing data scientists to non-data scientists, we need to be able to differentiate between the two. This is done using the `DevType` field. As a result, we should drop any rows where this field is missing, since we can't determine which subset these rows fit into."
   ]
  },
  {
   "cell_type": "code",
   "execution_count": 6,
   "metadata": {
    "collapsed": true
   },
   "outputs": [],
   "source": [
    "# Delete rows where DevType is missing\n",
    "survey = survey[pd.notnull(survey['DevType'])]"
   ]
  },
  {
   "cell_type": "code",
   "execution_count": 7,
   "metadata": {},
   "outputs": [
    {
     "name": "stdout",
     "output_type": "stream",
     "text": [
      "The reduced dataset contains 92098 rows and 13 columns.\n"
     ]
    }
   ],
   "source": [
    "# Print size of reduced dataset\n",
    "print('The reduced dataset contains', np.shape(survey)[0], 'rows and', np.shape(survey)[1], 'columns.')"
   ]
  },
  {
   "cell_type": "markdown",
   "metadata": {},
   "source": [
    "Making these adjustments removes 6757 rows and 116 columns from our dataset. Let's look at the descriptive statistics for these fields."
   ]
  },
  {
   "cell_type": "code",
   "execution_count": 8,
   "metadata": {},
   "outputs": [
    {
     "data": {
      "text/html": [
       "<div>\n",
       "<style>\n",
       "    .dataframe thead tr:only-child th {\n",
       "        text-align: right;\n",
       "    }\n",
       "\n",
       "    .dataframe thead th {\n",
       "        text-align: left;\n",
       "    }\n",
       "\n",
       "    .dataframe tbody tr th {\n",
       "        vertical-align: top;\n",
       "    }\n",
       "</style>\n",
       "<table border=\"1\" class=\"dataframe\">\n",
       "  <thead>\n",
       "    <tr style=\"text-align: right;\">\n",
       "      <th></th>\n",
       "      <th>DevType</th>\n",
       "      <th>Gender</th>\n",
       "      <th>Age</th>\n",
       "      <th>FormalEducation</th>\n",
       "      <th>UndergradMajor</th>\n",
       "      <th>EducationTypes</th>\n",
       "      <th>SelfTaughtTypes</th>\n",
       "      <th>LanguageWorkedWith</th>\n",
       "      <th>YearsCoding</th>\n",
       "      <th>YearsCodingProf</th>\n",
       "      <th>JobSatisfaction</th>\n",
       "      <th>CareerSatisfaction</th>\n",
       "    </tr>\n",
       "  </thead>\n",
       "  <tbody>\n",
       "    <tr>\n",
       "      <th>count</th>\n",
       "      <td>92098</td>\n",
       "      <td>63321</td>\n",
       "      <td>63423</td>\n",
       "      <td>90161</td>\n",
       "      <td>77589</td>\n",
       "      <td>66698</td>\n",
       "      <td>56332</td>\n",
       "      <td>76865</td>\n",
       "      <td>92021</td>\n",
       "      <td>77362</td>\n",
       "      <td>68839</td>\n",
       "      <td>75996</td>\n",
       "    </tr>\n",
       "    <tr>\n",
       "      <th>unique</th>\n",
       "      <td>9568</td>\n",
       "      <td>15</td>\n",
       "      <td>7</td>\n",
       "      <td>9</td>\n",
       "      <td>12</td>\n",
       "      <td>494</td>\n",
       "      <td>470</td>\n",
       "      <td>26271</td>\n",
       "      <td>11</td>\n",
       "      <td>11</td>\n",
       "      <td>7</td>\n",
       "      <td>7</td>\n",
       "    </tr>\n",
       "    <tr>\n",
       "      <th>top</th>\n",
       "      <td>Back-end developer</td>\n",
       "      <td>Male</td>\n",
       "      <td>25 - 34 years old</td>\n",
       "      <td>Bachelor’s degree (BA, BS, B.Eng., etc.)</td>\n",
       "      <td>Computer science, computer engineering, or sof...</td>\n",
       "      <td>Taught yourself a new language, framework, or ...</td>\n",
       "      <td>The official documentation and/or standards fo...</td>\n",
       "      <td>C#;JavaScript;SQL;HTML;CSS</td>\n",
       "      <td>3-5 years</td>\n",
       "      <td>0-2 years</td>\n",
       "      <td>Moderately satisfied</td>\n",
       "      <td>Moderately satisfied</td>\n",
       "    </tr>\n",
       "    <tr>\n",
       "      <th>freq</th>\n",
       "      <td>6417</td>\n",
       "      <td>58426</td>\n",
       "      <td>31277</td>\n",
       "      <td>41848</td>\n",
       "      <td>49641</td>\n",
       "      <td>6708</td>\n",
       "      <td>3377</td>\n",
       "      <td>1339</td>\n",
       "      <td>22918</td>\n",
       "      <td>23284</td>\n",
       "      <td>25854</td>\n",
       "      <td>27747</td>\n",
       "    </tr>\n",
       "  </tbody>\n",
       "</table>\n",
       "</div>"
      ],
      "text/plain": [
       "                   DevType Gender                Age  \\\n",
       "count                92098  63321              63423   \n",
       "unique                9568     15                  7   \n",
       "top     Back-end developer   Male  25 - 34 years old   \n",
       "freq                  6417  58426              31277   \n",
       "\n",
       "                                 FormalEducation  \\\n",
       "count                                      90161   \n",
       "unique                                         9   \n",
       "top     Bachelor’s degree (BA, BS, B.Eng., etc.)   \n",
       "freq                                       41848   \n",
       "\n",
       "                                           UndergradMajor  \\\n",
       "count                                               77589   \n",
       "unique                                                 12   \n",
       "top     Computer science, computer engineering, or sof...   \n",
       "freq                                                49641   \n",
       "\n",
       "                                           EducationTypes  \\\n",
       "count                                               66698   \n",
       "unique                                                494   \n",
       "top     Taught yourself a new language, framework, or ...   \n",
       "freq                                                 6708   \n",
       "\n",
       "                                          SelfTaughtTypes  \\\n",
       "count                                               56332   \n",
       "unique                                                470   \n",
       "top     The official documentation and/or standards fo...   \n",
       "freq                                                 3377   \n",
       "\n",
       "                LanguageWorkedWith YearsCoding YearsCodingProf  \\\n",
       "count                        76865       92021           77362   \n",
       "unique                       26271          11              11   \n",
       "top     C#;JavaScript;SQL;HTML;CSS   3-5 years       0-2 years   \n",
       "freq                          1339       22918           23284   \n",
       "\n",
       "             JobSatisfaction    CareerSatisfaction  \n",
       "count                  68839                 75996  \n",
       "unique                     7                     7  \n",
       "top     Moderately satisfied  Moderately satisfied  \n",
       "freq                   25854                 27747  "
      ]
     },
     "execution_count": 8,
     "metadata": {},
     "output_type": "execute_result"
    }
   ],
   "source": [
    "# Look at descriptive statistics for data (ignore Respondent since this is just an ID field)\n",
    "survey.drop(['Respondent'], axis = 1).describe()"
   ]
  },
  {
   "cell_type": "markdown",
   "metadata": {},
   "source": [
    "All fields are text fields, including fields that we would expect to be numeric, such as `Age`. Some fields contain a very large number of unique values (e.g. `LanguageWorkedWith`). This is because for some fields, multiple selections were allowed, and all selections are concatenated together in a single string. The number of missing values varies from column to column. \n",
    "\n",
    "Let's look at the unique values for each of these features."
   ]
  },
  {
   "cell_type": "code",
   "execution_count": 9,
   "metadata": {},
   "outputs": [
    {
     "data": {
      "text/plain": [
       "Back-end developer                                                              6417\n",
       "Full-stack developer                                                            6104\n",
       "Back-end developer;Front-end developer;Full-stack developer                     4460\n",
       "Mobile developer                                                                3518\n",
       "Student                                                                         3222\n",
       "Back-end developer;Full-stack developer                                         3128\n",
       "Front-end developer                                                             2608\n",
       "Front-end developer;Full-stack developer                                        1117\n",
       "Back-end developer;Front-end developer                                          1030\n",
       "Back-end developer;Front-end developer;Full-stack developer;Mobile developer    1008\n",
       "Name: DevType, dtype: int64"
      ]
     },
     "execution_count": 9,
     "metadata": {},
     "output_type": "execute_result"
    }
   ],
   "source": [
    "# Display (top 10) value counts for DevType\n",
    "survey['DevType'].value_counts().nlargest(10)"
   ]
  },
  {
   "cell_type": "code",
   "execution_count": 10,
   "metadata": {},
   "outputs": [
    {
     "data": {
      "text/plain": [
       "Male                                                                         58426\n",
       "Female                                                                        3930\n",
       "Non-binary, genderqueer, or gender non-conforming                              272\n",
       "Female;Transgender                                                             143\n",
       "Male;Non-binary, genderqueer, or gender non-conforming                         127\n",
       "Transgender                                                                    103\n",
       "Female;Male                                                                     97\n",
       "Transgender;Non-binary, genderqueer, or gender non-conforming                   51\n",
       "Female;Non-binary, genderqueer, or gender non-conforming                        50\n",
       "Female;Male;Transgender;Non-binary, genderqueer, or gender non-conforming       48\n",
       "Male;Transgender                                                                29\n",
       "Female;Transgender;Non-binary, genderqueer, or gender non-conforming            23\n",
       "Female;Male;Transgender                                                         14\n",
       "Male;Transgender;Non-binary, genderqueer, or gender non-conforming               5\n",
       "Female;Male;Non-binary, genderqueer, or gender non-conforming                    3\n",
       "Name: Gender, dtype: int64"
      ]
     },
     "execution_count": 10,
     "metadata": {},
     "output_type": "execute_result"
    }
   ],
   "source": [
    "# Display value counts for Gender\n",
    "survey['Gender'].value_counts()"
   ]
  },
  {
   "cell_type": "markdown",
   "metadata": {},
   "source": [
    "The majority of respondents identify themselves as either male or female. All other responses could be grouped together into a single \"other\" category for simplicity."
   ]
  },
  {
   "cell_type": "code",
   "execution_count": 11,
   "metadata": {},
   "outputs": [
    {
     "data": {
      "text/plain": [
       "25 - 34 years old     31277\n",
       "18 - 24 years old     15022\n",
       "35 - 44 years old     11250\n",
       "45 - 54 years old      3209\n",
       "Under 18 years old     1592\n",
       "55 - 64 years old       908\n",
       "65 years or older       165\n",
       "Name: Age, dtype: int64"
      ]
     },
     "execution_count": 11,
     "metadata": {},
     "output_type": "execute_result"
    }
   ],
   "source": [
    "# Display value counts for Age\n",
    "survey['Age'].value_counts()"
   ]
  },
  {
   "cell_type": "markdown",
   "metadata": {},
   "source": [
    "Ages are given as ranges, but we would like to be able to calculate summary statistics for this field. To do so, we can create a numeric field where the age of each respondent is esimated as the mid-point of the range."
   ]
  },
  {
   "cell_type": "code",
   "execution_count": 12,
   "metadata": {},
   "outputs": [
    {
     "data": {
      "text/plain": [
       "Bachelor’s degree (BA, BS, B.Eng., etc.)                                              41848\n",
       "Master’s degree (MA, MS, M.Eng., MBA, etc.)                                           20399\n",
       "Some college/university study without earning a degree                                11070\n",
       "Secondary school (e.g. American high school, German Realschule or Gymnasium, etc.)     8510\n",
       "Associate degree                                                                       2798\n",
       "Other doctoral degree (Ph.D, Ed.D., etc.)                                              2056\n",
       "Primary/elementary school                                                              1545\n",
       "Professional degree (JD, MD, etc.)                                                     1318\n",
       "I never completed any formal education                                                  617\n",
       "Name: FormalEducation, dtype: int64"
      ]
     },
     "execution_count": 12,
     "metadata": {},
     "output_type": "execute_result"
    }
   ],
   "source": [
    "# Display value counts for FormalEducation\n",
    "survey['FormalEducation'].value_counts()"
   ]
  },
  {
   "cell_type": "code",
   "execution_count": 13,
   "metadata": {},
   "outputs": [
    {
     "data": {
      "text/plain": [
       "Computer science, computer engineering, or software engineering          49641\n",
       "Another engineering discipline (ex. civil, electrical, mechanical)        6716\n",
       "Information systems, information technology, or system administration     6412\n",
       "A natural science (ex. biology, chemistry, physics)                       2931\n",
       "Mathematics or statistics                                                 2739\n",
       "Web development or web design                                             2401\n",
       "A business discipline (ex. accounting, finance, marketing)                1864\n",
       "A humanities discipline (ex. literature, history, philosophy)             1543\n",
       "A social science (ex. anthropology, psychology, political science)        1333\n",
       "Fine arts or performing arts (ex. graphic design, music, studio art)      1111\n",
       "I never declared a major                                                   664\n",
       "A health science (ex. nursing, pharmacy, radiology)                        234\n",
       "Name: UndergradMajor, dtype: int64"
      ]
     },
     "execution_count": 13,
     "metadata": {},
     "output_type": "execute_result"
    }
   ],
   "source": [
    "# Display value counts for UndergradMajor\n",
    "survey['UndergradMajor'].value_counts()"
   ]
  },
  {
   "cell_type": "markdown",
   "metadata": {},
   "source": [
    "For both `FormalEducation` and `UndergradMajor`, several of the categories could be grouped together for simplicity. Also, category names could be shortened, to make it easier to use as labels when creating graphs."
   ]
  },
  {
   "cell_type": "code",
   "execution_count": 14,
   "metadata": {},
   "outputs": [
    {
     "data": {
      "text/plain": [
       "Taught yourself a new language, framework, or tool without taking a formal course                                                                                                                                                                 6708\n",
       "Taken an online course in programming or software development (e.g. a MOOC);Taught yourself a new language, framework, or tool without taking a formal course                                                                                     4381\n",
       "Taught yourself a new language, framework, or tool without taking a formal course;Contributed to open source software                                                                                                                             3994\n",
       "Received on-the-job training in software development;Taught yourself a new language, framework, or tool without taking a formal course                                                                                                            2336\n",
       "Taken an online course in programming or software development (e.g. a MOOC);Taught yourself a new language, framework, or tool without taking a formal course;Contributed to open source software                                                 2166\n",
       "Taken an online course in programming or software development (e.g. a MOOC);Received on-the-job training in software development;Taught yourself a new language, framework, or tool without taking a formal course                                1973\n",
       "Received on-the-job training in software development;Taught yourself a new language, framework, or tool without taking a formal course;Contributed to open source software                                                                        1350\n",
       "Taught yourself a new language, framework, or tool without taking a formal course;Participated in a hackathon;Contributed to open source software                                                                                                 1224\n",
       "Taken an online course in programming or software development (e.g. a MOOC)                                                                                                                                                                       1198\n",
       "Taken an online course in programming or software development (e.g. a MOOC);Taught yourself a new language, framework, or tool without taking a formal course;Participated in online coding competitions (e.g. HackerRank, CodeChef, TopCoder)    1134\n",
       "Name: EducationTypes, dtype: int64"
      ]
     },
     "execution_count": 14,
     "metadata": {},
     "output_type": "execute_result"
    }
   ],
   "source": [
    "# Display (top 10) value counts for EducationTypes\n",
    "survey['EducationTypes'].value_counts().nlargest(10)"
   ]
  },
  {
   "cell_type": "code",
   "execution_count": 15,
   "metadata": {},
   "outputs": [
    {
     "data": {
      "text/plain": [
       "The official documentation and/or standards for the technology;Questions & answers on Stack Overflow                                                                                                                                                                                                                                                                             3377\n",
       "The official documentation and/or standards for the technology;Questions & answers on Stack Overflow;The technology’s online help system                                                                                                                                                                                                                                         3087\n",
       "The official documentation and/or standards for the technology;Questions & answers on Stack Overflow;Online developer communities other than Stack Overflow (ex. forums, listservs, IRC channels, etc.);The technology’s online help system                                                                                                                                      3006\n",
       "The official documentation and/or standards for the technology;Questions & answers on Stack Overflow;Online developer communities other than Stack Overflow (ex. forums, listservs, IRC channels, etc.)                                                                                                                                                                          2957\n",
       "The official documentation and/or standards for the technology;A book or e-book from O’Reilly, Apress, or a similar publisher;Questions & answers on Stack Overflow                                                                                                                                                                                                              2850\n",
       "The official documentation and/or standards for the technology;A book or e-book from O’Reilly, Apress, or a similar publisher;Questions & answers on Stack Overflow;Online developer communities other than Stack Overflow (ex. forums, listservs, IRC channels, etc.);The technology’s online help system                                                                       2450\n",
       "The official documentation and/or standards for the technology;A book or e-book from O’Reilly, Apress, or a similar publisher;Questions & answers on Stack Overflow;The technology’s online help system                                                                                                                                                                          2261\n",
       "The official documentation and/or standards for the technology;A book or e-book from O’Reilly, Apress, or a similar publisher;Questions & answers on Stack Overflow;Online developer communities other than Stack Overflow (ex. forums, listservs, IRC channels, etc.)                                                                                                           2000\n",
       "The official documentation and/or standards for the technology;A book or e-book from O’Reilly, Apress, or a similar publisher                                                                                                                                                                                                                                                     906\n",
       "The official documentation and/or standards for the technology;A book or e-book from O’Reilly, Apress, or a similar publisher;A college/university computer science or software engineering book;Questions & answers on Stack Overflow;Online developer communities other than Stack Overflow (ex. forums, listservs, IRC channels, etc.);The technology’s online help system     904\n",
       "Name: SelfTaughtTypes, dtype: int64"
      ]
     },
     "execution_count": 15,
     "metadata": {},
     "output_type": "execute_result"
    }
   ],
   "source": [
    "# Display (top 10) value counts for SelfTaughtTypes\n",
    "survey['SelfTaughtTypes'].value_counts().nlargest(10)"
   ]
  },
  {
   "cell_type": "code",
   "execution_count": 16,
   "metadata": {},
   "outputs": [
    {
     "data": {
      "text/plain": [
       "C#;JavaScript;SQL;HTML;CSS                1339\n",
       "JavaScript;PHP;SQL;HTML;CSS               1228\n",
       "Java                                      1011\n",
       "JavaScript;HTML;CSS                        870\n",
       "C#;JavaScript;SQL;TypeScript;HTML;CSS      828\n",
       "JavaScript;PHP;SQL;HTML;CSS;Bash/Shell     764\n",
       "JavaScript;PHP;HTML;CSS                    713\n",
       "Java;JavaScript;SQL;HTML;CSS               527\n",
       "C#                                         471\n",
       "JavaScript;TypeScript;HTML;CSS             390\n",
       "Name: LanguageWorkedWith, dtype: int64"
      ]
     },
     "execution_count": 16,
     "metadata": {},
     "output_type": "execute_result"
    }
   ],
   "source": [
    "# Display (top 10) value counts for LanguageWorkedWith\n",
    "survey['LanguageWorkedWith'].value_counts().nlargest(10)"
   ]
  },
  {
   "cell_type": "markdown",
   "metadata": {},
   "source": [
    "`EducationTypes`, `SelfTaughtTypes` and `LanguageWorkedWith` all contain multiple selections that have been strung together into a single string. These will need to be split apart into individual entries for analysis cases. In some cases, categories can potentially be grouped into a smaller number of categories."
   ]
  },
  {
   "cell_type": "code",
   "execution_count": 17,
   "metadata": {},
   "outputs": [
    {
     "data": {
      "text/plain": [
       "3-5 years           22918\n",
       "6-8 years           19051\n",
       "9-11 years          11973\n",
       "0-2 years           10310\n",
       "12-14 years          7905\n",
       "15-17 years          6033\n",
       "18-20 years          4969\n",
       "30 or more years     3408\n",
       "21-23 years          2602\n",
       "24-26 years          1818\n",
       "27-29 years          1034\n",
       "Name: YearsCoding, dtype: int64"
      ]
     },
     "execution_count": 17,
     "metadata": {},
     "output_type": "execute_result"
    }
   ],
   "source": [
    "# Display value counts for YearsCoding\n",
    "survey['YearsCoding'].value_counts()"
   ]
  },
  {
   "cell_type": "code",
   "execution_count": 18,
   "metadata": {},
   "outputs": [
    {
     "data": {
      "text/plain": [
       "0-2 years           23284\n",
       "3-5 years           21224\n",
       "6-8 years           11304\n",
       "9-11 years           7516\n",
       "12-14 years          4257\n",
       "15-17 years          2988\n",
       "18-20 years          2805\n",
       "21-23 years          1356\n",
       "30 or more years     1279\n",
       "24-26 years           848\n",
       "27-29 years           501\n",
       "Name: YearsCodingProf, dtype: int64"
      ]
     },
     "execution_count": 18,
     "metadata": {},
     "output_type": "execute_result"
    }
   ],
   "source": [
    "# Display value counts for YearsCodingProf\n",
    "survey['YearsCodingProf'].value_counts()"
   ]
  },
  {
   "cell_type": "markdown",
   "metadata": {},
   "source": [
    "As for `Age`, we would like to calculate summary statistics for `YearsCoding` and `YearsCodingProf`. To do so, we will need to create new numeric fields where the years coding and years coding professionally of a respondent are estimated as the mid-point of the ranges. "
   ]
  },
  {
   "cell_type": "code",
   "execution_count": 19,
   "metadata": {},
   "outputs": [
    {
     "data": {
      "text/plain": [
       "Moderately satisfied                  25854\n",
       "Extremely satisfied                   12335\n",
       "Slightly satisfied                     9962\n",
       "Slightly dissatisfied                  7007\n",
       "Moderately dissatisfied                6274\n",
       "Neither satisfied nor dissatisfied     4943\n",
       "Extremely dissatisfied                 2464\n",
       "Name: JobSatisfaction, dtype: int64"
      ]
     },
     "execution_count": 19,
     "metadata": {},
     "output_type": "execute_result"
    }
   ],
   "source": [
    "# Display value counts for JobSatisfaction\n",
    "survey['JobSatisfaction'].value_counts()"
   ]
  },
  {
   "cell_type": "code",
   "execution_count": 20,
   "metadata": {},
   "outputs": [
    {
     "data": {
      "text/plain": [
       "Moderately satisfied                  27747\n",
       "Extremely satisfied                   14213\n",
       "Slightly satisfied                    13418\n",
       "Slightly dissatisfied                  6539\n",
       "Neither satisfied nor dissatisfied     6268\n",
       "Moderately dissatisfied                5220\n",
       "Extremely dissatisfied                 2591\n",
       "Name: CareerSatisfaction, dtype: int64"
      ]
     },
     "execution_count": 20,
     "metadata": {},
     "output_type": "execute_result"
    }
   ],
   "source": [
    "# Display value counts for CareerSatisfaction\n",
    "survey['CareerSatisfaction'].value_counts()"
   ]
  },
  {
   "cell_type": "markdown",
   "metadata": {
    "collapsed": true
   },
   "source": [
    "To allow summary statistics to be calculated for `JobSatisfaction` and `CareerSatisfaction`, we can convert the satisfaction rating scale into a numeric scale where \"Extremely dissatisfied\" = 1, \"Moderately dissatisfied\" = 2, etc."
   ]
  },
  {
   "cell_type": "markdown",
   "metadata": {},
   "source": [
    "## Data Preparation"
   ]
  },
  {
   "cell_type": "markdown",
   "metadata": {},
   "source": [
    "Now that we have explored our data, the next step is to wrangle the data to adjust for the issues identified above. "
   ]
  },
  {
   "cell_type": "markdown",
   "metadata": {},
   "source": [
    "**Create Data Subsets**"
   ]
  },
  {
   "cell_type": "markdown",
   "metadata": {},
   "source": [
    "As we wish to compare data scientists with non-data scientists, we first need to split our data into data scientist and non-data scientist subsets."
   ]
  },
  {
   "cell_type": "code",
   "execution_count": 21,
   "metadata": {
    "collapsed": true
   },
   "outputs": [],
   "source": [
    "# Create data scientist and non-data scientist subsets.\n",
    "survey_ds = survey[survey['DevType'].str.contains('Data scientist') == True]\n",
    "survey_non_ds = survey[survey['DevType'].str.contains('Data scientist') == False]"
   ]
  },
  {
   "cell_type": "code",
   "execution_count": 22,
   "metadata": {},
   "outputs": [
    {
     "name": "stdout",
     "output_type": "stream",
     "text": [
      "There are 7088 rows in the data scientist subset and 85010 rows in the non-data scientist subset.\n"
     ]
    }
   ],
   "source": [
    "print('There are', len(survey_ds), 'rows in the data scientist subset and', \n",
    "      len(survey_non_ds), 'rows in the non-data scientist subset.')"
   ]
  },
  {
   "cell_type": "markdown",
   "metadata": {},
   "source": [
    "** Simplify Fields with Large Numbers of Categories/Long Category Labels**"
   ]
  },
  {
   "cell_type": "markdown",
   "metadata": {},
   "source": [
    "Simplify `Gender`, `FormalEducation` and `UndergradMajor` to reduce the length of category labels and to group similar categories into a single category."
   ]
  },
  {
   "cell_type": "code",
   "execution_count": 23,
   "metadata": {
    "collapsed": true
   },
   "outputs": [],
   "source": [
    "# Simplify Gender\n",
    "def simplify_gender(df):\n",
    "    \"\"\"Add a new field, Gender_New, to dataframe, containing simplified Gender values.\n",
    "    \n",
    "    INPUT\n",
    "    df - dataframe containing the field Gender\n",
    "       \n",
    "    OUTPUT\n",
    "    df - modified version of the input dataframe containing a new field, Gender_New\n",
    "    \"\"\"\n",
    "    conditions_gender = [(df['Gender'] == 'Male'),\n",
    "                         (df['Gender'] == 'Female'),\n",
    "                         (df['Gender'] != 'Male') & (df['Gender'] != 'Female') \n",
    "                         & (pd.isnull(df['Gender']) == False)]\n",
    "\n",
    "    choices_gender = ['Male', 'Female', 'Other']\n",
    "\n",
    "    df['Gender_New'] = np.select(conditions_gender, choices_gender, default = np.NaN)\n",
    "    \n",
    "    return df\n",
    "                \n",
    "# Apply function to subsets\n",
    "survey_ds = simplify_gender(survey_ds)\n",
    "survey_non_ds = simplify_gender(survey_non_ds)"
   ]
  },
  {
   "cell_type": "code",
   "execution_count": 24,
   "metadata": {
    "collapsed": true
   },
   "outputs": [],
   "source": [
    "# Simplify FormalEducation\n",
    "def simplify_ed(df):\n",
    "    \"\"\"Add a new field, FormalEducation_New, to dataframe, containing simplified FormalEducation values.\n",
    "    \n",
    "    INPUT\n",
    "    df - dataframe containing the field FormalEducation\n",
    "       \n",
    "    OUTPUT\n",
    "    df - modified version of the input dataframe containing a new field, FormalEducation_New\n",
    "    \"\"\"\n",
    "    conditions_ed = [(df['FormalEducation'] == 'Bachelor’s degree (BA, BS, B.Eng., etc.)'),\n",
    "                     (df['FormalEducation'] == 'Master’s degree (MA, MS, M.Eng., MBA, etc.)'),\n",
    "                     (df['FormalEducation'] == 'Professional degree (JD, MD, etc.)'),   \n",
    "                     (df['FormalEducation'] == 'Associate degree'),\n",
    "                     (df['FormalEducation'] == 'Other doctoral degree (Ph.D, Ed.D., etc.)'),\n",
    "                     (df['FormalEducation'] == 'Some college/university study without earning a degree') \n",
    "                     | (df['FormalEducation'] == 'Secondary school (e.g. American high school, German Realschule or Gymnasium, etc.)') \n",
    "                     | (df['FormalEducation'] == 'Primary/elementary school')\n",
    "                     | (df['FormalEducation'] == 'I never completed any formal education')]\n",
    "\n",
    "    choices_ed = ['Bachelors', 'Masters', 'Professional', 'Associate', 'Doctorate', 'No Degree']\n",
    "\n",
    "    df['FormalEducation_New'] = np.select(conditions_ed, choices_ed, default = np.NaN)\n",
    "    \n",
    "    return df\n",
    "\n",
    "# Apply function to subsets\n",
    "survey_ds = simplify_ed(survey_ds)\n",
    "survey_non_ds = simplify_ed(survey_non_ds)"
   ]
  },
  {
   "cell_type": "code",
   "execution_count": 25,
   "metadata": {
    "collapsed": true
   },
   "outputs": [],
   "source": [
    "# Simplify Undergraduate Major\n",
    "def simplify_major(df):\n",
    "    \"\"\"Add a new field, UndergradMajor_New, to dataframe, containing simplified UndergradMajor values.\n",
    "    \n",
    "    INPUT\n",
    "    df - dataframe containing the field UndergradMajor\n",
    "       \n",
    "    OUTPUT\n",
    "    df - modified version of the input dataframe containing a new field, UndergradMajor_New\n",
    "    \"\"\"\n",
    "    conditions_major = [(df['UndergradMajor'] == 'Computer science, computer engineering, or software engineering'),\n",
    "                        (df['UndergradMajor'] == 'Another engineering discipline (ex. civil, electrical, mechanical)'),\n",
    "                        (df['UndergradMajor'] == 'Information systems, information technology, or system administration'),\n",
    "                        (df['UndergradMajor'] == 'Mathematics or statistics'),\n",
    "                        (df['UndergradMajor'] == 'A natural science (ex. biology, chemistry, physics)')\n",
    "                        |(df['UndergradMajor'] == 'A health science (ex. nursing, pharmacy, radiology)'),\n",
    "                        (df['UndergradMajor'] == 'Web development or web design'),\n",
    "                        (df['UndergradMajor'] == 'A business discipline (ex. accounting, finance, marketing)'),\n",
    "                        (df['UndergradMajor'] == 'A humanities discipline (ex. literature, history, philosophy)')\n",
    "                        | (df['UndergradMajor'] == 'A social science (ex. anthropology, psychology, political science)')\n",
    "                        | (df['UndergradMajor'] == 'Fine arts or performing arts (ex. graphic design, music, studio art)')]\n",
    "\n",
    "    choices_major = ['Computer Science', 'Engineering', 'IT/Info Systems', 'Math/Statistics', 'Other Science',\n",
    "                     'Web Design/Development', 'Business', 'Arts/Humanities/Social Science']\n",
    "\n",
    "    df['UndergradMajor_New'] = np.select(conditions_major, choices_major, default = np.NaN)\n",
    "    \n",
    "    return df\n",
    "\n",
    "# Apply function to subsets\n",
    "survey_ds = simplify_major(survey_ds)\n",
    "survey_non_ds = simplify_major(survey_non_ds)"
   ]
  },
  {
   "cell_type": "markdown",
   "metadata": {},
   "source": [
    "**Convert Ranges to Single Numeric Values**"
   ]
  },
  {
   "cell_type": "markdown",
   "metadata": {},
   "source": [
    "Create new fields that replace the ranges for `Age`, `YearsCoding` and `YearsCodingProf` with single numeric values that are the mid-point of the ranges."
   ]
  },
  {
   "cell_type": "code",
   "execution_count": 26,
   "metadata": {
    "collapsed": true
   },
   "outputs": [],
   "source": [
    "# Convert Age to numeric\n",
    "def convert_age(df):\n",
    "    \"\"\"Add a new field, Age_Num, to dataframe, containing numeric values equivalent to the midpoints of the corresponding\n",
    "    Age range values.\n",
    "    \n",
    "    INPUT\n",
    "    df - dataframe containing the field Age\n",
    "       \n",
    "    OUTPUT\n",
    "    df - modified version of the input dataframe containing a new field, Age_Num\n",
    "    \"\"\"\n",
    "    conditions_age = [(df['Age'] == 'Under 18 years old'),\n",
    "                      (df['Age'] == '18 - 24 years old'),\n",
    "                      (df['Age'] == '25 - 34 years old'),\n",
    "                      (df['Age'] == '35 - 44 years old'),\n",
    "                      (df['Age'] == '45 - 54 years old'),\n",
    "                      (df['Age'] == '55 - 64 years old'),\n",
    "                      (df['Age'] == '65 years or older')]\n",
    "\n",
    "    choices_age = [16, 21, 29.5, 39.5, 49.5, 59.5, 69.5]\n",
    "\n",
    "    df['Age_Num'] = np.select(conditions_age, choices_age, default = np.NaN)\n",
    "    \n",
    "    return df\n",
    "\n",
    "# Apply function to subsets\n",
    "survey_ds = convert_age(survey_ds)\n",
    "survey_non_ds = convert_age(survey_non_ds)"
   ]
  },
  {
   "cell_type": "code",
   "execution_count": 27,
   "metadata": {
    "collapsed": true
   },
   "outputs": [],
   "source": [
    "# Convert YearsCoding and YearsCodingProf to numeric\n",
    "def convert_coding(df, col, new_col):\n",
    "    \"\"\"Add a new field, new_col, to dataframe, containing numeric values equivalent to the midpoints of the corresponding\n",
    "    col range values.\n",
    "    \n",
    "    INPUT\n",
    "    df - dataframe containing the field col\n",
    "       \n",
    "    OUTPUT\n",
    "    df - modified version of the input dataframe containing a new field, new_col\n",
    "    \"\"\"\n",
    "    conditions_coding = [(df[col] == '0-2 years'),\n",
    "                         (df[col] == '3-5 years'),\n",
    "                         (df[col] == '6-8 years'),\n",
    "                         (df[col] == '9-11 years'),\n",
    "                         (df[col] == '12-14 years'),\n",
    "                         (df[col] == '15-17 years'),\n",
    "                         (df[col] == '18-20 years'),\n",
    "                         (df[col] == '21-23 years'),\n",
    "                         (df[col] == '24-26 years'),\n",
    "                         (df[col] == '27-29 years'),\n",
    "                         (df[col] == '30 or more years')]\n",
    "    \n",
    "    choices_coding = [1, 4, 7, 10, 13, 16, 19, 22, 25, 28, 31]\n",
    "    \n",
    "    df[new_col] = np.select(conditions_coding, choices_coding, default = np.NaN)\n",
    "    \n",
    "    return df\n",
    "\n",
    "# Apply function to subsets\n",
    "survey_ds = convert_coding(survey_ds, 'YearsCoding', 'YearsCoding_Num')\n",
    "survey_ds = convert_coding(survey_ds, 'YearsCodingProf', 'YearsCodingProf_Num')\n",
    "\n",
    "survey_non_ds = convert_coding(survey_non_ds, 'YearsCoding', 'YearsCoding_Num')\n",
    "survey_non_ds = convert_coding(survey_non_ds, 'YearsCodingProf', 'YearsCodingProf_Num')"
   ]
  },
  {
   "cell_type": "markdown",
   "metadata": {},
   "source": [
    "** Convert Satisfaction Scales to Numeric Values**"
   ]
  },
  {
   "cell_type": "markdown",
   "metadata": {},
   "source": [
    "Create new fields that replace the categorical `JobSatisfaction` and `CareerSatisfaction` scales with numeric scales."
   ]
  },
  {
   "cell_type": "code",
   "execution_count": 28,
   "metadata": {
    "collapsed": true
   },
   "outputs": [],
   "source": [
    "# Convert satisfaction scales to numeric scales\n",
    "def convert_scale(df, col, new_col):\n",
    "    \"\"\"Add a new field, new_col, to dataframe, containing numeric equivalents to the categorical scale reflected in col\n",
    "    \n",
    "    INPUT\n",
    "    df - dataframe containing the field col\n",
    "       \n",
    "    OUTPUT\n",
    "    df - modified version of the input dataframe containing a new field, new_col\n",
    "    \"\"\"\n",
    "    conditions_sat = [(df[col] == 'Extremely dissatisfied'),\n",
    "                     (df[col] == 'Moderately dissatisfied'),\n",
    "                     (df[col] == 'Slightly dissatisfied'),\n",
    "                     (df[col] == 'Neither satisfied nor dissatisfied'),\n",
    "                     (df[col] == 'Slightly satisfied'),\n",
    "                     (df[col] == 'Moderately satisfied'),\n",
    "                     (df[col] == 'Extremely satisfied')]\n",
    "    \n",
    "    choices_sat = [1, 2, 3, 4, 5, 6, 7]\n",
    "    \n",
    "    df[new_col] = np.select(conditions_sat, choices_sat, default = np.NaN)\n",
    "    \n",
    "    return df\n",
    "\n",
    "# Apply function to subsets\n",
    "survey_ds = convert_scale(survey_ds, 'JobSatisfaction', 'JobSatisfaction_Num')\n",
    "survey_ds = convert_scale(survey_ds, 'CareerSatisfaction', 'CareerSatisfaction_Num')\n",
    "\n",
    "survey_non_ds = convert_scale(survey_non_ds, 'JobSatisfaction', 'JobSatisfaction_Num')\n",
    "survey_non_ds = convert_scale(survey_non_ds, 'CareerSatisfaction', 'CareerSatisfaction_Num')"
   ]
  },
  {
   "cell_type": "markdown",
   "metadata": {},
   "source": [
    "** Split Multi-Selection Fields**"
   ]
  },
  {
   "cell_type": "markdown",
   "metadata": {},
   "source": [
    "For the fields where multiple selections were possible (i.e. `EducationTypes`, `SelfTaughtTypes` and `LanguageWorkedWith`), split the strings containing the multiple selections into a list of selections and then concatenate these lists into a single list (dropping any missing values in the process). In the case of `EducationTypes` and `SelfTaughtTypes`, also simplify these fields to reduce the length of category labels and to group similar categories into a single category."
   ]
  },
  {
   "cell_type": "code",
   "execution_count": 33,
   "metadata": {
    "collapsed": true
   },
   "outputs": [],
   "source": [
    "# Create dataframe containing split string values by respondent number\n",
    "def split_list(df, col):\n",
    "    \"\"\"Create a new dataframe that splits the values of multi-selection column col into individual selections and \n",
    "    places each selection value on a separate row. This new dataframe can be linked back to the original dataframe by \n",
    "    Respondent value.\n",
    "    \n",
    "    INPUT\n",
    "    df - dataframe containing the multi-selection field col\n",
    "       \n",
    "    OUTPUT\n",
    "    out_df - new dataframe giving split values of col\n",
    "    \"\"\"\n",
    "    in_res = list(df['Respondent'])\n",
    "    in_list = list(df[col])\n",
    "    \n",
    "    out_res = []\n",
    "    out_list = []\n",
    "    \n",
    "    for i in range(len(in_list)):\n",
    "        if pd.isnull(in_list[i]) == False:\n",
    "            vals = in_list[i].split(';')\n",
    "            res = [in_res[i]]*len(vals)\n",
    "            \n",
    "            out_list.append(vals)\n",
    "            out_res.append(res)\n",
    "    \n",
    "    out_df = pd.DataFrame({'Respondent': list(np.concatenate(out_res)), col: list(np.concatenate(out_list))})\n",
    "    \n",
    "    return out_df"
   ]
  },
  {
   "cell_type": "code",
   "execution_count": 40,
   "metadata": {
    "collapsed": true
   },
   "outputs": [],
   "source": [
    "# Split EducationTypes\n",
    "ed_types_ds = split_list(survey_ds, 'EducationTypes')\n",
    "ed_types_non_ds = split_list(survey_non_ds, 'EducationTypes')\n",
    "    \n",
    "# Simplify category labels\n",
    "def convert_ed_type(df):\n",
    "    \"\"\"Add a new field, EducationTypes_New, to dataframe, containing simplified EducationTypes values.\n",
    "    \n",
    "    INPUT\n",
    "    df - dataframe containing the field EducationTypes\n",
    "       \n",
    "    OUTPUT\n",
    "    df - modified version of the input dataframe containing a new field, EducationTypes_New\n",
    "    \"\"\"\n",
    "    conditions_edtype = [(df['EducationTypes'] == 'Taken a part-time in-person course in programming or software development'),\n",
    "                         (df['EducationTypes'] == 'Taken an online course in programming or software development (e.g. a MOOC)'),\n",
    "                         (df['EducationTypes'] == 'Completed an industry certification program (e.g. MCPD)'),\n",
    "                         (df['EducationTypes'] == 'Participated in online coding competitions (e.g. HackerRank, CodeChef, TopCoder)'),\n",
    "                         (df['EducationTypes'] == 'Contributed to open source software'), \n",
    "                         (df['EducationTypes'] == 'Taught yourself a new language, framework, or tool without taking a formal course'),\n",
    "                         (df['EducationTypes'] == 'Participated in a hackathon'),\n",
    "                         (df['EducationTypes'] == 'Received on-the-job training in software development'),\n",
    "                         (df['EducationTypes'] == 'Participated in a full-time developer training program or bootcamp')]  \n",
    "    \n",
    "    choices_edtype = ['Part Time In-Person Course', 'Online Course', 'Industry Certification', \n",
    "                      'Online Coding Competition', 'Open Source', 'Self Taught',\n",
    "                      'Hackathon', 'On-the-Job Training', 'Full Time Course/Bootcamp']\n",
    "\n",
    "    df['EducationTypes_New'] = np.select(conditions_edtype, choices_edtype, default = np.NaN)\n",
    "    \n",
    "    return df\n",
    "\n",
    "ed_types_ds = convert_ed_type(ed_types_ds)\n",
    "ed_types_non_ds = convert_ed_type(ed_types_non_ds)"
   ]
  },
  {
   "cell_type": "code",
   "execution_count": 38,
   "metadata": {
    "collapsed": true
   },
   "outputs": [],
   "source": [
    "# Split LanguageWorkedWith\n",
    "languages_ds = split_list(survey_ds, 'LanguageWorkedWith')\n",
    "languages_non_ds = split_list(survey_non_ds, 'LanguageWorkedWith')"
   ]
  },
  {
   "cell_type": "code",
   "execution_count": 41,
   "metadata": {
    "collapsed": true
   },
   "outputs": [],
   "source": [
    "# Split SelfTaughtTypes and simplify/rationalize category labels\n",
    "def convert_self_type(data):\n",
    "    \"\"\"Take a list of SelfTaughtTypes selection values and create a new list containing simplified version of these values.\n",
    "    \n",
    "    INPUT\n",
    "    data - list containing SelfTaughtTypes selections\n",
    "       \n",
    "    OUTPUT\n",
    "    new_data - modified version of the input list containing simplified SelfTaughtTypes selections\n",
    "    \"\"\"\n",
    "    temp = np.array(data)\n",
    "    conditions_selftype = [(temp == 'A college/university computer science or software engineering book')\n",
    "                            |(temp == 'A book or e-book from O’Reilly, Apress, or a similar publisher'),\n",
    "                           (temp == 'The official documentation and/or standards for the technology')\n",
    "                           |(temp == 'The technology’s online help system'),\n",
    "                           (temp == 'Tapping your network of friends, family, and peers versed in the technology')\n",
    "                           |(temp == 'Pre-scheduled tutoring or mentoring sessions with a friend or colleague'),\n",
    "                           (temp == 'Internal Wikis, chat rooms, or documentation set up by my company for employees'),\n",
    "                           (temp == 'Online developer communities other than Stack Overflow (ex. forums, listservs, IRC channels, etc.)')\n",
    "                           |(temp == 'Questions & answers on Stack Overflow')]\n",
    "    \n",
    "    \n",
    "    choices_selftype = ['Textbook', 'Official Documentation/Help', 'Friends/Peers', \n",
    "                        'Company Resources', 'Online Community']\n",
    "\n",
    "    new_data = np.select(conditions_selftype, choices_selftype, default = np.NaN)\n",
    "    return new_data\n",
    "\n",
    "def process_self_type(df):\n",
    "    \"\"\"Create a new dataframe that splits the values of multi-selection column SelfTaughtTypes into individual selections and \n",
    "    places each selection value on a separate row, simplifying the values at the same time. This new dataframe can be linked \n",
    "    back to the original dataframe by Respondent value.\n",
    "    \n",
    "    INPUT\n",
    "    df - dataframe containing the multi-selection field SelfTaughtTypes\n",
    "       \n",
    "    OUTPUT\n",
    "    out_df - new dataframe giving split values of SelfTaughtTypes\n",
    "    \"\"\"\n",
    "    in_res = list(df['Respondent'])\n",
    "    in_list = list(df['SelfTaughtTypes'])\n",
    "    \n",
    "    out_res = []\n",
    "    out_list = []\n",
    "    \n",
    "    for i in range(len(in_list)):\n",
    "        if pd.isnull(in_list[i]) == False:\n",
    "            vals = list(set(convert_self_type(in_list[i].split(';'))))\n",
    "            res = [in_res[i]]*len(vals)\n",
    "            \n",
    "            out_list.append(vals)\n",
    "            out_res.append(res)\n",
    "    \n",
    "    out_df = pd.DataFrame({'Respondent': list(np.concatenate(out_res)), 'SelfTaughtTypes': list(np.concatenate(out_list))})\n",
    "    \n",
    "    return out_df\n",
    "\n",
    "# Apply function to subsets\n",
    "self_types_ds = process_self_type(survey_ds)\n",
    "self_types_non_ds = process_self_type(survey_non_ds)"
   ]
  },
  {
   "cell_type": "markdown",
   "metadata": {},
   "source": [
    "** Missing Values**"
   ]
  },
  {
   "cell_type": "markdown",
   "metadata": {},
   "source": [
    "In the previous section we identified that all of the fields under consideration contain some missing values. As we do not intent to build any ML models with this data, rather most of our analysis will take the form of univariate statistical analysis, it is not necessary to impute these missing values. Instead, we will just exclude the missing values from any calculations. This will be done in the analysis section, since many of the statistical functions we intend to use already have built in functionality to allow for the exclusion of missing values. When this is not the case, we will exclude the missing values manually on a case by case basis. "
   ]
  },
  {
   "cell_type": "markdown",
   "metadata": {
    "collapsed": true
   },
   "source": [
    "## Data Analysis"
   ]
  },
  {
   "cell_type": "markdown",
   "metadata": {},
   "source": [
    "Now that we have processed our data, our next step is to apply statistical analysis techniques to this processed data in order to answer our research questions."
   ]
  },
  {
   "cell_type": "markdown",
   "metadata": {},
   "source": [
    "### 1. How does the demographic profile of data scientists differ from that of non-data scientists?"
   ]
  },
  {
   "cell_type": "markdown",
   "metadata": {},
   "source": [
    "**Gender**"
   ]
  },
  {
   "cell_type": "code",
   "execution_count": 57,
   "metadata": {},
   "outputs": [
    {
     "name": "stdout",
     "output_type": "stream",
     "text": [
      "            Respondent\n",
      "Gender_New            \n",
      "Female             350\n",
      "Male              4568\n",
      "Other               96\n",
      "            Respondent\n",
      "Gender_New            \n",
      "Female        0.069805\n",
      "Male          0.911049\n",
      "Other         0.019146\n"
     ]
    }
   ],
   "source": [
    "# Compare the gender profile of the two subsets\n",
    "# Get proportion of dataset by category\n",
    "def get_proportions(df, col):\n",
    "    \n",
    "    # Summarize by column value\n",
    "    summary = df[['Respondent', col]].groupby([col]).count()\n",
    "    \n",
    "    # Drop NaN values\n",
    "    summary = summary.drop('nan')\n",
    "\n",
    "    # Convert sums to proportions\n",
    "    props = summary/summary['Respondent'].sum()\n",
    "    \n",
    "    return props\n",
    "\n",
    "# Create summary dataset for comparing the two subsets\n",
    "def create_summary(df_ds, df_non_ds, col):\n",
    "    # Get proportions for each subset\n",
    "    props_ds = get_proportions(survey_ds, col)\n",
    "    props_non_ds = get_proportions(survey_non_ds, col)\n",
    "create_summary(survey_ds, survey_non_ds, 'Gender_New')"
   ]
  },
  {
   "cell_type": "markdown",
   "metadata": {},
   "source": [
    "** Age**"
   ]
  },
  {
   "cell_type": "code",
   "execution_count": null,
   "metadata": {
    "collapsed": true
   },
   "outputs": [],
   "source": []
  },
  {
   "cell_type": "markdown",
   "metadata": {},
   "source": [
    "### 2. What programming languages do data scientists favour and how do they differ from those used by non-data scientists?"
   ]
  },
  {
   "cell_type": "code",
   "execution_count": null,
   "metadata": {
    "collapsed": true
   },
   "outputs": [],
   "source": []
  },
  {
   "cell_type": "markdown",
   "metadata": {},
   "source": [
    "### 3. How much coding experience do data scientists have compared to non-data scientists?"
   ]
  },
  {
   "cell_type": "code",
   "execution_count": null,
   "metadata": {
    "collapsed": true
   },
   "outputs": [],
   "source": []
  },
  {
   "cell_type": "markdown",
   "metadata": {},
   "source": [
    "### 4. Are data scientists more satisfied with their jobs/careers than non-data scientists?"
   ]
  },
  {
   "cell_type": "code",
   "execution_count": null,
   "metadata": {
    "collapsed": true
   },
   "outputs": [],
   "source": []
  },
  {
   "cell_type": "markdown",
   "metadata": {},
   "source": [
    "## Results"
   ]
  },
  {
   "cell_type": "code",
   "execution_count": null,
   "metadata": {
    "collapsed": true
   },
   "outputs": [],
   "source": []
  }
 ],
 "metadata": {
  "kernelspec": {
   "display_name": "Python [default]",
   "language": "python",
   "name": "python3"
  },
  "language_info": {
   "codemirror_mode": {
    "name": "ipython",
    "version": 3
   },
   "file_extension": ".py",
   "mimetype": "text/x-python",
   "name": "python",
   "nbconvert_exporter": "python",
   "pygments_lexer": "ipython3",
   "version": "3.6.2"
  }
 },
 "nbformat": 4,
 "nbformat_minor": 2
}
